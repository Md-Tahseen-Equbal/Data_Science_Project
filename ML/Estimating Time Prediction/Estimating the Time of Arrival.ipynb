{
 "cells": [
  {
   "cell_type": "markdown",
   "id": "06aa4604",
   "metadata": {},
   "source": [
    "## Importing the Libraries"
   ]
  },
  {
   "cell_type": "code",
   "execution_count": 1,
   "id": "d751928d",
   "metadata": {},
   "outputs": [],
   "source": [
    "import pandas as pd"
   ]
  },
  {
   "cell_type": "markdown",
   "id": "21c16b6d",
   "metadata": {},
   "source": [
    "## Importing the Data"
   ]
  },
  {
   "cell_type": "code",
   "execution_count": 10,
   "id": "ff6d4719",
   "metadata": {},
   "outputs": [],
   "source": [
    "df  = pd.read_csv(r\"C:\\Users\\DELL\\Downloads\\hyderabad_eta_data.csv\")"
   ]
  },
  {
   "cell_type": "code",
   "execution_count": 11,
   "id": "a9fbf75d",
   "metadata": {},
   "outputs": [
    {
     "data": {
      "text/html": [
       "<div>\n",
       "<style scoped>\n",
       "    .dataframe tbody tr th:only-of-type {\n",
       "        vertical-align: middle;\n",
       "    }\n",
       "\n",
       "    .dataframe tbody tr th {\n",
       "        vertical-align: top;\n",
       "    }\n",
       "\n",
       "    .dataframe thead th {\n",
       "        text-align: right;\n",
       "    }\n",
       "</style>\n",
       "<table border=\"1\" class=\"dataframe\">\n",
       "  <thead>\n",
       "    <tr style=\"text-align: right;\">\n",
       "      <th></th>\n",
       "      <th>start_lat</th>\n",
       "      <th>start_lng</th>\n",
       "      <th>end_lat</th>\n",
       "      <th>end_lng</th>\n",
       "      <th>distance_km</th>\n",
       "      <th>traffic_density</th>\n",
       "      <th>weather_condition</th>\n",
       "      <th>day_of_week</th>\n",
       "      <th>hour_of_day</th>\n",
       "      <th>ETA</th>\n",
       "    </tr>\n",
       "  </thead>\n",
       "  <tbody>\n",
       "    <tr>\n",
       "      <th>0</th>\n",
       "      <td>17.312362</td>\n",
       "      <td>78.355540</td>\n",
       "      <td>17.278512</td>\n",
       "      <td>78.501811</td>\n",
       "      <td>17.587880</td>\n",
       "      <td>3</td>\n",
       "      <td>rainy</td>\n",
       "      <td>3</td>\n",
       "      <td>17</td>\n",
       "      <td>26.113020</td>\n",
       "    </tr>\n",
       "    <tr>\n",
       "      <th>1</th>\n",
       "      <td>17.485214</td>\n",
       "      <td>78.462570</td>\n",
       "      <td>17.274094</td>\n",
       "      <td>78.539004</td>\n",
       "      <td>24.357538</td>\n",
       "      <td>8</td>\n",
       "      <td>clear</td>\n",
       "      <td>5</td>\n",
       "      <td>14</td>\n",
       "      <td>58.715248</td>\n",
       "    </tr>\n",
       "    <tr>\n",
       "      <th>2</th>\n",
       "      <td>17.419598</td>\n",
       "      <td>78.561884</td>\n",
       "      <td>17.471876</td>\n",
       "      <td>78.375140</td>\n",
       "      <td>23.044667</td>\n",
       "      <td>7</td>\n",
       "      <td>rainy</td>\n",
       "      <td>6</td>\n",
       "      <td>8</td>\n",
       "      <td>59.316409</td>\n",
       "    </tr>\n",
       "    <tr>\n",
       "      <th>3</th>\n",
       "      <td>17.379598</td>\n",
       "      <td>78.519667</td>\n",
       "      <td>17.274864</td>\n",
       "      <td>78.487462</td>\n",
       "      <td>5.463097</td>\n",
       "      <td>3</td>\n",
       "      <td>clear</td>\n",
       "      <td>2</td>\n",
       "      <td>17</td>\n",
       "      <td>35.630253</td>\n",
       "    </tr>\n",
       "    <tr>\n",
       "      <th>4</th>\n",
       "      <td>17.246806</td>\n",
       "      <td>78.541968</td>\n",
       "      <td>17.281585</td>\n",
       "      <td>78.471524</td>\n",
       "      <td>5.328235</td>\n",
       "      <td>6</td>\n",
       "      <td>clear</td>\n",
       "      <td>1</td>\n",
       "      <td>2</td>\n",
       "      <td>56.713490</td>\n",
       "    </tr>\n",
       "  </tbody>\n",
       "</table>\n",
       "</div>"
      ],
      "text/plain": [
       "   start_lat  start_lng    end_lat    end_lng  distance_km  traffic_density  \\\n",
       "0  17.312362  78.355540  17.278512  78.501811    17.587880                3   \n",
       "1  17.485214  78.462570  17.274094  78.539004    24.357538                8   \n",
       "2  17.419598  78.561884  17.471876  78.375140    23.044667                7   \n",
       "3  17.379598  78.519667  17.274864  78.487462     5.463097                3   \n",
       "4  17.246806  78.541968  17.281585  78.471524     5.328235                6   \n",
       "\n",
       "  weather_condition  day_of_week  hour_of_day        ETA  \n",
       "0             rainy            3           17  26.113020  \n",
       "1             clear            5           14  58.715248  \n",
       "2             rainy            6            8  59.316409  \n",
       "3             clear            2           17  35.630253  \n",
       "4             clear            1            2  56.713490  "
      ]
     },
     "execution_count": 11,
     "metadata": {},
     "output_type": "execute_result"
    }
   ],
   "source": [
    "df.head()"
   ]
  },
  {
   "cell_type": "markdown",
   "id": "86109522",
   "metadata": {},
   "source": [
    "### Data Prepocessing"
   ]
  },
  {
   "cell_type": "markdown",
   "id": "efc75d73",
   "metadata": {},
   "source": [
    "##### EDA"
   ]
  },
  {
   "cell_type": "code",
   "execution_count": 12,
   "id": "84a06c0f",
   "metadata": {},
   "outputs": [
    {
     "data": {
      "text/plain": [
       "start_lat            0\n",
       "start_lng            0\n",
       "end_lat              0\n",
       "end_lng              0\n",
       "distance_km          0\n",
       "traffic_density      0\n",
       "weather_condition    0\n",
       "day_of_week          0\n",
       "hour_of_day          0\n",
       "ETA                  0\n",
       "dtype: int64"
      ]
     },
     "execution_count": 12,
     "metadata": {},
     "output_type": "execute_result"
    }
   ],
   "source": [
    "df.isna().sum()"
   ]
  },
  {
   "cell_type": "code",
   "execution_count": 13,
   "id": "516ac803",
   "metadata": {},
   "outputs": [
    {
     "data": {
      "text/plain": [
       "0"
      ]
     },
     "execution_count": 13,
     "metadata": {},
     "output_type": "execute_result"
    }
   ],
   "source": [
    "df.duplicated().sum()"
   ]
  },
  {
   "cell_type": "code",
   "execution_count": 14,
   "id": "efb10cf0",
   "metadata": {},
   "outputs": [
    {
     "data": {
      "text/html": [
       "<div>\n",
       "<style scoped>\n",
       "    .dataframe tbody tr th:only-of-type {\n",
       "        vertical-align: middle;\n",
       "    }\n",
       "\n",
       "    .dataframe tbody tr th {\n",
       "        vertical-align: top;\n",
       "    }\n",
       "\n",
       "    .dataframe thead th {\n",
       "        text-align: right;\n",
       "    }\n",
       "</style>\n",
       "<table border=\"1\" class=\"dataframe\">\n",
       "  <thead>\n",
       "    <tr style=\"text-align: right;\">\n",
       "      <th></th>\n",
       "      <th>start_lat</th>\n",
       "      <th>start_lng</th>\n",
       "      <th>end_lat</th>\n",
       "      <th>end_lng</th>\n",
       "      <th>distance_km</th>\n",
       "      <th>traffic_density</th>\n",
       "      <th>day_of_week</th>\n",
       "      <th>hour_of_day</th>\n",
       "      <th>ETA</th>\n",
       "    </tr>\n",
       "  </thead>\n",
       "  <tbody>\n",
       "    <tr>\n",
       "      <th>start_lat</th>\n",
       "      <td>1.000000</td>\n",
       "      <td>0.029310</td>\n",
       "      <td>0.014518</td>\n",
       "      <td>-0.029424</td>\n",
       "      <td>0.034785</td>\n",
       "      <td>-0.024754</td>\n",
       "      <td>0.055406</td>\n",
       "      <td>-0.014557</td>\n",
       "      <td>-0.030701</td>\n",
       "    </tr>\n",
       "    <tr>\n",
       "      <th>start_lng</th>\n",
       "      <td>0.029310</td>\n",
       "      <td>1.000000</td>\n",
       "      <td>0.027262</td>\n",
       "      <td>-0.005791</td>\n",
       "      <td>0.032911</td>\n",
       "      <td>0.000297</td>\n",
       "      <td>-0.048353</td>\n",
       "      <td>0.014242</td>\n",
       "      <td>-0.007978</td>\n",
       "    </tr>\n",
       "    <tr>\n",
       "      <th>end_lat</th>\n",
       "      <td>0.014518</td>\n",
       "      <td>0.027262</td>\n",
       "      <td>1.000000</td>\n",
       "      <td>-0.013560</td>\n",
       "      <td>-0.008858</td>\n",
       "      <td>-0.014043</td>\n",
       "      <td>-0.057856</td>\n",
       "      <td>-0.006245</td>\n",
       "      <td>0.061752</td>\n",
       "    </tr>\n",
       "    <tr>\n",
       "      <th>end_lng</th>\n",
       "      <td>-0.029424</td>\n",
       "      <td>-0.005791</td>\n",
       "      <td>-0.013560</td>\n",
       "      <td>1.000000</td>\n",
       "      <td>-0.044812</td>\n",
       "      <td>0.034494</td>\n",
       "      <td>0.017789</td>\n",
       "      <td>-0.012494</td>\n",
       "      <td>0.009425</td>\n",
       "    </tr>\n",
       "    <tr>\n",
       "      <th>distance_km</th>\n",
       "      <td>0.034785</td>\n",
       "      <td>0.032911</td>\n",
       "      <td>-0.008858</td>\n",
       "      <td>-0.044812</td>\n",
       "      <td>1.000000</td>\n",
       "      <td>-0.031475</td>\n",
       "      <td>0.066093</td>\n",
       "      <td>0.022646</td>\n",
       "      <td>-0.008686</td>\n",
       "    </tr>\n",
       "    <tr>\n",
       "      <th>traffic_density</th>\n",
       "      <td>-0.024754</td>\n",
       "      <td>0.000297</td>\n",
       "      <td>-0.014043</td>\n",
       "      <td>0.034494</td>\n",
       "      <td>-0.031475</td>\n",
       "      <td>1.000000</td>\n",
       "      <td>-0.010457</td>\n",
       "      <td>0.018572</td>\n",
       "      <td>-0.009196</td>\n",
       "    </tr>\n",
       "    <tr>\n",
       "      <th>day_of_week</th>\n",
       "      <td>0.055406</td>\n",
       "      <td>-0.048353</td>\n",
       "      <td>-0.057856</td>\n",
       "      <td>0.017789</td>\n",
       "      <td>0.066093</td>\n",
       "      <td>-0.010457</td>\n",
       "      <td>1.000000</td>\n",
       "      <td>0.020010</td>\n",
       "      <td>0.072280</td>\n",
       "    </tr>\n",
       "    <tr>\n",
       "      <th>hour_of_day</th>\n",
       "      <td>-0.014557</td>\n",
       "      <td>0.014242</td>\n",
       "      <td>-0.006245</td>\n",
       "      <td>-0.012494</td>\n",
       "      <td>0.022646</td>\n",
       "      <td>0.018572</td>\n",
       "      <td>0.020010</td>\n",
       "      <td>1.000000</td>\n",
       "      <td>0.009233</td>\n",
       "    </tr>\n",
       "    <tr>\n",
       "      <th>ETA</th>\n",
       "      <td>-0.030701</td>\n",
       "      <td>-0.007978</td>\n",
       "      <td>0.061752</td>\n",
       "      <td>0.009425</td>\n",
       "      <td>-0.008686</td>\n",
       "      <td>-0.009196</td>\n",
       "      <td>0.072280</td>\n",
       "      <td>0.009233</td>\n",
       "      <td>1.000000</td>\n",
       "    </tr>\n",
       "  </tbody>\n",
       "</table>\n",
       "</div>"
      ],
      "text/plain": [
       "                 start_lat  start_lng   end_lat   end_lng  distance_km  \\\n",
       "start_lat         1.000000   0.029310  0.014518 -0.029424     0.034785   \n",
       "start_lng         0.029310   1.000000  0.027262 -0.005791     0.032911   \n",
       "end_lat           0.014518   0.027262  1.000000 -0.013560    -0.008858   \n",
       "end_lng          -0.029424  -0.005791 -0.013560  1.000000    -0.044812   \n",
       "distance_km       0.034785   0.032911 -0.008858 -0.044812     1.000000   \n",
       "traffic_density  -0.024754   0.000297 -0.014043  0.034494    -0.031475   \n",
       "day_of_week       0.055406  -0.048353 -0.057856  0.017789     0.066093   \n",
       "hour_of_day      -0.014557   0.014242 -0.006245 -0.012494     0.022646   \n",
       "ETA              -0.030701  -0.007978  0.061752  0.009425    -0.008686   \n",
       "\n",
       "                 traffic_density  day_of_week  hour_of_day       ETA  \n",
       "start_lat              -0.024754     0.055406    -0.014557 -0.030701  \n",
       "start_lng               0.000297    -0.048353     0.014242 -0.007978  \n",
       "end_lat                -0.014043    -0.057856    -0.006245  0.061752  \n",
       "end_lng                 0.034494     0.017789    -0.012494  0.009425  \n",
       "distance_km            -0.031475     0.066093     0.022646 -0.008686  \n",
       "traffic_density         1.000000    -0.010457     0.018572 -0.009196  \n",
       "day_of_week            -0.010457     1.000000     0.020010  0.072280  \n",
       "hour_of_day             0.018572     0.020010     1.000000  0.009233  \n",
       "ETA                    -0.009196     0.072280     0.009233  1.000000  "
      ]
     },
     "execution_count": 14,
     "metadata": {},
     "output_type": "execute_result"
    }
   ],
   "source": [
    "df.corr(numeric_only=True)"
   ]
  },
  {
   "cell_type": "markdown",
   "id": "f101d39d",
   "metadata": {},
   "source": [
    "### Data Cleaning"
   ]
  },
  {
   "cell_type": "markdown",
   "id": "46cf4bb8",
   "metadata": {},
   "source": [
    "### Feature engineering"
   ]
  },
  {
   "cell_type": "code",
   "execution_count": 16,
   "id": "ddbc2d00",
   "metadata": {},
   "outputs": [
    {
     "data": {
      "text/html": [
       "<div>\n",
       "<style scoped>\n",
       "    .dataframe tbody tr th:only-of-type {\n",
       "        vertical-align: middle;\n",
       "    }\n",
       "\n",
       "    .dataframe tbody tr th {\n",
       "        vertical-align: top;\n",
       "    }\n",
       "\n",
       "    .dataframe thead th {\n",
       "        text-align: right;\n",
       "    }\n",
       "</style>\n",
       "<table border=\"1\" class=\"dataframe\">\n",
       "  <thead>\n",
       "    <tr style=\"text-align: right;\">\n",
       "      <th></th>\n",
       "      <th>start_lat</th>\n",
       "      <th>start_lng</th>\n",
       "      <th>end_lat</th>\n",
       "      <th>end_lng</th>\n",
       "      <th>distance_km</th>\n",
       "      <th>traffic_density</th>\n",
       "      <th>weather_condition</th>\n",
       "      <th>day_of_week</th>\n",
       "      <th>hour_of_day</th>\n",
       "      <th>ETA</th>\n",
       "    </tr>\n",
       "  </thead>\n",
       "  <tbody>\n",
       "    <tr>\n",
       "      <th>0</th>\n",
       "      <td>17.312362</td>\n",
       "      <td>78.355540</td>\n",
       "      <td>17.278512</td>\n",
       "      <td>78.501811</td>\n",
       "      <td>17.587880</td>\n",
       "      <td>3</td>\n",
       "      <td>rainy</td>\n",
       "      <td>3</td>\n",
       "      <td>17</td>\n",
       "      <td>26.113020</td>\n",
       "    </tr>\n",
       "    <tr>\n",
       "      <th>1</th>\n",
       "      <td>17.485214</td>\n",
       "      <td>78.462570</td>\n",
       "      <td>17.274094</td>\n",
       "      <td>78.539004</td>\n",
       "      <td>24.357538</td>\n",
       "      <td>8</td>\n",
       "      <td>clear</td>\n",
       "      <td>5</td>\n",
       "      <td>14</td>\n",
       "      <td>58.715248</td>\n",
       "    </tr>\n",
       "    <tr>\n",
       "      <th>2</th>\n",
       "      <td>17.419598</td>\n",
       "      <td>78.561884</td>\n",
       "      <td>17.471876</td>\n",
       "      <td>78.375140</td>\n",
       "      <td>23.044667</td>\n",
       "      <td>7</td>\n",
       "      <td>rainy</td>\n",
       "      <td>6</td>\n",
       "      <td>8</td>\n",
       "      <td>59.316409</td>\n",
       "    </tr>\n",
       "    <tr>\n",
       "      <th>3</th>\n",
       "      <td>17.379598</td>\n",
       "      <td>78.519667</td>\n",
       "      <td>17.274864</td>\n",
       "      <td>78.487462</td>\n",
       "      <td>5.463097</td>\n",
       "      <td>3</td>\n",
       "      <td>clear</td>\n",
       "      <td>2</td>\n",
       "      <td>17</td>\n",
       "      <td>35.630253</td>\n",
       "    </tr>\n",
       "    <tr>\n",
       "      <th>4</th>\n",
       "      <td>17.246806</td>\n",
       "      <td>78.541968</td>\n",
       "      <td>17.281585</td>\n",
       "      <td>78.471524</td>\n",
       "      <td>5.328235</td>\n",
       "      <td>6</td>\n",
       "      <td>clear</td>\n",
       "      <td>1</td>\n",
       "      <td>2</td>\n",
       "      <td>56.713490</td>\n",
       "    </tr>\n",
       "    <tr>\n",
       "      <th>...</th>\n",
       "      <td>...</td>\n",
       "      <td>...</td>\n",
       "      <td>...</td>\n",
       "      <td>...</td>\n",
       "      <td>...</td>\n",
       "      <td>...</td>\n",
       "      <td>...</td>\n",
       "      <td>...</td>\n",
       "      <td>...</td>\n",
       "      <td>...</td>\n",
       "    </tr>\n",
       "    <tr>\n",
       "      <th>995</th>\n",
       "      <td>17.227475</td>\n",
       "      <td>78.497087</td>\n",
       "      <td>17.459589</td>\n",
       "      <td>78.432632</td>\n",
       "      <td>27.024522</td>\n",
       "      <td>9</td>\n",
       "      <td>clear</td>\n",
       "      <td>2</td>\n",
       "      <td>4</td>\n",
       "      <td>18.585042</td>\n",
       "    </tr>\n",
       "    <tr>\n",
       "      <th>996</th>\n",
       "      <td>17.475194</td>\n",
       "      <td>78.586984</td>\n",
       "      <td>17.247182</td>\n",
       "      <td>78.400320</td>\n",
       "      <td>4.462049</td>\n",
       "      <td>1</td>\n",
       "      <td>rainy</td>\n",
       "      <td>5</td>\n",
       "      <td>14</td>\n",
       "      <td>42.688225</td>\n",
       "    </tr>\n",
       "    <tr>\n",
       "      <th>997</th>\n",
       "      <td>17.241046</td>\n",
       "      <td>78.320687</td>\n",
       "      <td>17.292936</td>\n",
       "      <td>78.418372</td>\n",
       "      <td>10.507442</td>\n",
       "      <td>1</td>\n",
       "      <td>clear</td>\n",
       "      <td>5</td>\n",
       "      <td>12</td>\n",
       "      <td>11.273635</td>\n",
       "    </tr>\n",
       "    <tr>\n",
       "      <th>998</th>\n",
       "      <td>17.485071</td>\n",
       "      <td>78.317116</td>\n",
       "      <td>17.287014</td>\n",
       "      <td>78.458982</td>\n",
       "      <td>24.656616</td>\n",
       "      <td>4</td>\n",
       "      <td>rainy</td>\n",
       "      <td>5</td>\n",
       "      <td>12</td>\n",
       "      <td>13.180450</td>\n",
       "    </tr>\n",
       "    <tr>\n",
       "      <th>999</th>\n",
       "      <td>17.333802</td>\n",
       "      <td>78.384656</td>\n",
       "      <td>17.461424</td>\n",
       "      <td>78.348410</td>\n",
       "      <td>18.322059</td>\n",
       "      <td>4</td>\n",
       "      <td>rainy</td>\n",
       "      <td>3</td>\n",
       "      <td>12</td>\n",
       "      <td>21.053944</td>\n",
       "    </tr>\n",
       "  </tbody>\n",
       "</table>\n",
       "<p>1000 rows × 10 columns</p>\n",
       "</div>"
      ],
      "text/plain": [
       "     start_lat  start_lng    end_lat    end_lng  distance_km  traffic_density  \\\n",
       "0    17.312362  78.355540  17.278512  78.501811    17.587880                3   \n",
       "1    17.485214  78.462570  17.274094  78.539004    24.357538                8   \n",
       "2    17.419598  78.561884  17.471876  78.375140    23.044667                7   \n",
       "3    17.379598  78.519667  17.274864  78.487462     5.463097                3   \n",
       "4    17.246806  78.541968  17.281585  78.471524     5.328235                6   \n",
       "..         ...        ...        ...        ...          ...              ...   \n",
       "995  17.227475  78.497087  17.459589  78.432632    27.024522                9   \n",
       "996  17.475194  78.586984  17.247182  78.400320     4.462049                1   \n",
       "997  17.241046  78.320687  17.292936  78.418372    10.507442                1   \n",
       "998  17.485071  78.317116  17.287014  78.458982    24.656616                4   \n",
       "999  17.333802  78.384656  17.461424  78.348410    18.322059                4   \n",
       "\n",
       "    weather_condition  day_of_week  hour_of_day        ETA  \n",
       "0               rainy            3           17  26.113020  \n",
       "1               clear            5           14  58.715248  \n",
       "2               rainy            6            8  59.316409  \n",
       "3               clear            2           17  35.630253  \n",
       "4               clear            1            2  56.713490  \n",
       "..                ...          ...          ...        ...  \n",
       "995             clear            2            4  18.585042  \n",
       "996             rainy            5           14  42.688225  \n",
       "997             clear            5           12  11.273635  \n",
       "998             rainy            5           12  13.180450  \n",
       "999             rainy            3           12  21.053944  \n",
       "\n",
       "[1000 rows x 10 columns]"
      ]
     },
     "execution_count": 16,
     "metadata": {},
     "output_type": "execute_result"
    }
   ],
   "source": [
    "df"
   ]
  },
  {
   "cell_type": "code",
   "execution_count": 17,
   "id": "f593f0a6",
   "metadata": {},
   "outputs": [
    {
     "data": {
      "text/plain": [
       "array(['rainy', 'clear', 'foggy'], dtype=object)"
      ]
     },
     "execution_count": 17,
     "metadata": {},
     "output_type": "execute_result"
    }
   ],
   "source": [
    "df['weather_condition'].unique()"
   ]
  },
  {
   "cell_type": "code",
   "execution_count": 19,
   "id": "bafc3cbd",
   "metadata": {},
   "outputs": [],
   "source": [
    "df['weather_condition'] = df['weather_condition'].map({'rainy':1,'foggy':2,'clear':3})"
   ]
  },
  {
   "cell_type": "markdown",
   "id": "0774aeac",
   "metadata": {},
   "source": [
    "## Model Building"
   ]
  },
  {
   "cell_type": "markdown",
   "id": "45489818",
   "metadata": {},
   "source": [
    "##### splitting the input and ouput"
   ]
  },
  {
   "cell_type": "code",
   "execution_count": 20,
   "id": "1fc132ac",
   "metadata": {},
   "outputs": [
    {
     "data": {
      "text/html": [
       "<div>\n",
       "<style scoped>\n",
       "    .dataframe tbody tr th:only-of-type {\n",
       "        vertical-align: middle;\n",
       "    }\n",
       "\n",
       "    .dataframe tbody tr th {\n",
       "        vertical-align: top;\n",
       "    }\n",
       "\n",
       "    .dataframe thead th {\n",
       "        text-align: right;\n",
       "    }\n",
       "</style>\n",
       "<table border=\"1\" class=\"dataframe\">\n",
       "  <thead>\n",
       "    <tr style=\"text-align: right;\">\n",
       "      <th></th>\n",
       "      <th>start_lat</th>\n",
       "      <th>start_lng</th>\n",
       "      <th>end_lat</th>\n",
       "      <th>end_lng</th>\n",
       "      <th>distance_km</th>\n",
       "      <th>traffic_density</th>\n",
       "      <th>weather_condition</th>\n",
       "      <th>day_of_week</th>\n",
       "      <th>hour_of_day</th>\n",
       "      <th>ETA</th>\n",
       "    </tr>\n",
       "  </thead>\n",
       "  <tbody>\n",
       "    <tr>\n",
       "      <th>0</th>\n",
       "      <td>17.312362</td>\n",
       "      <td>78.355540</td>\n",
       "      <td>17.278512</td>\n",
       "      <td>78.501811</td>\n",
       "      <td>17.587880</td>\n",
       "      <td>3</td>\n",
       "      <td>1</td>\n",
       "      <td>3</td>\n",
       "      <td>17</td>\n",
       "      <td>26.113020</td>\n",
       "    </tr>\n",
       "    <tr>\n",
       "      <th>1</th>\n",
       "      <td>17.485214</td>\n",
       "      <td>78.462570</td>\n",
       "      <td>17.274094</td>\n",
       "      <td>78.539004</td>\n",
       "      <td>24.357538</td>\n",
       "      <td>8</td>\n",
       "      <td>3</td>\n",
       "      <td>5</td>\n",
       "      <td>14</td>\n",
       "      <td>58.715248</td>\n",
       "    </tr>\n",
       "    <tr>\n",
       "      <th>2</th>\n",
       "      <td>17.419598</td>\n",
       "      <td>78.561884</td>\n",
       "      <td>17.471876</td>\n",
       "      <td>78.375140</td>\n",
       "      <td>23.044667</td>\n",
       "      <td>7</td>\n",
       "      <td>1</td>\n",
       "      <td>6</td>\n",
       "      <td>8</td>\n",
       "      <td>59.316409</td>\n",
       "    </tr>\n",
       "    <tr>\n",
       "      <th>3</th>\n",
       "      <td>17.379598</td>\n",
       "      <td>78.519667</td>\n",
       "      <td>17.274864</td>\n",
       "      <td>78.487462</td>\n",
       "      <td>5.463097</td>\n",
       "      <td>3</td>\n",
       "      <td>3</td>\n",
       "      <td>2</td>\n",
       "      <td>17</td>\n",
       "      <td>35.630253</td>\n",
       "    </tr>\n",
       "    <tr>\n",
       "      <th>4</th>\n",
       "      <td>17.246806</td>\n",
       "      <td>78.541968</td>\n",
       "      <td>17.281585</td>\n",
       "      <td>78.471524</td>\n",
       "      <td>5.328235</td>\n",
       "      <td>6</td>\n",
       "      <td>3</td>\n",
       "      <td>1</td>\n",
       "      <td>2</td>\n",
       "      <td>56.713490</td>\n",
       "    </tr>\n",
       "  </tbody>\n",
       "</table>\n",
       "</div>"
      ],
      "text/plain": [
       "   start_lat  start_lng    end_lat    end_lng  distance_km  traffic_density  \\\n",
       "0  17.312362  78.355540  17.278512  78.501811    17.587880                3   \n",
       "1  17.485214  78.462570  17.274094  78.539004    24.357538                8   \n",
       "2  17.419598  78.561884  17.471876  78.375140    23.044667                7   \n",
       "3  17.379598  78.519667  17.274864  78.487462     5.463097                3   \n",
       "4  17.246806  78.541968  17.281585  78.471524     5.328235                6   \n",
       "\n",
       "   weather_condition  day_of_week  hour_of_day        ETA  \n",
       "0                  1            3           17  26.113020  \n",
       "1                  3            5           14  58.715248  \n",
       "2                  1            6            8  59.316409  \n",
       "3                  3            2           17  35.630253  \n",
       "4                  3            1            2  56.713490  "
      ]
     },
     "execution_count": 20,
     "metadata": {},
     "output_type": "execute_result"
    }
   ],
   "source": [
    "df.head()"
   ]
  },
  {
   "cell_type": "code",
   "execution_count": 27,
   "id": "79293d4f",
   "metadata": {},
   "outputs": [],
   "source": [
    "X  = df.drop('ETA',axis = 1)\n",
    "y = df['ETA']"
   ]
  },
  {
   "cell_type": "code",
   "execution_count": 25,
   "id": "962acdfd",
   "metadata": {},
   "outputs": [
    {
     "name": "stdout",
     "output_type": "stream",
     "text": [
      "Requirement already satisfied: scikit-learn in c:\\users\\dell\\anaconda3\\envs\\training\\lib\\site-packages (1.4.1.post1)\n",
      "Requirement already satisfied: numpy<2.0,>=1.19.5 in c:\\users\\dell\\anaconda3\\envs\\training\\lib\\site-packages (from scikit-learn) (1.25.2)\n",
      "Requirement already satisfied: scipy>=1.6.0 in c:\\users\\dell\\anaconda3\\envs\\training\\lib\\site-packages (from scikit-learn) (1.11.2)\n",
      "Requirement already satisfied: joblib>=1.2.0 in c:\\users\\dell\\anaconda3\\envs\\training\\lib\\site-packages (from scikit-learn) (1.3.2)\n",
      "Requirement already satisfied: threadpoolctl>=2.0.0 in c:\\users\\dell\\anaconda3\\envs\\training\\lib\\site-packages (from scikit-learn) (3.2.0)\n"
     ]
    },
    {
     "name": "stderr",
     "output_type": "stream",
     "text": [
      "\n",
      "[notice] A new release of pip is available: 24.1 -> 24.1.2\n",
      "[notice] To update, run: python.exe -m pip install --upgrade pip\n"
     ]
    }
   ],
   "source": [
    "!pip install scikit-learn"
   ]
  },
  {
   "cell_type": "code",
   "execution_count": 42,
   "id": "a8eeb905",
   "metadata": {},
   "outputs": [],
   "source": [
    "from sklearn.model_selection import train_test_split\n",
    "from sklearn.metrics import mean_squared_error"
   ]
  },
  {
   "cell_type": "code",
   "execution_count": 46,
   "id": "9e5af9c0",
   "metadata": {},
   "outputs": [],
   "source": [
    "X_train,X_test,y_train,y_test = train_test_split(X,y,test_size=0.2,random_state=23)"
   ]
  },
  {
   "cell_type": "markdown",
   "id": "b5ec5a38",
   "metadata": {},
   "source": [
    "##### Linear Regression"
   ]
  },
  {
   "cell_type": "code",
   "execution_count": 47,
   "id": "baab076b",
   "metadata": {},
   "outputs": [
    {
     "data": {
      "text/plain": [
       "228.5919996249638"
      ]
     },
     "execution_count": 47,
     "metadata": {},
     "output_type": "execute_result"
    }
   ],
   "source": [
    "from sklearn.linear_model import LinearRegression\n",
    "lr = LinearRegression()\n",
    "lr.fit(X_train,y_train)\n",
    "y_pred = lr.predict(X_test)\n",
    "mean_squared_error(y_test,y_pred)"
   ]
  },
  {
   "cell_type": "markdown",
   "id": "73c15c88",
   "metadata": {},
   "source": [
    "#### KNN Regression"
   ]
  },
  {
   "cell_type": "code",
   "execution_count": 48,
   "id": "d4060eb2",
   "metadata": {},
   "outputs": [
    {
     "data": {
      "text/plain": [
       "245.11420625818508"
      ]
     },
     "execution_count": 48,
     "metadata": {},
     "output_type": "execute_result"
    }
   ],
   "source": [
    "from sklearn.neighbors import KNeighborsRegressor\n",
    "knn = KNeighborsRegressor()\n",
    "knn.fit(X_train,y_train)\n",
    "y_pred = knn.predict(X_test)\n",
    "mean_squared_error(y_test,y_pred)"
   ]
  },
  {
   "cell_type": "markdown",
   "id": "55121390",
   "metadata": {},
   "source": [
    "#### Descision Tree"
   ]
  },
  {
   "cell_type": "code",
   "execution_count": 49,
   "id": "cfb0c9aa",
   "metadata": {},
   "outputs": [
    {
     "data": {
      "text/plain": [
       "369.43439225955206"
      ]
     },
     "execution_count": 49,
     "metadata": {},
     "output_type": "execute_result"
    }
   ],
   "source": [
    "from sklearn.tree import DecisionTreeRegressor\n",
    "dt = DecisionTreeRegressor()\n",
    "dt.fit(X_train,y_train)\n",
    "y_pred = dt.predict(X_test)\n",
    "mean_squared_error(y_test,y_pred)"
   ]
  },
  {
   "cell_type": "markdown",
   "id": "80129c65",
   "metadata": {},
   "source": [
    "### SVR"
   ]
  },
  {
   "cell_type": "code",
   "execution_count": 52,
   "id": "2a3a41a6",
   "metadata": {},
   "outputs": [
    {
     "data": {
      "text/plain": [
       "226.54505877560223"
      ]
     },
     "execution_count": 52,
     "metadata": {},
     "output_type": "execute_result"
    }
   ],
   "source": [
    "from sklearn.svm import SVR\n",
    "sv = SVR()\n",
    "sv.fit(X_train,y_train)\n",
    "y_pred = sv.predict(X_test)\n",
    "mean_squared_error(y_test,y_pred)"
   ]
  },
  {
   "cell_type": "code",
   "execution_count": 53,
   "id": "292ed9d3",
   "metadata": {},
   "outputs": [
    {
     "data": {
      "text/plain": [
       "array([-4.22512291, -0.65865854, 14.34596171,  3.93849869, -0.04716621,\n",
       "       -0.13704362,  0.08144095,  0.53928957,  0.06447841])"
      ]
     },
     "execution_count": 53,
     "metadata": {},
     "output_type": "execute_result"
    }
   ],
   "source": [
    "lr.coef_"
   ]
  },
  {
   "cell_type": "code",
   "execution_count": 54,
   "id": "23d5a973",
   "metadata": {},
   "outputs": [
    {
     "data": {
      "text/plain": [
       "-398.5737984797196"
      ]
     },
     "execution_count": 54,
     "metadata": {},
     "output_type": "execute_result"
    }
   ],
   "source": [
    "lr.intercept_"
   ]
  },
  {
   "cell_type": "markdown",
   "id": "a976bedb",
   "metadata": {},
   "source": [
    "### Deployement"
   ]
  },
  {
   "cell_type": "code",
   "execution_count": 56,
   "id": "fb1a3f49",
   "metadata": {},
   "outputs": [
    {
     "name": "stdout",
     "output_type": "stream",
     "text": [
      "Enter the star latttude:17.4933\n",
      "Enter the star lagitude:78.3914\n",
      "Enter the dest lattttude:17.4399\n",
      "Enter the end langitude:78.4983\n",
      "Enter the distance:15.5\n",
      "Enter the density:4\n",
      "Enter the star lat:1\n",
      "Enter the day:4\n",
      "Enter the hour:11\n",
      "The Estimated time is 36.90789445729399 minutes\n"
     ]
    },
    {
     "name": "stderr",
     "output_type": "stream",
     "text": [
      "C:\\Users\\DELL\\anaconda3\\envs\\Training\\Lib\\site-packages\\sklearn\\base.py:493: UserWarning: X does not have valid feature names, but LinearRegression was fitted with feature names\n",
      "  warnings.warn(\n"
     ]
    }
   ],
   "source": [
    "start_lat = float(input(\"Enter the star latttude:\"))\n",
    "start_lang = float(input(\"Enter the star lagitude:\"))\n",
    "end_lat = float(input(\"Enter the dest lattttude:\"))\n",
    "end_lang = float(input(\"Enter the end langitude:\"))\n",
    "dist = float(input(\"Enter the distance:\"))\n",
    "density = int(input(\"Enter the density:\"))\n",
    "weather = int(input(\"Enter the star lat:\"))\n",
    "day  = int(input(\"Enter the day:\"))\n",
    "hour = int(input(\"Enter the hour:\"))\n",
    "time = lr.predict([[start_lat,start_lang ,end_lat,end_lang,dist,density,weather,day,hour]])[0]\n",
    "print(\"The Estimated time is\",time,'minutes')"
   ]
  },
  {
   "cell_type": "code",
   "execution_count": null,
   "id": "fa163778",
   "metadata": {},
   "outputs": [],
   "source": [
    "17.4933,78.3914,17.4399,78.4983,15,4,1,4,13"
   ]
  },
  {
   "cell_type": "code",
   "execution_count": 58,
   "id": "06d7cb0d",
   "metadata": {},
   "outputs": [
    {
     "data": {
      "text/plain": [
       "-398.5737984797196"
      ]
     },
     "execution_count": 58,
     "metadata": {},
     "output_type": "execute_result"
    }
   ],
   "source": [
    "lr.intercept_"
   ]
  },
  {
   "cell_type": "code",
   "execution_count": null,
   "id": "db89c364",
   "metadata": {},
   "outputs": [],
   "source": [
    "eta = -4.22512291*start_lat-0.65865854*start_lang+14.34596171*end_lat+3.93849869*end_lang-0.04716621*dist-0.13704362*density+0.08144095*weather+0.53928957*day+ 0.06447841*time-398.5737984797196"
   ]
  }
 ],
 "metadata": {
  "kernelspec": {
   "display_name": "Python 3 (ipykernel)",
   "language": "python",
   "name": "python3"
  },
  "language_info": {
   "codemirror_mode": {
    "name": "ipython",
    "version": 3
   },
   "file_extension": ".py",
   "mimetype": "text/x-python",
   "name": "python",
   "nbconvert_exporter": "python",
   "pygments_lexer": "ipython3",
   "version": "3.11.4"
  }
 },
 "nbformat": 4,
 "nbformat_minor": 5
}
