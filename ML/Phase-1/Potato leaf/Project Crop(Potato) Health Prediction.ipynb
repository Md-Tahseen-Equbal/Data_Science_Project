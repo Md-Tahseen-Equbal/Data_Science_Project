{
 "cells": [
  {
   "cell_type": "markdown",
   "id": "5407ae4e-758f-478f-a4bc-8ebc3d12a0d5",
   "metadata": {},
   "source": [
    "# Crop(Potato) Health Prediction\n",
    "\n",
    "#### Bussiness Problem - \n",
    "- Due to disease, the crop is producing less yeild.\n",
    "#### Objective - \n",
    "- Predicting the health of crop(Potato).\n",
    "- **Domain** : Aggriculture\n",
    "\n",
    "- **Data** : Image  "
   ]
  },
  {
   "cell_type": "code",
   "execution_count": 1,
   "id": "6b3aaf89-6464-47f2-96bf-2b757defefc6",
   "metadata": {},
   "outputs": [],
   "source": [
    "import zipfile\n",
    "import os\n",
    "import numpy as np\n",
    "import pandas as pd\n",
    "import cv2"
   ]
  },
  {
   "cell_type": "code",
   "execution_count": 2,
   "id": "fba34521-dc5e-4aa3-9d24-49701758f6d3",
   "metadata": {},
   "outputs": [],
   "source": [
    "folder = r\"C:\\Machine Learning\\Datasets\\Potato Dataset\""
   ]
  },
  {
   "cell_type": "code",
   "execution_count": 3,
   "id": "02ac3c6d-92bc-40d7-93eb-a0d890485152",
   "metadata": {},
   "outputs": [
    {
     "data": {
      "text/plain": [
       "'C:\\\\Users\\\\91771\\\\Innomatics\\\\Machine Learning\\\\Project Crop'"
      ]
     },
     "execution_count": 3,
     "metadata": {},
     "output_type": "execute_result"
    }
   ],
   "source": [
    "os.getcwd()"
   ]
  },
  {
   "cell_type": "code",
   "execution_count": 4,
   "id": "e37b5675-e28f-4c1b-a6c4-2a9a9ae03f88",
   "metadata": {},
   "outputs": [
    {
     "data": {
      "text/plain": [
       "['Potato___Early_blight', 'Potato___healthy', 'Potato___Late_blight']"
      ]
     },
     "execution_count": 4,
     "metadata": {},
     "output_type": "execute_result"
    }
   ],
   "source": [
    "origin_path = r'C:\\Users\\91771\\Innomatics\\Machine Learning\\PlantVillage'\n",
    "os.chdir(origin_path)\n",
    "os.listdir()"
   ]
  },
  {
   "cell_type": "code",
   "execution_count": 5,
   "id": "6cca712d-f32d-4bf0-9932-7199a18236c5",
   "metadata": {},
   "outputs": [],
   "source": [
    "origin_path = r'C:\\Users\\91771\\Innomatics\\Machine Learning\\PlantVillage'\n",
    "Rows = []\n",
    "label = []\n",
    "os.chdir(origin_path)\n",
    "for i in os.listdir():\n",
    "    path = origin_path+'\\\\'+i \n",
    "    os.chdir(path)\n",
    "    for image in os.listdir():\n",
    "        arr = cv2.imread(image)\n",
    "        resized = np.resize(arr,(100,100))\n",
    "        row = resized.flatten()\n",
    "        Rows.append(row)\n",
    "        label.append(i.split(\"___\")[-1])"
   ]
  },
  {
   "cell_type": "code",
   "execution_count": 6,
   "id": "e2c9dffb-edfb-4c2d-9a10-8a3116552365",
   "metadata": {},
   "outputs": [],
   "source": [
    "df1 = pd.DataFrame(Rows)\n",
    "df2 = pd.DataFrame(label, columns= ['Status'])\n",
    "df = pd.concat([df1,df2],axis = 1)"
   ]
  },
  {
   "cell_type": "code",
   "execution_count": 7,
   "id": "366695cb-0894-43af-bd72-7861a8d38e47",
   "metadata": {},
   "outputs": [
    {
     "data": {
      "text/html": [
       "<div>\n",
       "<style scoped>\n",
       "    .dataframe tbody tr th:only-of-type {\n",
       "        vertical-align: middle;\n",
       "    }\n",
       "\n",
       "    .dataframe tbody tr th {\n",
       "        vertical-align: top;\n",
       "    }\n",
       "\n",
       "    .dataframe thead th {\n",
       "        text-align: right;\n",
       "    }\n",
       "</style>\n",
       "<table border=\"1\" class=\"dataframe\">\n",
       "  <thead>\n",
       "    <tr style=\"text-align: right;\">\n",
       "      <th></th>\n",
       "      <th>0</th>\n",
       "      <th>1</th>\n",
       "      <th>2</th>\n",
       "      <th>3</th>\n",
       "      <th>4</th>\n",
       "      <th>5</th>\n",
       "      <th>6</th>\n",
       "      <th>7</th>\n",
       "      <th>8</th>\n",
       "      <th>9</th>\n",
       "      <th>...</th>\n",
       "      <th>9991</th>\n",
       "      <th>9992</th>\n",
       "      <th>9993</th>\n",
       "      <th>9994</th>\n",
       "      <th>9995</th>\n",
       "      <th>9996</th>\n",
       "      <th>9997</th>\n",
       "      <th>9998</th>\n",
       "      <th>9999</th>\n",
       "      <th>Status</th>\n",
       "    </tr>\n",
       "  </thead>\n",
       "  <tbody>\n",
       "    <tr>\n",
       "      <th>0</th>\n",
       "      <td>127</td>\n",
       "      <td>120</td>\n",
       "      <td>123</td>\n",
       "      <td>165</td>\n",
       "      <td>158</td>\n",
       "      <td>161</td>\n",
       "      <td>152</td>\n",
       "      <td>145</td>\n",
       "      <td>148</td>\n",
       "      <td>145</td>\n",
       "      <td>...</td>\n",
       "      <td>131</td>\n",
       "      <td>134</td>\n",
       "      <td>134</td>\n",
       "      <td>127</td>\n",
       "      <td>130</td>\n",
       "      <td>120</td>\n",
       "      <td>113</td>\n",
       "      <td>116</td>\n",
       "      <td>150</td>\n",
       "      <td>Early_blight</td>\n",
       "    </tr>\n",
       "    <tr>\n",
       "      <th>1</th>\n",
       "      <td>169</td>\n",
       "      <td>162</td>\n",
       "      <td>169</td>\n",
       "      <td>170</td>\n",
       "      <td>163</td>\n",
       "      <td>170</td>\n",
       "      <td>165</td>\n",
       "      <td>154</td>\n",
       "      <td>162</td>\n",
       "      <td>164</td>\n",
       "      <td>...</td>\n",
       "      <td>167</td>\n",
       "      <td>177</td>\n",
       "      <td>160</td>\n",
       "      <td>159</td>\n",
       "      <td>168</td>\n",
       "      <td>158</td>\n",
       "      <td>163</td>\n",
       "      <td>172</td>\n",
       "      <td>163</td>\n",
       "      <td>Early_blight</td>\n",
       "    </tr>\n",
       "    <tr>\n",
       "      <th>2</th>\n",
       "      <td>203</td>\n",
       "      <td>196</td>\n",
       "      <td>199</td>\n",
       "      <td>198</td>\n",
       "      <td>191</td>\n",
       "      <td>194</td>\n",
       "      <td>191</td>\n",
       "      <td>184</td>\n",
       "      <td>187</td>\n",
       "      <td>188</td>\n",
       "      <td>...</td>\n",
       "      <td>191</td>\n",
       "      <td>194</td>\n",
       "      <td>201</td>\n",
       "      <td>194</td>\n",
       "      <td>197</td>\n",
       "      <td>210</td>\n",
       "      <td>203</td>\n",
       "      <td>206</td>\n",
       "      <td>206</td>\n",
       "      <td>Early_blight</td>\n",
       "    </tr>\n",
       "    <tr>\n",
       "      <th>3</th>\n",
       "      <td>114</td>\n",
       "      <td>97</td>\n",
       "      <td>94</td>\n",
       "      <td>143</td>\n",
       "      <td>126</td>\n",
       "      <td>123</td>\n",
       "      <td>149</td>\n",
       "      <td>132</td>\n",
       "      <td>129</td>\n",
       "      <td>151</td>\n",
       "      <td>...</td>\n",
       "      <td>77</td>\n",
       "      <td>68</td>\n",
       "      <td>88</td>\n",
       "      <td>73</td>\n",
       "      <td>64</td>\n",
       "      <td>76</td>\n",
       "      <td>61</td>\n",
       "      <td>52</td>\n",
       "      <td>77</td>\n",
       "      <td>Early_blight</td>\n",
       "    </tr>\n",
       "    <tr>\n",
       "      <th>4</th>\n",
       "      <td>172</td>\n",
       "      <td>156</td>\n",
       "      <td>157</td>\n",
       "      <td>178</td>\n",
       "      <td>162</td>\n",
       "      <td>163</td>\n",
       "      <td>180</td>\n",
       "      <td>164</td>\n",
       "      <td>165</td>\n",
       "      <td>176</td>\n",
       "      <td>...</td>\n",
       "      <td>167</td>\n",
       "      <td>168</td>\n",
       "      <td>178</td>\n",
       "      <td>162</td>\n",
       "      <td>163</td>\n",
       "      <td>177</td>\n",
       "      <td>161</td>\n",
       "      <td>162</td>\n",
       "      <td>179</td>\n",
       "      <td>Early_blight</td>\n",
       "    </tr>\n",
       "    <tr>\n",
       "      <th>...</th>\n",
       "      <td>...</td>\n",
       "      <td>...</td>\n",
       "      <td>...</td>\n",
       "      <td>...</td>\n",
       "      <td>...</td>\n",
       "      <td>...</td>\n",
       "      <td>...</td>\n",
       "      <td>...</td>\n",
       "      <td>...</td>\n",
       "      <td>...</td>\n",
       "      <td>...</td>\n",
       "      <td>...</td>\n",
       "      <td>...</td>\n",
       "      <td>...</td>\n",
       "      <td>...</td>\n",
       "      <td>...</td>\n",
       "      <td>...</td>\n",
       "      <td>...</td>\n",
       "      <td>...</td>\n",
       "      <td>...</td>\n",
       "      <td>...</td>\n",
       "    </tr>\n",
       "    <tr>\n",
       "      <th>2147</th>\n",
       "      <td>107</td>\n",
       "      <td>109</td>\n",
       "      <td>140</td>\n",
       "      <td>103</td>\n",
       "      <td>105</td>\n",
       "      <td>136</td>\n",
       "      <td>118</td>\n",
       "      <td>120</td>\n",
       "      <td>151</td>\n",
       "      <td>105</td>\n",
       "      <td>...</td>\n",
       "      <td>119</td>\n",
       "      <td>150</td>\n",
       "      <td>114</td>\n",
       "      <td>116</td>\n",
       "      <td>147</td>\n",
       "      <td>120</td>\n",
       "      <td>122</td>\n",
       "      <td>153</td>\n",
       "      <td>124</td>\n",
       "      <td>Late_blight</td>\n",
       "    </tr>\n",
       "    <tr>\n",
       "      <th>2148</th>\n",
       "      <td>165</td>\n",
       "      <td>158</td>\n",
       "      <td>165</td>\n",
       "      <td>168</td>\n",
       "      <td>161</td>\n",
       "      <td>168</td>\n",
       "      <td>171</td>\n",
       "      <td>164</td>\n",
       "      <td>171</td>\n",
       "      <td>172</td>\n",
       "      <td>...</td>\n",
       "      <td>159</td>\n",
       "      <td>166</td>\n",
       "      <td>166</td>\n",
       "      <td>159</td>\n",
       "      <td>166</td>\n",
       "      <td>169</td>\n",
       "      <td>162</td>\n",
       "      <td>169</td>\n",
       "      <td>170</td>\n",
       "      <td>Late_blight</td>\n",
       "    </tr>\n",
       "    <tr>\n",
       "      <th>2149</th>\n",
       "      <td>128</td>\n",
       "      <td>124</td>\n",
       "      <td>136</td>\n",
       "      <td>126</td>\n",
       "      <td>122</td>\n",
       "      <td>134</td>\n",
       "      <td>124</td>\n",
       "      <td>120</td>\n",
       "      <td>132</td>\n",
       "      <td>123</td>\n",
       "      <td>...</td>\n",
       "      <td>121</td>\n",
       "      <td>133</td>\n",
       "      <td>125</td>\n",
       "      <td>121</td>\n",
       "      <td>133</td>\n",
       "      <td>127</td>\n",
       "      <td>123</td>\n",
       "      <td>135</td>\n",
       "      <td>131</td>\n",
       "      <td>Late_blight</td>\n",
       "    </tr>\n",
       "    <tr>\n",
       "      <th>2150</th>\n",
       "      <td>137</td>\n",
       "      <td>133</td>\n",
       "      <td>144</td>\n",
       "      <td>126</td>\n",
       "      <td>122</td>\n",
       "      <td>133</td>\n",
       "      <td>126</td>\n",
       "      <td>122</td>\n",
       "      <td>133</td>\n",
       "      <td>132</td>\n",
       "      <td>...</td>\n",
       "      <td>124</td>\n",
       "      <td>135</td>\n",
       "      <td>125</td>\n",
       "      <td>121</td>\n",
       "      <td>132</td>\n",
       "      <td>122</td>\n",
       "      <td>118</td>\n",
       "      <td>129</td>\n",
       "      <td>122</td>\n",
       "      <td>Late_blight</td>\n",
       "    </tr>\n",
       "    <tr>\n",
       "      <th>2151</th>\n",
       "      <td>104</td>\n",
       "      <td>95</td>\n",
       "      <td>108</td>\n",
       "      <td>115</td>\n",
       "      <td>106</td>\n",
       "      <td>119</td>\n",
       "      <td>78</td>\n",
       "      <td>69</td>\n",
       "      <td>82</td>\n",
       "      <td>94</td>\n",
       "      <td>...</td>\n",
       "      <td>108</td>\n",
       "      <td>121</td>\n",
       "      <td>138</td>\n",
       "      <td>129</td>\n",
       "      <td>142</td>\n",
       "      <td>122</td>\n",
       "      <td>113</td>\n",
       "      <td>126</td>\n",
       "      <td>131</td>\n",
       "      <td>Late_blight</td>\n",
       "    </tr>\n",
       "  </tbody>\n",
       "</table>\n",
       "<p>2152 rows × 10001 columns</p>\n",
       "</div>"
      ],
      "text/plain": [
       "        0    1    2    3    4    5    6    7    8    9  ...  9991  9992  9993  \\\n",
       "0     127  120  123  165  158  161  152  145  148  145  ...   131   134   134   \n",
       "1     169  162  169  170  163  170  165  154  162  164  ...   167   177   160   \n",
       "2     203  196  199  198  191  194  191  184  187  188  ...   191   194   201   \n",
       "3     114   97   94  143  126  123  149  132  129  151  ...    77    68    88   \n",
       "4     172  156  157  178  162  163  180  164  165  176  ...   167   168   178   \n",
       "...   ...  ...  ...  ...  ...  ...  ...  ...  ...  ...  ...   ...   ...   ...   \n",
       "2147  107  109  140  103  105  136  118  120  151  105  ...   119   150   114   \n",
       "2148  165  158  165  168  161  168  171  164  171  172  ...   159   166   166   \n",
       "2149  128  124  136  126  122  134  124  120  132  123  ...   121   133   125   \n",
       "2150  137  133  144  126  122  133  126  122  133  132  ...   124   135   125   \n",
       "2151  104   95  108  115  106  119   78   69   82   94  ...   108   121   138   \n",
       "\n",
       "      9994  9995  9996  9997  9998  9999        Status  \n",
       "0      127   130   120   113   116   150  Early_blight  \n",
       "1      159   168   158   163   172   163  Early_blight  \n",
       "2      194   197   210   203   206   206  Early_blight  \n",
       "3       73    64    76    61    52    77  Early_blight  \n",
       "4      162   163   177   161   162   179  Early_blight  \n",
       "...    ...   ...   ...   ...   ...   ...           ...  \n",
       "2147   116   147   120   122   153   124   Late_blight  \n",
       "2148   159   166   169   162   169   170   Late_blight  \n",
       "2149   121   133   127   123   135   131   Late_blight  \n",
       "2150   121   132   122   118   129   122   Late_blight  \n",
       "2151   129   142   122   113   126   131   Late_blight  \n",
       "\n",
       "[2152 rows x 10001 columns]"
      ]
     },
     "execution_count": 7,
     "metadata": {},
     "output_type": "execute_result"
    }
   ],
   "source": [
    "df"
   ]
  },
  {
   "cell_type": "code",
   "execution_count": 8,
   "id": "afac3181-f37e-4c22-afc5-a2d6be451ddf",
   "metadata": {},
   "outputs": [],
   "source": [
    "X = df.drop('Status',axis = 1)\n",
    "y = df['Status']"
   ]
  },
  {
   "cell_type": "markdown",
   "id": "99fff64a",
   "metadata": {},
   "source": [
    "# Splitting the Input and Output"
   ]
  },
  {
   "cell_type": "code",
   "execution_count": 9,
   "id": "f26f8f8e-45fc-4d8c-a4cc-8635eec44360",
   "metadata": {},
   "outputs": [],
   "source": [
    "from sklearn.model_selection import train_test_split"
   ]
  },
  {
   "cell_type": "code",
   "execution_count": 10,
   "id": "ce75054f-9421-4ce6-9e8a-c2bc9e184882",
   "metadata": {},
   "outputs": [],
   "source": [
    "X_train,X_test,y_train,y_test = train_test_split(X,y,test_size=  0.2,random_state=23)"
   ]
  },
  {
   "cell_type": "markdown",
   "id": "2e56cc60",
   "metadata": {},
   "source": [
    "# Building a Model"
   ]
  },
  {
   "cell_type": "code",
   "execution_count": 11,
   "id": "826d90f7-57df-4d61-9254-bcc9650c4410",
   "metadata": {},
   "outputs": [],
   "source": [
    "from sklearn.metrics import accuracy_score"
   ]
  },
  {
   "cell_type": "code",
   "execution_count": 12,
   "id": "9007e649-5015-4668-963e-20af392702db",
   "metadata": {},
   "outputs": [
    {
     "name": "stderr",
     "output_type": "stream",
     "text": [
      "C:\\Users\\91771\\anaconda3\\envs\\tf\\lib\\site-packages\\sklearn\\linear_model\\_logistic.py:763: ConvergenceWarning: lbfgs failed to converge (status=1):\n",
      "STOP: TOTAL NO. of ITERATIONS REACHED LIMIT.\n",
      "\n",
      "Increase the number of iterations (max_iter) or scale the data as shown in:\n",
      "    https://scikit-learn.org/stable/modules/preprocessing.html\n",
      "Please also refer to the documentation for alternative solver options:\n",
      "    https://scikit-learn.org/stable/modules/linear_model.html#logistic-regression\n",
      "  n_iter_i = _check_optimize_result(\n"
     ]
    },
    {
     "data": {
      "text/plain": [
       "0.7935034802784223"
      ]
     },
     "execution_count": 12,
     "metadata": {},
     "output_type": "execute_result"
    }
   ],
   "source": [
    "from sklearn.linear_model import LogisticRegression\n",
    "\n",
    "log = LogisticRegression()\n",
    "log.fit(X_train,y_train)\n",
    "y_pred = log.predict(X_test)\n",
    "accuracy_score(y_test,y_pred)"
   ]
  },
  {
   "cell_type": "code",
   "execution_count": 13,
   "id": "b10d63f8-a847-454b-90d5-e98e18f2b540",
   "metadata": {},
   "outputs": [],
   "source": [
    "def prediction(path):\n",
    "    image = cv2.imread(path)\n",
    "    resized = np.resize(image,(100,100))\n",
    "    data = resized.flatten()\n",
    "    return log.predict([data])[0]"
   ]
  },
  {
   "cell_type": "code",
   "execution_count": 14,
   "id": "3a13cecd-4a5c-4b76-a824-ac1bb56caa26",
   "metadata": {},
   "outputs": [
    {
     "data": {
      "text/plain": [
       "'healthy'"
      ]
     },
     "execution_count": 14,
     "metadata": {},
     "output_type": "execute_result"
    }
   ],
   "source": [
    "prediction(r\"C:\\Users\\91771\\Innomatics\\Machine Learning\\PlantVillage\\Potato___healthy\\0be9d721-82f5-42c3-b535-7494afe01dbe___RS_HL 1814.JPG\")"
   ]
  },
  {
   "cell_type": "markdown",
   "id": "5420c028",
   "metadata": {},
   "source": [
    "# Model Save"
   ]
  },
  {
   "cell_type": "code",
   "execution_count": 15,
   "id": "8ceb9196-e794-4dff-869f-c15ad3c48c74",
   "metadata": {},
   "outputs": [],
   "source": [
    "import pickle"
   ]
  },
  {
   "cell_type": "code",
   "execution_count": 16,
   "id": "796f6d64",
   "metadata": {},
   "outputs": [],
   "source": [
    "# Save the model to a file\n",
    "model_filename = 'potato_health_model.pkl'\n",
    "with open(model_filename, 'wb') as file:\n",
    "    pickle.dump(log, file)"
   ]
  },
  {
   "cell_type": "code",
   "execution_count": 17,
   "id": "465e81de",
   "metadata": {},
   "outputs": [
    {
     "name": "stdout",
     "output_type": "stream",
     "text": [
      "Current working directory: C:\\Users\\91771\\Innomatics\\Machine Learning\\PlantVillage\\Potato___Late_blight\n"
     ]
    }
   ],
   "source": [
    "current_directory = os.getcwd()\n",
    "print(f\"Current working directory: {current_directory}\")"
   ]
  },
  {
   "cell_type": "code",
   "execution_count": null,
   "id": "bddcc92a",
   "metadata": {},
   "outputs": [],
   "source": []
  }
 ],
 "metadata": {
  "kernelspec": {
   "display_name": "Python 3 (ipykernel)",
   "language": "python",
   "name": "python3"
  },
  "language_info": {
   "codemirror_mode": {
    "name": "ipython",
    "version": 3
   },
   "file_extension": ".py",
   "mimetype": "text/x-python",
   "name": "python",
   "nbconvert_exporter": "python",
   "pygments_lexer": "ipython3",
   "version": "3.9.13"
  }
 },
 "nbformat": 4,
 "nbformat_minor": 5
}
