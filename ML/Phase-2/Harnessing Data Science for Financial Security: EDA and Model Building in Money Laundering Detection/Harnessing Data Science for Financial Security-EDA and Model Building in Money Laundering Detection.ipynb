{
 "cells": [
  {
   "cell_type": "markdown",
   "id": "c1409341",
   "metadata": {},
   "source": [
    "# Project Title - Harnessing Data Science for Financial Security: EDA and Model Building in Money Laundering Detection\n",
    "\n",
    "## MD Tahseen Equbal "
   ]
  },
  {
   "cell_type": "code",
   "execution_count": 1,
   "id": "8d491581",
   "metadata": {
    "execution": {
     "iopub.execute_input": "2024-09-17T09:52:10.555761Z",
     "iopub.status.busy": "2024-09-17T09:52:10.555247Z",
     "iopub.status.idle": "2024-09-17T09:52:10.559998Z",
     "shell.execute_reply": "2024-09-17T09:52:10.558955Z"
    },
    "papermill": {
     "duration": 0.026151,
     "end_time": "2024-09-17T09:52:10.561948",
     "exception": false,
     "start_time": "2024-09-17T09:52:10.535797",
     "status": "completed"
    },
    "tags": []
   },
   "outputs": [],
   "source": [
    "import pandas as pd"
   ]
  },
  {
   "cell_type": "code",
   "execution_count": 3,
   "id": "6e53986b",
   "metadata": {
    "execution": {
     "iopub.execute_input": "2024-09-17T09:52:10.599971Z",
     "iopub.status.busy": "2024-09-17T09:52:10.599630Z",
     "iopub.status.idle": "2024-09-17T09:52:25.892710Z",
     "shell.execute_reply": "2024-09-17T09:52:25.891881Z"
    },
    "papermill": {
     "duration": 15.314826,
     "end_time": "2024-09-17T09:52:25.895122",
     "exception": false,
     "start_time": "2024-09-17T09:52:10.580296",
     "status": "completed"
    },
    "tags": []
   },
   "outputs": [],
   "source": [
    "df = pd.read_csv(r\"C:\\Users\\91771\\Innomatics\\Machine Learning\\Machine Learning\\ML Phase - 2\\End To End Project\\LI-Small_Trans.csv\")"
   ]
  },
  {
   "cell_type": "code",
   "execution_count": 4,
   "id": "93584152",
   "metadata": {
    "execution": {
     "iopub.execute_input": "2024-09-17T09:52:25.933751Z",
     "iopub.status.busy": "2024-09-17T09:52:25.933445Z",
     "iopub.status.idle": "2024-09-17T09:52:25.960996Z",
     "shell.execute_reply": "2024-09-17T09:52:25.960051Z"
    },
    "papermill": {
     "duration": 0.048877,
     "end_time": "2024-09-17T09:52:25.962953",
     "exception": false,
     "start_time": "2024-09-17T09:52:25.914076",
     "status": "completed"
    },
    "tags": []
   },
   "outputs": [
    {
     "data": {
      "text/html": [
       "<div>\n",
       "<style scoped>\n",
       "    .dataframe tbody tr th:only-of-type {\n",
       "        vertical-align: middle;\n",
       "    }\n",
       "\n",
       "    .dataframe tbody tr th {\n",
       "        vertical-align: top;\n",
       "    }\n",
       "\n",
       "    .dataframe thead th {\n",
       "        text-align: right;\n",
       "    }\n",
       "</style>\n",
       "<table border=\"1\" class=\"dataframe\">\n",
       "  <thead>\n",
       "    <tr style=\"text-align: right;\">\n",
       "      <th></th>\n",
       "      <th>Timestamp</th>\n",
       "      <th>From Bank</th>\n",
       "      <th>Account</th>\n",
       "      <th>To Bank</th>\n",
       "      <th>Account.1</th>\n",
       "      <th>Amount Received</th>\n",
       "      <th>Receiving Currency</th>\n",
       "      <th>Amount Paid</th>\n",
       "      <th>Payment Currency</th>\n",
       "      <th>Payment Format</th>\n",
       "      <th>Is Laundering</th>\n",
       "    </tr>\n",
       "  </thead>\n",
       "  <tbody>\n",
       "    <tr>\n",
       "      <th>0</th>\n",
       "      <td>2022/09/01 00:08</td>\n",
       "      <td>11</td>\n",
       "      <td>8000ECA90</td>\n",
       "      <td>11</td>\n",
       "      <td>8000ECA90</td>\n",
       "      <td>3195403.00</td>\n",
       "      <td>US Dollar</td>\n",
       "      <td>3195403.00</td>\n",
       "      <td>US Dollar</td>\n",
       "      <td>Reinvestment</td>\n",
       "      <td>0</td>\n",
       "    </tr>\n",
       "    <tr>\n",
       "      <th>1</th>\n",
       "      <td>2022/09/01 00:21</td>\n",
       "      <td>3402</td>\n",
       "      <td>80021DAD0</td>\n",
       "      <td>3402</td>\n",
       "      <td>80021DAD0</td>\n",
       "      <td>1858.96</td>\n",
       "      <td>US Dollar</td>\n",
       "      <td>1858.96</td>\n",
       "      <td>US Dollar</td>\n",
       "      <td>Reinvestment</td>\n",
       "      <td>0</td>\n",
       "    </tr>\n",
       "    <tr>\n",
       "      <th>2</th>\n",
       "      <td>2022/09/01 00:00</td>\n",
       "      <td>11</td>\n",
       "      <td>8000ECA90</td>\n",
       "      <td>1120</td>\n",
       "      <td>8006AA910</td>\n",
       "      <td>592571.00</td>\n",
       "      <td>US Dollar</td>\n",
       "      <td>592571.00</td>\n",
       "      <td>US Dollar</td>\n",
       "      <td>Cheque</td>\n",
       "      <td>0</td>\n",
       "    </tr>\n",
       "    <tr>\n",
       "      <th>3</th>\n",
       "      <td>2022/09/01 00:16</td>\n",
       "      <td>3814</td>\n",
       "      <td>8006AD080</td>\n",
       "      <td>3814</td>\n",
       "      <td>8006AD080</td>\n",
       "      <td>12.32</td>\n",
       "      <td>US Dollar</td>\n",
       "      <td>12.32</td>\n",
       "      <td>US Dollar</td>\n",
       "      <td>Reinvestment</td>\n",
       "      <td>0</td>\n",
       "    </tr>\n",
       "    <tr>\n",
       "      <th>4</th>\n",
       "      <td>2022/09/01 00:00</td>\n",
       "      <td>20</td>\n",
       "      <td>8006AD530</td>\n",
       "      <td>20</td>\n",
       "      <td>8006AD530</td>\n",
       "      <td>2941.56</td>\n",
       "      <td>US Dollar</td>\n",
       "      <td>2941.56</td>\n",
       "      <td>US Dollar</td>\n",
       "      <td>Reinvestment</td>\n",
       "      <td>0</td>\n",
       "    </tr>\n",
       "  </tbody>\n",
       "</table>\n",
       "</div>"
      ],
      "text/plain": [
       "          Timestamp  From Bank    Account  To Bank  Account.1  \\\n",
       "0  2022/09/01 00:08         11  8000ECA90       11  8000ECA90   \n",
       "1  2022/09/01 00:21       3402  80021DAD0     3402  80021DAD0   \n",
       "2  2022/09/01 00:00         11  8000ECA90     1120  8006AA910   \n",
       "3  2022/09/01 00:16       3814  8006AD080     3814  8006AD080   \n",
       "4  2022/09/01 00:00         20  8006AD530       20  8006AD530   \n",
       "\n",
       "   Amount Received Receiving Currency  Amount Paid Payment Currency  \\\n",
       "0       3195403.00          US Dollar   3195403.00        US Dollar   \n",
       "1          1858.96          US Dollar      1858.96        US Dollar   \n",
       "2        592571.00          US Dollar    592571.00        US Dollar   \n",
       "3            12.32          US Dollar        12.32        US Dollar   \n",
       "4          2941.56          US Dollar      2941.56        US Dollar   \n",
       "\n",
       "  Payment Format  Is Laundering  \n",
       "0   Reinvestment              0  \n",
       "1   Reinvestment              0  \n",
       "2         Cheque              0  \n",
       "3   Reinvestment              0  \n",
       "4   Reinvestment              0  "
      ]
     },
     "execution_count": 4,
     "metadata": {},
     "output_type": "execute_result"
    }
   ],
   "source": [
    "df.head()"
   ]
  },
  {
   "cell_type": "markdown",
   "id": "ad8078bb",
   "metadata": {
    "papermill": {
     "duration": 0.018118,
     "end_time": "2024-09-17T09:52:25.999433",
     "exception": false,
     "start_time": "2024-09-17T09:52:25.981315",
     "status": "completed"
    },
    "tags": []
   },
   "source": [
    "# Data Understanding "
   ]
  },
  {
   "cell_type": "code",
   "execution_count": 5,
   "id": "aa6ff97d",
   "metadata": {
    "execution": {
     "iopub.execute_input": "2024-09-17T09:52:26.037980Z",
     "iopub.status.busy": "2024-09-17T09:52:26.037627Z",
     "iopub.status.idle": "2024-09-17T09:52:26.059202Z",
     "shell.execute_reply": "2024-09-17T09:52:26.058219Z"
    },
    "papermill": {
     "duration": 0.043681,
     "end_time": "2024-09-17T09:52:26.061833",
     "exception": false,
     "start_time": "2024-09-17T09:52:26.018152",
     "status": "completed"
    },
    "tags": []
   },
   "outputs": [
    {
     "name": "stdout",
     "output_type": "stream",
     "text": [
      "<class 'pandas.core.frame.DataFrame'>\n",
      "RangeIndex: 6924049 entries, 0 to 6924048\n",
      "Data columns (total 11 columns):\n",
      " #   Column              Dtype  \n",
      "---  ------              -----  \n",
      " 0   Timestamp           object \n",
      " 1   From Bank           int64  \n",
      " 2   Account             object \n",
      " 3   To Bank             int64  \n",
      " 4   Account.1           object \n",
      " 5   Amount Received     float64\n",
      " 6   Receiving Currency  object \n",
      " 7   Amount Paid         float64\n",
      " 8   Payment Currency    object \n",
      " 9   Payment Format      object \n",
      " 10  Is Laundering       int64  \n",
      "dtypes: float64(2), int64(3), object(6)\n",
      "memory usage: 581.1+ MB\n"
     ]
    }
   ],
   "source": [
    "df.info()"
   ]
  },
  {
   "cell_type": "markdown",
   "id": "887b92f4",
   "metadata": {
    "papermill": {
     "duration": 0.018002,
     "end_time": "2024-09-17T09:52:26.098869",
     "exception": false,
     "start_time": "2024-09-17T09:52:26.080867",
     "status": "completed"
    },
    "tags": []
   },
   "source": [
    "# Explotary Data Analysis"
   ]
  },
  {
   "cell_type": "markdown",
   "id": "78bb8552",
   "metadata": {
    "papermill": {
     "duration": 0.018224,
     "end_time": "2024-09-17T09:52:26.135422",
     "exception": false,
     "start_time": "2024-09-17T09:52:26.117198",
     "status": "completed"
    },
    "tags": []
   },
   "source": [
    "## Missing Value "
   ]
  },
  {
   "cell_type": "code",
   "execution_count": 6,
   "id": "bd7c14a3",
   "metadata": {
    "execution": {
     "iopub.execute_input": "2024-09-17T09:52:26.172909Z",
     "iopub.status.busy": "2024-09-17T09:52:26.172574Z",
     "iopub.status.idle": "2024-09-17T09:52:29.083424Z",
     "shell.execute_reply": "2024-09-17T09:52:29.082470Z"
    },
    "papermill": {
     "duration": 2.932252,
     "end_time": "2024-09-17T09:52:29.085735",
     "exception": false,
     "start_time": "2024-09-17T09:52:26.153483",
     "status": "completed"
    },
    "tags": []
   },
   "outputs": [
    {
     "data": {
      "text/plain": [
       "Timestamp             0\n",
       "From Bank             0\n",
       "Account               0\n",
       "To Bank               0\n",
       "Account.1             0\n",
       "Amount Received       0\n",
       "Receiving Currency    0\n",
       "Amount Paid           0\n",
       "Payment Currency      0\n",
       "Payment Format        0\n",
       "Is Laundering         0\n",
       "dtype: int64"
      ]
     },
     "execution_count": 6,
     "metadata": {},
     "output_type": "execute_result"
    }
   ],
   "source": [
    "df.isna().sum()"
   ]
  },
  {
   "cell_type": "markdown",
   "id": "ffa01850",
   "metadata": {
    "papermill": {
     "duration": 0.018069,
     "end_time": "2024-09-17T09:52:29.124680",
     "exception": false,
     "start_time": "2024-09-17T09:52:29.106611",
     "status": "completed"
    },
    "tags": []
   },
   "source": [
    "## Duplicated"
   ]
  },
  {
   "cell_type": "code",
   "execution_count": 7,
   "id": "8b2d6475",
   "metadata": {
    "execution": {
     "iopub.execute_input": "2024-09-17T09:52:29.162355Z",
     "iopub.status.busy": "2024-09-17T09:52:29.162017Z",
     "iopub.status.idle": "2024-09-17T09:52:35.860030Z",
     "shell.execute_reply": "2024-09-17T09:52:35.859070Z"
    },
    "papermill": {
     "duration": 6.719612,
     "end_time": "2024-09-17T09:52:35.862401",
     "exception": false,
     "start_time": "2024-09-17T09:52:29.142789",
     "status": "completed"
    },
    "tags": []
   },
   "outputs": [
    {
     "data": {
      "text/plain": [
       "8"
      ]
     },
     "execution_count": 7,
     "metadata": {},
     "output_type": "execute_result"
    }
   ],
   "source": [
    "df.duplicated().sum()"
   ]
  },
  {
   "cell_type": "code",
   "execution_count": 8,
   "id": "d5630e8e",
   "metadata": {
    "execution": {
     "iopub.execute_input": "2024-09-17T09:52:35.903058Z",
     "iopub.status.busy": "2024-09-17T09:52:35.902674Z",
     "iopub.status.idle": "2024-09-17T09:52:43.272829Z",
     "shell.execute_reply": "2024-09-17T09:52:43.271965Z"
    },
    "papermill": {
     "duration": 7.393784,
     "end_time": "2024-09-17T09:52:43.275433",
     "exception": false,
     "start_time": "2024-09-17T09:52:35.881649",
     "status": "completed"
    },
    "tags": []
   },
   "outputs": [],
   "source": [
    "df.drop_duplicates(inplace=True)"
   ]
  },
  {
   "cell_type": "code",
   "execution_count": 9,
   "id": "a8cd4c93",
   "metadata": {
    "execution": {
     "iopub.execute_input": "2024-09-17T09:52:43.330807Z",
     "iopub.status.busy": "2024-09-17T09:52:43.330398Z",
     "iopub.status.idle": "2024-09-17T09:52:43.338208Z",
     "shell.execute_reply": "2024-09-17T09:52:43.337121Z"
    },
    "papermill": {
     "duration": 0.040139,
     "end_time": "2024-09-17T09:52:43.340728",
     "exception": false,
     "start_time": "2024-09-17T09:52:43.300589",
     "status": "completed"
    },
    "tags": []
   },
   "outputs": [
    {
     "data": {
      "text/plain": [
       "(6924041, 11)"
      ]
     },
     "execution_count": 9,
     "metadata": {},
     "output_type": "execute_result"
    }
   ],
   "source": [
    "df.shape"
   ]
  },
  {
   "cell_type": "markdown",
   "id": "89e958c1",
   "metadata": {
    "papermill": {
     "duration": 0.021789,
     "end_time": "2024-09-17T09:52:43.388869",
     "exception": false,
     "start_time": "2024-09-17T09:52:43.367080",
     "status": "completed"
    },
    "tags": []
   },
   "source": [
    "## Type Correction"
   ]
  },
  {
   "cell_type": "code",
   "execution_count": 10,
   "id": "2cda081a",
   "metadata": {
    "execution": {
     "iopub.execute_input": "2024-09-17T09:52:43.429349Z",
     "iopub.status.busy": "2024-09-17T09:52:43.428976Z",
     "iopub.status.idle": "2024-09-17T09:52:43.437624Z",
     "shell.execute_reply": "2024-09-17T09:52:43.436370Z"
    },
    "papermill": {
     "duration": 0.031553,
     "end_time": "2024-09-17T09:52:43.440085",
     "exception": false,
     "start_time": "2024-09-17T09:52:43.408532",
     "status": "completed"
    },
    "tags": []
   },
   "outputs": [
    {
     "data": {
      "text/plain": [
       "Timestamp              object\n",
       "From Bank               int64\n",
       "Account                object\n",
       "To Bank                 int64\n",
       "Account.1              object\n",
       "Amount Received       float64\n",
       "Receiving Currency     object\n",
       "Amount Paid           float64\n",
       "Payment Currency       object\n",
       "Payment Format         object\n",
       "Is Laundering           int64\n",
       "dtype: object"
      ]
     },
     "execution_count": 10,
     "metadata": {},
     "output_type": "execute_result"
    }
   ],
   "source": [
    "df.dtypes"
   ]
  },
  {
   "cell_type": "code",
   "execution_count": 11,
   "id": "6e3de60d",
   "metadata": {
    "execution": {
     "iopub.execute_input": "2024-09-17T09:52:43.487974Z",
     "iopub.status.busy": "2024-09-17T09:52:43.486968Z",
     "iopub.status.idle": "2024-09-17T09:52:45.235635Z",
     "shell.execute_reply": "2024-09-17T09:52:45.234593Z"
    },
    "papermill": {
     "duration": 1.774803,
     "end_time": "2024-09-17T09:52:45.238149",
     "exception": false,
     "start_time": "2024-09-17T09:52:43.463346",
     "status": "completed"
    },
    "tags": []
   },
   "outputs": [],
   "source": [
    "df['Timestamp']= pd.to_datetime(df['Timestamp'])\n",
    "df['From Bank']= df['From Bank'].astype('object')\n",
    "df['To Bank']= df['To Bank'].astype(\"object\")\n",
    "df['Is Laundering']= df[\"Is Laundering\"].astype('object')"
   ]
  },
  {
   "cell_type": "code",
   "execution_count": 12,
   "id": "96e46773",
   "metadata": {
    "execution": {
     "iopub.execute_input": "2024-09-17T09:52:45.278441Z",
     "iopub.status.busy": "2024-09-17T09:52:45.278022Z",
     "iopub.status.idle": "2024-09-17T09:52:45.285920Z",
     "shell.execute_reply": "2024-09-17T09:52:45.284923Z"
    },
    "papermill": {
     "duration": 0.031058,
     "end_time": "2024-09-17T09:52:45.288687",
     "exception": false,
     "start_time": "2024-09-17T09:52:45.257629",
     "status": "completed"
    },
    "tags": []
   },
   "outputs": [
    {
     "data": {
      "text/plain": [
       "Timestamp             datetime64[ns]\n",
       "From Bank                     object\n",
       "Account                       object\n",
       "To Bank                       object\n",
       "Account.1                     object\n",
       "Amount Received              float64\n",
       "Receiving Currency            object\n",
       "Amount Paid                  float64\n",
       "Payment Currency              object\n",
       "Payment Format                object\n",
       "Is Laundering                 object\n",
       "dtype: object"
      ]
     },
     "execution_count": 12,
     "metadata": {},
     "output_type": "execute_result"
    }
   ],
   "source": [
    "df.dtypes"
   ]
  },
  {
   "cell_type": "markdown",
   "id": "c5b3df92",
   "metadata": {
    "papermill": {
     "duration": 0.019853,
     "end_time": "2024-09-17T09:52:45.330596",
     "exception": false,
     "start_time": "2024-09-17T09:52:45.310743",
     "status": "completed"
    },
    "tags": []
   },
   "source": [
    "## Outlier"
   ]
  },
  {
   "cell_type": "code",
   "execution_count": 13,
   "id": "3e31c372",
   "metadata": {
    "execution": {
     "iopub.execute_input": "2024-09-17T09:52:45.371063Z",
     "iopub.status.busy": "2024-09-17T09:52:45.370684Z",
     "iopub.status.idle": "2024-09-17T09:52:47.970027Z",
     "shell.execute_reply": "2024-09-17T09:52:47.969017Z"
    },
    "papermill": {
     "duration": 2.621888,
     "end_time": "2024-09-17T09:52:47.972174",
     "exception": false,
     "start_time": "2024-09-17T09:52:45.350286",
     "status": "completed"
    },
    "tags": []
   },
   "outputs": [
    {
     "data": {
      "text/plain": [
       "<AxesSubplot:>"
      ]
     },
     "execution_count": 13,
     "metadata": {},
     "output_type": "execute_result"
    },
    {
     "data": {
      "image/png": "[encoded data removed]",
      "text/plain": [
       "<Figure size 640x480 with 1 Axes>"
      ]
     },
     "metadata": {},
     "output_type": "display_data"
    }
   ],
   "source": [
    "df['Amount Received'].plot(kind='box')"
   ]
  },
  {
   "cell_type": "markdown",
   "id": "354850e5",
   "metadata": {
    "papermill": {
     "duration": 0.020958,
     "end_time": "2024-09-17T09:52:48.013338",
     "exception": false,
     "start_time": "2024-09-17T09:52:47.992380",
     "status": "completed"
    },
    "tags": []
   },
   "source": [
    "## Univariate Analysis"
   ]
  },
  {
   "cell_type": "code",
   "execution_count": 14,
   "id": "8e3e737f",
   "metadata": {
    "execution": {
     "iopub.execute_input": "2024-09-17T09:52:48.055326Z",
     "iopub.status.busy": "2024-09-17T09:52:48.054940Z",
     "iopub.status.idle": "2024-09-17T09:52:48.061801Z",
     "shell.execute_reply": "2024-09-17T09:52:48.060938Z"
    },
    "papermill": {
     "duration": 0.030381,
     "end_time": "2024-09-17T09:52:48.063872",
     "exception": false,
     "start_time": "2024-09-17T09:52:48.033491",
     "status": "completed"
    },
    "tags": []
   },
   "outputs": [
    {
     "data": {
      "text/plain": [
       "Index(['Timestamp', 'From Bank', 'Account', 'To Bank', 'Account.1',\n",
       "       'Amount Received', 'Receiving Currency', 'Amount Paid',\n",
       "       'Payment Currency', 'Payment Format', 'Is Laundering'],\n",
       "      dtype='object')"
      ]
     },
     "execution_count": 14,
     "metadata": {},
     "output_type": "execute_result"
    }
   ],
   "source": [
    "df.columns"
   ]
  },
  {
   "cell_type": "code",
   "execution_count": 15,
   "id": "d7875838",
   "metadata": {
    "execution": {
     "iopub.execute_input": "2024-09-17T09:52:48.106568Z",
     "iopub.status.busy": "2024-09-17T09:52:48.106209Z",
     "iopub.status.idle": "2024-09-17T09:52:50.028253Z",
     "shell.execute_reply": "2024-09-17T09:52:50.027161Z"
    },
    "papermill": {
     "duration": 1.94678,
     "end_time": "2024-09-17T09:52:50.031066",
     "exception": false,
     "start_time": "2024-09-17T09:52:48.084286",
     "status": "completed"
    },
    "tags": []
   },
   "outputs": [],
   "source": [
    "df['Date']=df[\"Timestamp\"].dt.date"
   ]
  },
  {
   "cell_type": "code",
   "execution_count": 16,
   "id": "4c2ba7c3",
   "metadata": {
    "execution": {
     "iopub.execute_input": "2024-09-17T09:52:50.072542Z",
     "iopub.status.busy": "2024-09-17T09:52:50.072208Z",
     "iopub.status.idle": "2024-09-17T09:52:53.429297Z",
     "shell.execute_reply": "2024-09-17T09:52:53.428398Z"
    },
    "papermill": {
     "duration": 3.380383,
     "end_time": "2024-09-17T09:52:53.431673",
     "exception": false,
     "start_time": "2024-09-17T09:52:50.051290",
     "status": "completed"
    },
    "tags": []
   },
   "outputs": [],
   "source": [
    "df['Time']=df[\"Timestamp\"].dt.time"
   ]
  },
  {
   "cell_type": "code",
   "execution_count": 17,
   "id": "3dc065c2",
   "metadata": {
    "execution": {
     "iopub.execute_input": "2024-09-17T09:52:53.472785Z",
     "iopub.status.busy": "2024-09-17T09:52:53.472149Z",
     "iopub.status.idle": "2024-09-17T09:52:53.490629Z",
     "shell.execute_reply": "2024-09-17T09:52:53.489610Z"
    },
    "papermill": {
     "duration": 0.041281,
     "end_time": "2024-09-17T09:52:53.492954",
     "exception": false,
     "start_time": "2024-09-17T09:52:53.451673",
     "status": "completed"
    },
    "tags": []
   },
   "outputs": [
    {
     "data": {
      "text/html": [
       "<div>\n",
       "<style scoped>\n",
       "    .dataframe tbody tr th:only-of-type {\n",
       "        vertical-align: middle;\n",
       "    }\n",
       "\n",
       "    .dataframe tbody tr th {\n",
       "        vertical-align: top;\n",
       "    }\n",
       "\n",
       "    .dataframe thead th {\n",
       "        text-align: right;\n",
       "    }\n",
       "</style>\n",
       "<table border=\"1\" class=\"dataframe\">\n",
       "  <thead>\n",
       "    <tr style=\"text-align: right;\">\n",
       "      <th></th>\n",
       "      <th>Timestamp</th>\n",
       "      <th>From Bank</th>\n",
       "      <th>Account</th>\n",
       "      <th>To Bank</th>\n",
       "      <th>Account.1</th>\n",
       "      <th>Amount Received</th>\n",
       "      <th>Receiving Currency</th>\n",
       "      <th>Amount Paid</th>\n",
       "      <th>Payment Currency</th>\n",
       "      <th>Payment Format</th>\n",
       "      <th>Is Laundering</th>\n",
       "      <th>Date</th>\n",
       "      <th>Time</th>\n",
       "    </tr>\n",
       "  </thead>\n",
       "  <tbody>\n",
       "    <tr>\n",
       "      <th>0</th>\n",
       "      <td>2022-09-01 00:08:00</td>\n",
       "      <td>11</td>\n",
       "      <td>8000ECA90</td>\n",
       "      <td>11</td>\n",
       "      <td>8000ECA90</td>\n",
       "      <td>3195403.00</td>\n",
       "      <td>US Dollar</td>\n",
       "      <td>3195403.00</td>\n",
       "      <td>US Dollar</td>\n",
       "      <td>Reinvestment</td>\n",
       "      <td>0</td>\n",
       "      <td>2022-09-01</td>\n",
       "      <td>00:08:00</td>\n",
       "    </tr>\n",
       "    <tr>\n",
       "      <th>1</th>\n",
       "      <td>2022-09-01 00:21:00</td>\n",
       "      <td>3402</td>\n",
       "      <td>80021DAD0</td>\n",
       "      <td>3402</td>\n",
       "      <td>80021DAD0</td>\n",
       "      <td>1858.96</td>\n",
       "      <td>US Dollar</td>\n",
       "      <td>1858.96</td>\n",
       "      <td>US Dollar</td>\n",
       "      <td>Reinvestment</td>\n",
       "      <td>0</td>\n",
       "      <td>2022-09-01</td>\n",
       "      <td>00:21:00</td>\n",
       "    </tr>\n",
       "    <tr>\n",
       "      <th>2</th>\n",
       "      <td>2022-09-01 00:00:00</td>\n",
       "      <td>11</td>\n",
       "      <td>8000ECA90</td>\n",
       "      <td>1120</td>\n",
       "      <td>8006AA910</td>\n",
       "      <td>592571.00</td>\n",
       "      <td>US Dollar</td>\n",
       "      <td>592571.00</td>\n",
       "      <td>US Dollar</td>\n",
       "      <td>Cheque</td>\n",
       "      <td>0</td>\n",
       "      <td>2022-09-01</td>\n",
       "      <td>00:00:00</td>\n",
       "    </tr>\n",
       "  </tbody>\n",
       "</table>\n",
       "</div>"
      ],
      "text/plain": [
       "            Timestamp From Bank    Account To Bank  Account.1  \\\n",
       "0 2022-09-01 00:08:00        11  8000ECA90      11  8000ECA90   \n",
       "1 2022-09-01 00:21:00      3402  80021DAD0    3402  80021DAD0   \n",
       "2 2022-09-01 00:00:00        11  8000ECA90    1120  8006AA910   \n",
       "\n",
       "   Amount Received Receiving Currency  Amount Paid Payment Currency  \\\n",
       "0       3195403.00          US Dollar   3195403.00        US Dollar   \n",
       "1          1858.96          US Dollar      1858.96        US Dollar   \n",
       "2        592571.00          US Dollar    592571.00        US Dollar   \n",
       "\n",
       "  Payment Format Is Laundering        Date      Time  \n",
       "0   Reinvestment             0  2022-09-01  00:08:00  \n",
       "1   Reinvestment             0  2022-09-01  00:21:00  \n",
       "2         Cheque             0  2022-09-01  00:00:00  "
      ]
     },
     "execution_count": 17,
     "metadata": {},
     "output_type": "execute_result"
    }
   ],
   "source": [
    "df.head(3)"
   ]
  },
  {
   "cell_type": "code",
   "execution_count": 18,
   "id": "026670f3",
   "metadata": {
    "execution": {
     "iopub.execute_input": "2024-09-17T09:52:53.539520Z",
     "iopub.status.busy": "2024-09-17T09:52:53.539150Z",
     "iopub.status.idle": "2024-09-17T09:52:54.794951Z",
     "shell.execute_reply": "2024-09-17T09:52:54.793990Z"
    },
    "papermill": {
     "duration": 1.282142,
     "end_time": "2024-09-17T09:52:54.797268",
     "exception": false,
     "start_time": "2024-09-17T09:52:53.515126",
     "status": "completed"
    },
    "tags": []
   },
   "outputs": [
    {
     "data": {
      "text/plain": [
       "<AxesSubplot:xlabel='Date'>"
      ]
     },
     "execution_count": 18,
     "metadata": {},
     "output_type": "execute_result"
    },
    {
     "data": {
      "image/png": "[encoded data removed]",
      "text/plain": [
       "<Figure size 640x480 with 1 Axes>"
      ]
     },
     "metadata": {},
     "output_type": "display_data"
    }
   ],
   "source": [
    "df['Date'].value_counts().head().plot(kind='bar')"
   ]
  },
  {
   "cell_type": "code",
   "execution_count": 19,
   "id": "30545e8d",
   "metadata": {
    "execution": {
     "iopub.execute_input": "2024-09-17T09:52:54.842285Z",
     "iopub.status.busy": "2024-09-17T09:52:54.841859Z",
     "iopub.status.idle": "2024-09-17T09:52:56.134054Z",
     "shell.execute_reply": "2024-09-17T09:52:56.133250Z"
    },
    "papermill": {
     "duration": 1.317719,
     "end_time": "2024-09-17T09:52:56.136501",
     "exception": false,
     "start_time": "2024-09-17T09:52:54.818782",
     "status": "completed"
    },
    "tags": []
   },
   "outputs": [
    {
     "data": {
      "text/plain": [
       "<AxesSubplot:xlabel='Time'>"
      ]
     },
     "execution_count": 19,
     "metadata": {},
     "output_type": "execute_result"
    },
    {
     "data": {
      "image/png": "[encoded data removed]",
      "text/plain": [
       "<Figure size 640x480 with 1 Axes>"
      ]
     },
     "metadata": {},
     "output_type": "display_data"
    }
   ],
   "source": [
    "df['Time'].value_counts().head().plot(kind='bar')"
   ]
  },
  {
   "cell_type": "code",
   "execution_count": 20,
   "id": "54f28ad2",
   "metadata": {
    "execution": {
     "iopub.execute_input": "2024-09-17T09:52:56.180786Z",
     "iopub.status.busy": "2024-09-17T09:52:56.180423Z",
     "iopub.status.idle": "2024-09-17T09:52:56.184715Z",
     "shell.execute_reply": "2024-09-17T09:52:56.183844Z"
    },
    "papermill": {
     "duration": 0.028635,
     "end_time": "2024-09-17T09:52:56.186973",
     "exception": false,
     "start_time": "2024-09-17T09:52:56.158338",
     "status": "completed"
    },
    "tags": []
   },
   "outputs": [],
   "source": [
    "# From Which Bank most of the transaction are Happened \n",
    "# From Which Account most of the transaction are Happened \n",
    "# To Which Bank most of the transaction are Happened \n",
    "# To Which Account most of the transaction are Happened "
   ]
  },
  {
   "cell_type": "code",
   "execution_count": 21,
   "id": "ad68ce0a",
   "metadata": {
    "execution": {
     "iopub.execute_input": "2024-09-17T09:52:56.230848Z",
     "iopub.status.busy": "2024-09-17T09:52:56.230535Z",
     "iopub.status.idle": "2024-09-17T09:52:56.247945Z",
     "shell.execute_reply": "2024-09-17T09:52:56.247059Z"
    },
    "papermill": {
     "duration": 0.041614,
     "end_time": "2024-09-17T09:52:56.250116",
     "exception": false,
     "start_time": "2024-09-17T09:52:56.208502",
     "status": "completed"
    },
    "tags": []
   },
   "outputs": [
    {
     "data": {
      "text/plain": [
       "3644853662746.95"
      ]
     },
     "execution_count": 21,
     "metadata": {},
     "output_type": "execute_result"
    }
   ],
   "source": [
    "df['Amount Received'].max()"
   ]
  },
  {
   "cell_type": "code",
   "execution_count": 22,
   "id": "15ad08d5",
   "metadata": {
    "execution": {
     "iopub.execute_input": "2024-09-17T09:52:56.295773Z",
     "iopub.status.busy": "2024-09-17T09:52:56.295432Z",
     "iopub.status.idle": "2024-09-17T09:52:56.313083Z",
     "shell.execute_reply": "2024-09-17T09:52:56.312161Z"
    },
    "papermill": {
     "duration": 0.043095,
     "end_time": "2024-09-17T09:52:56.315115",
     "exception": false,
     "start_time": "2024-09-17T09:52:56.272020",
     "status": "completed"
    },
    "tags": []
   },
   "outputs": [
    {
     "data": {
      "text/plain": [
       "1e-06"
      ]
     },
     "execution_count": 22,
     "metadata": {},
     "output_type": "execute_result"
    }
   ],
   "source": [
    "df['Amount Received'].min()"
   ]
  },
  {
   "cell_type": "code",
   "execution_count": 23,
   "id": "c1509c43",
   "metadata": {
    "execution": {
     "iopub.execute_input": "2024-09-17T09:52:56.360040Z",
     "iopub.status.busy": "2024-09-17T09:52:56.359652Z",
     "iopub.status.idle": "2024-09-17T09:52:56.375936Z",
     "shell.execute_reply": "2024-09-17T09:52:56.375052Z"
    },
    "papermill": {
     "duration": 0.04101,
     "end_time": "2024-09-17T09:52:56.377948",
     "exception": false,
     "start_time": "2024-09-17T09:52:56.336938",
     "status": "completed"
    },
    "tags": []
   },
   "outputs": [
    {
     "data": {
      "text/plain": [
       "6324073.911975413"
      ]
     },
     "execution_count": 23,
     "metadata": {},
     "output_type": "execute_result"
    }
   ],
   "source": [
    "df['Amount Received'].mean()"
   ]
  },
  {
   "cell_type": "code",
   "execution_count": 24,
   "id": "16f87202",
   "metadata": {
    "execution": {
     "iopub.execute_input": "2024-09-17T09:52:56.420877Z",
     "iopub.status.busy": "2024-09-17T09:52:56.420572Z",
     "iopub.status.idle": "2024-09-17T09:52:56.437082Z",
     "shell.execute_reply": "2024-09-17T09:52:56.436185Z"
    },
    "papermill": {
     "duration": 0.040271,
     "end_time": "2024-09-17T09:52:56.439184",
     "exception": false,
     "start_time": "2024-09-17T09:52:56.398913",
     "status": "completed"
    },
    "tags": []
   },
   "outputs": [
    {
     "data": {
      "text/plain": [
       "4676041.375337785"
      ]
     },
     "execution_count": 24,
     "metadata": {},
     "output_type": "execute_result"
    }
   ],
   "source": [
    "df['Amount Paid'].mean()"
   ]
  },
  {
   "cell_type": "code",
   "execution_count": 25,
   "id": "cc65237b",
   "metadata": {
    "execution": {
     "iopub.execute_input": "2024-09-17T09:52:56.483127Z",
     "iopub.status.busy": "2024-09-17T09:52:56.482775Z",
     "iopub.status.idle": "2024-09-17T09:52:56.895859Z",
     "shell.execute_reply": "2024-09-17T09:52:56.894969Z"
    },
    "papermill": {
     "duration": 0.437354,
     "end_time": "2024-09-17T09:52:56.898145",
     "exception": false,
     "start_time": "2024-09-17T09:52:56.460791",
     "status": "completed"
    },
    "tags": []
   },
   "outputs": [
    {
     "data": {
      "text/plain": [
       "array(['US Dollar', 'Euro', 'Bitcoin', 'Yuan', 'Yen', 'UK Pound',\n",
       "       'Brazil Real', 'Australian Dollar', 'Rupee', 'Ruble',\n",
       "       'Canadian Dollar', 'Mexican Peso', 'Swiss Franc', 'Shekel',\n",
       "       'Saudi Riyal'], dtype=object)"
      ]
     },
     "execution_count": 25,
     "metadata": {},
     "output_type": "execute_result"
    }
   ],
   "source": [
    "df['Payment Currency'].unique()"
   ]
  },
  {
   "cell_type": "code",
   "execution_count": 26,
   "id": "79d106e3",
   "metadata": {
    "execution": {
     "iopub.execute_input": "2024-09-17T09:52:56.942974Z",
     "iopub.status.busy": "2024-09-17T09:52:56.942634Z",
     "iopub.status.idle": "2024-09-17T09:52:57.383076Z",
     "shell.execute_reply": "2024-09-17T09:52:57.382140Z"
    },
    "papermill": {
     "duration": 0.465165,
     "end_time": "2024-09-17T09:52:57.385286",
     "exception": false,
     "start_time": "2024-09-17T09:52:56.920121",
     "status": "completed"
    },
    "tags": []
   },
   "outputs": [
    {
     "data": {
      "text/plain": [
       "array(['Reinvestment', 'Cheque', 'ACH', 'Credit Card', 'Wire', 'Cash',\n",
       "       'Bitcoin'], dtype=object)"
      ]
     },
     "execution_count": 26,
     "metadata": {},
     "output_type": "execute_result"
    }
   ],
   "source": [
    "df['Payment Format'].unique()"
   ]
  },
  {
   "cell_type": "code",
   "execution_count": 27,
   "id": "94384a8b",
   "metadata": {
    "execution": {
     "iopub.execute_input": "2024-09-17T09:52:57.431014Z",
     "iopub.status.busy": "2024-09-17T09:52:57.430647Z",
     "iopub.status.idle": "2024-09-17T09:52:58.069698Z",
     "shell.execute_reply": "2024-09-17T09:52:58.068610Z"
    },
    "papermill": {
     "duration": 0.663938,
     "end_time": "2024-09-17T09:52:58.071764",
     "exception": false,
     "start_time": "2024-09-17T09:52:57.407826",
     "status": "completed"
    },
    "tags": []
   },
   "outputs": [
    {
     "data": {
      "text/plain": [
       "Is Laundering\n",
       "0    6920476\n",
       "1       3565\n",
       "Name: count, dtype: int64"
      ]
     },
     "execution_count": 27,
     "metadata": {},
     "output_type": "execute_result"
    }
   ],
   "source": [
    "df['Is Laundering'].value_counts()"
   ]
  },
  {
   "cell_type": "code",
   "execution_count": 28,
   "id": "8d924382",
   "metadata": {
    "execution": {
     "iopub.execute_input": "2024-09-17T09:52:58.157495Z",
     "iopub.status.busy": "2024-09-17T09:52:58.157116Z",
     "iopub.status.idle": "2024-09-17T09:52:58.783512Z",
     "shell.execute_reply": "2024-09-17T09:52:58.782594Z"
    },
    "papermill": {
     "duration": 0.691628,
     "end_time": "2024-09-17T09:52:58.785709",
     "exception": false,
     "start_time": "2024-09-17T09:52:58.094081",
     "status": "completed"
    },
    "tags": []
   },
   "outputs": [
    {
     "data": {
      "text/plain": [
       "Is Laundering\n",
       "0    0.999485\n",
       "1    0.000515\n",
       "Name: count, dtype: float64"
      ]
     },
     "execution_count": 28,
     "metadata": {},
     "output_type": "execute_result"
    }
   ],
   "source": [
    "df['Is Laundering'].value_counts()/df.shape[0]"
   ]
  },
  {
   "cell_type": "markdown",
   "id": "6d2ac17f",
   "metadata": {
    "papermill": {
     "duration": 0.021331,
     "end_time": "2024-09-17T09:52:58.830734",
     "exception": false,
     "start_time": "2024-09-17T09:52:58.809403",
     "status": "completed"
    },
    "tags": []
   },
   "source": [
    "## Bi-Variate Analysis "
   ]
  },
  {
   "cell_type": "code",
   "execution_count": 29,
   "id": "cf0a9e74",
   "metadata": {
    "execution": {
     "iopub.execute_input": "2024-09-17T09:52:58.875656Z",
     "iopub.status.busy": "2024-09-17T09:52:58.875023Z",
     "iopub.status.idle": "2024-09-17T09:52:59.687155Z",
     "shell.execute_reply": "2024-09-17T09:52:59.686150Z"
    },
    "papermill": {
     "duration": 0.83747,
     "end_time": "2024-09-17T09:52:59.689266",
     "exception": false,
     "start_time": "2024-09-17T09:52:58.851796",
     "status": "completed"
    },
    "tags": []
   },
   "outputs": [
    {
     "data": {
      "text/html": [
       "<div>\n",
       "<style scoped>\n",
       "    .dataframe tbody tr th:only-of-type {\n",
       "        vertical-align: middle;\n",
       "    }\n",
       "\n",
       "    .dataframe tbody tr th {\n",
       "        vertical-align: top;\n",
       "    }\n",
       "\n",
       "    .dataframe thead th {\n",
       "        text-align: right;\n",
       "    }\n",
       "</style>\n",
       "<table border=\"1\" class=\"dataframe\">\n",
       "  <thead>\n",
       "    <tr style=\"text-align: right;\">\n",
       "      <th></th>\n",
       "      <th>Timestamp</th>\n",
       "      <th>From Bank</th>\n",
       "      <th>Account</th>\n",
       "      <th>To Bank</th>\n",
       "      <th>Account.1</th>\n",
       "      <th>Amount Received</th>\n",
       "      <th>Receiving Currency</th>\n",
       "      <th>Amount Paid</th>\n",
       "      <th>Payment Currency</th>\n",
       "      <th>Payment Format</th>\n",
       "      <th>Is Laundering</th>\n",
       "      <th>Date</th>\n",
       "      <th>Time</th>\n",
       "    </tr>\n",
       "  </thead>\n",
       "  <tbody>\n",
       "    <tr>\n",
       "      <th>38272</th>\n",
       "      <td>2022-09-01 00:02:00</td>\n",
       "      <td>70</td>\n",
       "      <td>10042B660</td>\n",
       "      <td>22661</td>\n",
       "      <td>805F7F2B0</td>\n",
       "      <td>7.083164e+04</td>\n",
       "      <td>US Dollar</td>\n",
       "      <td>7.083164e+04</td>\n",
       "      <td>US Dollar</td>\n",
       "      <td>Cash</td>\n",
       "      <td>1</td>\n",
       "      <td>2022-09-01</td>\n",
       "      <td>00:02:00</td>\n",
       "    </tr>\n",
       "    <tr>\n",
       "      <th>39028</th>\n",
       "      <td>2022-09-01 00:19:00</td>\n",
       "      <td>70</td>\n",
       "      <td>10042B660</td>\n",
       "      <td>212996</td>\n",
       "      <td>80609B4C0</td>\n",
       "      <td>3.370547e+04</td>\n",
       "      <td>US Dollar</td>\n",
       "      <td>3.370547e+04</td>\n",
       "      <td>US Dollar</td>\n",
       "      <td>Cash</td>\n",
       "      <td>1</td>\n",
       "      <td>2022-09-01</td>\n",
       "      <td>00:19:00</td>\n",
       "    </tr>\n",
       "    <tr>\n",
       "      <th>50683</th>\n",
       "      <td>2022-09-01 00:01:00</td>\n",
       "      <td>70</td>\n",
       "      <td>10042B660</td>\n",
       "      <td>11305</td>\n",
       "      <td>807861770</td>\n",
       "      <td>1.097976e+06</td>\n",
       "      <td>US Dollar</td>\n",
       "      <td>1.097976e+06</td>\n",
       "      <td>US Dollar</td>\n",
       "      <td>Cash</td>\n",
       "      <td>1</td>\n",
       "      <td>2022-09-01</td>\n",
       "      <td>00:01:00</td>\n",
       "    </tr>\n",
       "    <tr>\n",
       "      <th>127003</th>\n",
       "      <td>2022-09-01 00:00:00</td>\n",
       "      <td>11968</td>\n",
       "      <td>815630C40</td>\n",
       "      <td>249349</td>\n",
       "      <td>815635220</td>\n",
       "      <td>8.923300e+02</td>\n",
       "      <td>US Dollar</td>\n",
       "      <td>8.923300e+02</td>\n",
       "      <td>US Dollar</td>\n",
       "      <td>ACH</td>\n",
       "      <td>1</td>\n",
       "      <td>2022-09-01</td>\n",
       "      <td>00:00:00</td>\n",
       "    </tr>\n",
       "    <tr>\n",
       "      <th>136967</th>\n",
       "      <td>2022-09-01 00:25:00</td>\n",
       "      <td>70</td>\n",
       "      <td>10042B660</td>\n",
       "      <td>11968</td>\n",
       "      <td>816F93AF0</td>\n",
       "      <td>1.808140e+03</td>\n",
       "      <td>US Dollar</td>\n",
       "      <td>1.808140e+03</td>\n",
       "      <td>US Dollar</td>\n",
       "      <td>Cheque</td>\n",
       "      <td>1</td>\n",
       "      <td>2022-09-01</td>\n",
       "      <td>00:25:00</td>\n",
       "    </tr>\n",
       "    <tr>\n",
       "      <th>...</th>\n",
       "      <td>...</td>\n",
       "      <td>...</td>\n",
       "      <td>...</td>\n",
       "      <td>...</td>\n",
       "      <td>...</td>\n",
       "      <td>...</td>\n",
       "      <td>...</td>\n",
       "      <td>...</td>\n",
       "      <td>...</td>\n",
       "      <td>...</td>\n",
       "      <td>...</td>\n",
       "      <td>...</td>\n",
       "      <td>...</td>\n",
       "    </tr>\n",
       "    <tr>\n",
       "      <th>6914370</th>\n",
       "      <td>2022-09-10 23:03:00</td>\n",
       "      <td>21939</td>\n",
       "      <td>812C4D330</td>\n",
       "      <td>41215</td>\n",
       "      <td>812C4D420</td>\n",
       "      <td>3.858790e+03</td>\n",
       "      <td>US Dollar</td>\n",
       "      <td>3.858790e+03</td>\n",
       "      <td>US Dollar</td>\n",
       "      <td>ACH</td>\n",
       "      <td>1</td>\n",
       "      <td>2022-09-10</td>\n",
       "      <td>23:03:00</td>\n",
       "    </tr>\n",
       "    <tr>\n",
       "      <th>6920167</th>\n",
       "      <td>2022-09-10 23:31:00</td>\n",
       "      <td>233465</td>\n",
       "      <td>814A02750</td>\n",
       "      <td>33219</td>\n",
       "      <td>814A02890</td>\n",
       "      <td>2.788770e+03</td>\n",
       "      <td>US Dollar</td>\n",
       "      <td>2.788770e+03</td>\n",
       "      <td>US Dollar</td>\n",
       "      <td>ACH</td>\n",
       "      <td>1</td>\n",
       "      <td>2022-09-10</td>\n",
       "      <td>23:31:00</td>\n",
       "    </tr>\n",
       "    <tr>\n",
       "      <th>6921098</th>\n",
       "      <td>2022-09-10 23:42:00</td>\n",
       "      <td>7839</td>\n",
       "      <td>807780F40</td>\n",
       "      <td>14652</td>\n",
       "      <td>8077814E0</td>\n",
       "      <td>1.168380e+03</td>\n",
       "      <td>Euro</td>\n",
       "      <td>1.168380e+03</td>\n",
       "      <td>Euro</td>\n",
       "      <td>ACH</td>\n",
       "      <td>1</td>\n",
       "      <td>2022-09-10</td>\n",
       "      <td>23:42:00</td>\n",
       "    </tr>\n",
       "    <tr>\n",
       "      <th>6921684</th>\n",
       "      <td>2022-09-10 23:31:00</td>\n",
       "      <td>216208</td>\n",
       "      <td>814C44D60</td>\n",
       "      <td>3460</td>\n",
       "      <td>814C44DB0</td>\n",
       "      <td>2.285860e+03</td>\n",
       "      <td>Euro</td>\n",
       "      <td>2.285860e+03</td>\n",
       "      <td>Euro</td>\n",
       "      <td>ACH</td>\n",
       "      <td>1</td>\n",
       "      <td>2022-09-10</td>\n",
       "      <td>23:31:00</td>\n",
       "    </tr>\n",
       "    <tr>\n",
       "      <th>6923934</th>\n",
       "      <td>2022-09-10 23:50:00</td>\n",
       "      <td>269312</td>\n",
       "      <td>81AD3C841</td>\n",
       "      <td>170566</td>\n",
       "      <td>81AD3E951</td>\n",
       "      <td>3.311360e-01</td>\n",
       "      <td>Bitcoin</td>\n",
       "      <td>3.311360e-01</td>\n",
       "      <td>Bitcoin</td>\n",
       "      <td>Bitcoin</td>\n",
       "      <td>1</td>\n",
       "      <td>2022-09-10</td>\n",
       "      <td>23:50:00</td>\n",
       "    </tr>\n",
       "  </tbody>\n",
       "</table>\n",
       "<p>3565 rows × 13 columns</p>\n",
       "</div>"
      ],
      "text/plain": [
       "                  Timestamp From Bank    Account To Bank  Account.1  \\\n",
       "38272   2022-09-01 00:02:00        70  10042B660   22661  805F7F2B0   \n",
       "39028   2022-09-01 00:19:00        70  10042B660  212996  80609B4C0   \n",
       "50683   2022-09-01 00:01:00        70  10042B660   11305  807861770   \n",
       "127003  2022-09-01 00:00:00     11968  815630C40  249349  815635220   \n",
       "136967  2022-09-01 00:25:00        70  10042B660   11968  816F93AF0   \n",
       "...                     ...       ...        ...     ...        ...   \n",
       "6914370 2022-09-10 23:03:00     21939  812C4D330   41215  812C4D420   \n",
       "6920167 2022-09-10 23:31:00    233465  814A02750   33219  814A02890   \n",
       "6921098 2022-09-10 23:42:00      7839  807780F40   14652  8077814E0   \n",
       "6921684 2022-09-10 23:31:00    216208  814C44D60    3460  814C44DB0   \n",
       "6923934 2022-09-10 23:50:00    269312  81AD3C841  170566  81AD3E951   \n",
       "\n",
       "         Amount Received Receiving Currency   Amount Paid Payment Currency  \\\n",
       "38272       7.083164e+04          US Dollar  7.083164e+04        US Dollar   \n",
       "39028       3.370547e+04          US Dollar  3.370547e+04        US Dollar   \n",
       "50683       1.097976e+06          US Dollar  1.097976e+06        US Dollar   \n",
       "127003      8.923300e+02          US Dollar  8.923300e+02        US Dollar   \n",
       "136967      1.808140e+03          US Dollar  1.808140e+03        US Dollar   \n",
       "...                  ...                ...           ...              ...   \n",
       "6914370     3.858790e+03          US Dollar  3.858790e+03        US Dollar   \n",
       "6920167     2.788770e+03          US Dollar  2.788770e+03        US Dollar   \n",
       "6921098     1.168380e+03               Euro  1.168380e+03             Euro   \n",
       "6921684     2.285860e+03               Euro  2.285860e+03             Euro   \n",
       "6923934     3.311360e-01            Bitcoin  3.311360e-01          Bitcoin   \n",
       "\n",
       "        Payment Format Is Laundering        Date      Time  \n",
       "38272             Cash             1  2022-09-01  00:02:00  \n",
       "39028             Cash             1  2022-09-01  00:19:00  \n",
       "50683             Cash             1  2022-09-01  00:01:00  \n",
       "127003             ACH             1  2022-09-01  00:00:00  \n",
       "136967          Cheque             1  2022-09-01  00:25:00  \n",
       "...                ...           ...         ...       ...  \n",
       "6914370            ACH             1  2022-09-10  23:03:00  \n",
       "6920167            ACH             1  2022-09-10  23:31:00  \n",
       "6921098            ACH             1  2022-09-10  23:42:00  \n",
       "6921684            ACH             1  2022-09-10  23:31:00  \n",
       "6923934        Bitcoin             1  2022-09-10  23:50:00  \n",
       "\n",
       "[3565 rows x 13 columns]"
      ]
     },
     "execution_count": 29,
     "metadata": {},
     "output_type": "execute_result"
    }
   ],
   "source": [
    "df[df['Is Laundering']==1]"
   ]
  },
  {
   "cell_type": "code",
   "execution_count": 30,
   "id": "f7647d8d",
   "metadata": {
    "execution": {
     "iopub.execute_input": "2024-09-17T09:52:59.734928Z",
     "iopub.status.busy": "2024-09-17T09:52:59.734593Z",
     "iopub.status.idle": "2024-09-17T09:53:00.532304Z",
     "shell.execute_reply": "2024-09-17T09:53:00.531404Z"
    },
    "papermill": {
     "duration": 0.822852,
     "end_time": "2024-09-17T09:53:00.534512",
     "exception": false,
     "start_time": "2024-09-17T09:52:59.711660",
     "status": "completed"
    },
    "tags": []
   },
   "outputs": [
    {
     "data": {
      "text/plain": [
       "38272      2022-09-01\n",
       "39028      2022-09-01\n",
       "50683      2022-09-01\n",
       "127003     2022-09-01\n",
       "136967     2022-09-01\n",
       "              ...    \n",
       "6914370    2022-09-10\n",
       "6920167    2022-09-10\n",
       "6921098    2022-09-10\n",
       "6921684    2022-09-10\n",
       "6923934    2022-09-10\n",
       "Name: Date, Length: 3565, dtype: object"
      ]
     },
     "execution_count": 30,
     "metadata": {},
     "output_type": "execute_result"
    }
   ],
   "source": [
    "df[df['Is Laundering']==1]['Date']"
   ]
  },
  {
   "cell_type": "code",
   "execution_count": 31,
   "id": "7602286f",
   "metadata": {
    "execution": {
     "iopub.execute_input": "2024-09-17T09:53:00.583733Z",
     "iopub.status.busy": "2024-09-17T09:53:00.583410Z",
     "iopub.status.idle": "2024-09-17T09:53:01.372836Z",
     "shell.execute_reply": "2024-09-17T09:53:01.371865Z"
    },
    "papermill": {
     "duration": 0.815827,
     "end_time": "2024-09-17T09:53:01.374955",
     "exception": false,
     "start_time": "2024-09-17T09:53:00.559128",
     "status": "completed"
    },
    "tags": []
   },
   "outputs": [
    {
     "data": {
      "text/plain": [
       "Date\n",
       "2022-09-08    402\n",
       "2022-09-06    380\n",
       "2022-09-05    370\n",
       "2022-09-07    368\n",
       "2022-09-09    367\n",
       "2022-09-02    350\n",
       "2022-09-01    310\n",
       "2022-09-10    301\n",
       "2022-09-03    292\n",
       "2022-09-04    291\n",
       "2022-09-11     47\n",
       "2022-09-13     29\n",
       "2022-09-12     27\n",
       "2022-09-14     18\n",
       "2022-09-15      6\n",
       "2022-09-16      5\n",
       "2022-09-17      2\n",
       "Name: count, dtype: int64"
      ]
     },
     "execution_count": 31,
     "metadata": {},
     "output_type": "execute_result"
    }
   ],
   "source": [
    "df[df['Is Laundering']==1]['Date'].value_counts()"
   ]
  },
  {
   "cell_type": "code",
   "execution_count": 32,
   "id": "81e86cdf",
   "metadata": {
    "execution": {
     "iopub.execute_input": "2024-09-17T09:53:01.423127Z",
     "iopub.status.busy": "2024-09-17T09:53:01.422790Z",
     "iopub.status.idle": "2024-09-17T09:53:02.608043Z",
     "shell.execute_reply": "2024-09-17T09:53:02.607128Z"
    },
    "papermill": {
     "duration": 1.212245,
     "end_time": "2024-09-17T09:53:02.610429",
     "exception": false,
     "start_time": "2024-09-17T09:53:01.398184",
     "status": "completed"
    },
    "tags": []
   },
   "outputs": [
    {
     "data": {
      "text/plain": [
       "<AxesSubplot:xlabel='Date'>"
      ]
     },
     "execution_count": 32,
     "metadata": {},
     "output_type": "execute_result"
    },
    {
     "data": {
      "image/png": "[encoded data removed]",
      "text/plain": [
       "<Figure size 640x480 with 1 Axes>"
      ]
     },
     "metadata": {},
     "output_type": "display_data"
    }
   ],
   "source": [
    "df[df['Is Laundering']==1]['Date'].value_counts().plot(kind='bar')"
   ]
  },
  {
   "cell_type": "code",
   "execution_count": 33,
   "id": "94525e6b",
   "metadata": {
    "execution": {
     "iopub.execute_input": "2024-09-17T09:53:02.658722Z",
     "iopub.status.busy": "2024-09-17T09:53:02.658382Z",
     "iopub.status.idle": "2024-09-17T09:53:03.478341Z",
     "shell.execute_reply": "2024-09-17T09:53:03.477350Z"
    },
    "papermill": {
     "duration": 0.846781,
     "end_time": "2024-09-17T09:53:03.480738",
     "exception": false,
     "start_time": "2024-09-17T09:53:02.633957",
     "status": "completed"
    },
    "tags": []
   },
   "outputs": [
    {
     "data": {
      "text/plain": [
       "Time\n",
       "00:03:00    12\n",
       "12:58:00    10\n",
       "16:00:00     9\n",
       "19:25:00     8\n",
       "12:27:00     8\n",
       "            ..\n",
       "17:06:00     1\n",
       "09:39:00     1\n",
       "22:35:00     1\n",
       "22:28:00     1\n",
       "22:34:00     1\n",
       "Name: count, Length: 1299, dtype: int64"
      ]
     },
     "execution_count": 33,
     "metadata": {},
     "output_type": "execute_result"
    }
   ],
   "source": [
    "df[df['Is Laundering']==1]['Time'].value_counts()"
   ]
  },
  {
   "cell_type": "code",
   "execution_count": 34,
   "id": "2cbf7d72",
   "metadata": {
    "execution": {
     "iopub.execute_input": "2024-09-17T09:53:03.529291Z",
     "iopub.status.busy": "2024-09-17T09:53:03.528418Z",
     "iopub.status.idle": "2024-09-17T09:53:04.536217Z",
     "shell.execute_reply": "2024-09-17T09:53:04.535255Z"
    },
    "papermill": {
     "duration": 1.034088,
     "end_time": "2024-09-17T09:53:04.538333",
     "exception": false,
     "start_time": "2024-09-17T09:53:03.504245",
     "status": "completed"
    },
    "tags": []
   },
   "outputs": [
    {
     "data": {
      "text/plain": [
       "<AxesSubplot:xlabel='Time'>"
      ]
     },
     "execution_count": 34,
     "metadata": {},
     "output_type": "execute_result"
    },
    {
     "data": {
      "image/png": "[encoded data removed]",
      "text/plain": [
       "<Figure size 640x480 with 1 Axes>"
      ]
     },
     "metadata": {},
     "output_type": "display_data"
    }
   ],
   "source": [
    "df[df['Is Laundering']==1]['Time'].value_counts().plot(kind='line')"
   ]
  },
  {
   "cell_type": "code",
   "execution_count": 35,
   "id": "a8b450c5",
   "metadata": {
    "execution": {
     "iopub.execute_input": "2024-09-17T09:53:04.590236Z",
     "iopub.status.busy": "2024-09-17T09:53:04.589830Z",
     "iopub.status.idle": "2024-09-17T09:53:05.396193Z",
     "shell.execute_reply": "2024-09-17T09:53:05.395137Z"
    },
    "papermill": {
     "duration": 0.83528,
     "end_time": "2024-09-17T09:53:05.398681",
     "exception": false,
     "start_time": "2024-09-17T09:53:04.563401",
     "status": "completed"
    },
    "tags": []
   },
   "outputs": [
    {
     "data": {
      "text/plain": [
       "From Bank\n",
       "70      850\n",
       "11       83\n",
       "20       78\n",
       "12       64\n",
       "1217     47\n",
       "Name: count, dtype: int64"
      ]
     },
     "execution_count": 35,
     "metadata": {},
     "output_type": "execute_result"
    }
   ],
   "source": [
    "df[df['Is Laundering']==1]['From Bank'].value_counts().head()"
   ]
  },
  {
   "cell_type": "code",
   "execution_count": 36,
   "id": "dcb436e3",
   "metadata": {
    "execution": {
     "iopub.execute_input": "2024-09-17T09:53:05.450804Z",
     "iopub.status.busy": "2024-09-17T09:53:05.450469Z",
     "iopub.status.idle": "2024-09-17T09:53:06.434648Z",
     "shell.execute_reply": "2024-09-17T09:53:06.433608Z"
    },
    "papermill": {
     "duration": 1.011954,
     "end_time": "2024-09-17T09:53:06.437130",
     "exception": false,
     "start_time": "2024-09-17T09:53:05.425176",
     "status": "completed"
    },
    "tags": []
   },
   "outputs": [
    {
     "data": {
      "text/plain": [
       "<AxesSubplot:xlabel='From Bank'>"
      ]
     },
     "execution_count": 36,
     "metadata": {},
     "output_type": "execute_result"
    },
    {
     "data": {
      "image/png": "[encoded data removed]",
      "text/plain": [
       "<Figure size 640x480 with 1 Axes>"
      ]
     },
     "metadata": {},
     "output_type": "display_data"
    }
   ],
   "source": [
    "df[df['Is Laundering']==1]['From Bank'].value_counts().head().plot(kind='bar')"
   ]
  },
  {
   "cell_type": "code",
   "execution_count": 37,
   "id": "35ee0eda",
   "metadata": {
    "execution": {
     "iopub.execute_input": "2024-09-17T09:53:06.489918Z",
     "iopub.status.busy": "2024-09-17T09:53:06.489501Z",
     "iopub.status.idle": "2024-09-17T09:53:07.706466Z",
     "shell.execute_reply": "2024-09-17T09:53:07.705500Z"
    },
    "papermill": {
     "duration": 1.24636,
     "end_time": "2024-09-17T09:53:07.709075",
     "exception": false,
     "start_time": "2024-09-17T09:53:06.462715",
     "status": "completed"
    },
    "tags": []
   },
   "outputs": [
    {
     "data": {
      "text/html": [
       "<div>\n",
       "<style scoped>\n",
       "    .dataframe tbody tr th:only-of-type {\n",
       "        vertical-align: middle;\n",
       "    }\n",
       "\n",
       "    .dataframe tbody tr th {\n",
       "        vertical-align: top;\n",
       "    }\n",
       "\n",
       "    .dataframe thead th {\n",
       "        text-align: right;\n",
       "    }\n",
       "</style>\n",
       "<table border=\"1\" class=\"dataframe\">\n",
       "  <thead>\n",
       "    <tr style=\"text-align: right;\">\n",
       "      <th></th>\n",
       "      <th>Timestamp</th>\n",
       "      <th>From Bank</th>\n",
       "      <th>Account</th>\n",
       "      <th>To Bank</th>\n",
       "      <th>Account.1</th>\n",
       "      <th>Amount Received</th>\n",
       "      <th>Receiving Currency</th>\n",
       "      <th>Amount Paid</th>\n",
       "      <th>Payment Currency</th>\n",
       "      <th>Payment Format</th>\n",
       "      <th>Is Laundering</th>\n",
       "      <th>Date</th>\n",
       "      <th>Time</th>\n",
       "    </tr>\n",
       "  </thead>\n",
       "  <tbody>\n",
       "    <tr>\n",
       "      <th>0</th>\n",
       "      <td>2022-09-01 00:08:00</td>\n",
       "      <td>11</td>\n",
       "      <td>8000ECA90</td>\n",
       "      <td>11</td>\n",
       "      <td>8000ECA90</td>\n",
       "      <td>3.195403e+06</td>\n",
       "      <td>US Dollar</td>\n",
       "      <td>3195403.00</td>\n",
       "      <td>US Dollar</td>\n",
       "      <td>Reinvestment</td>\n",
       "      <td>0</td>\n",
       "      <td>2022-09-01</td>\n",
       "      <td>00:08:00</td>\n",
       "    </tr>\n",
       "    <tr>\n",
       "      <th>1</th>\n",
       "      <td>2022-09-01 00:21:00</td>\n",
       "      <td>3402</td>\n",
       "      <td>80021DAD0</td>\n",
       "      <td>3402</td>\n",
       "      <td>80021DAD0</td>\n",
       "      <td>1.858960e+03</td>\n",
       "      <td>US Dollar</td>\n",
       "      <td>1858.96</td>\n",
       "      <td>US Dollar</td>\n",
       "      <td>Reinvestment</td>\n",
       "      <td>0</td>\n",
       "      <td>2022-09-01</td>\n",
       "      <td>00:21:00</td>\n",
       "    </tr>\n",
       "    <tr>\n",
       "      <th>2</th>\n",
       "      <td>2022-09-01 00:00:00</td>\n",
       "      <td>11</td>\n",
       "      <td>8000ECA90</td>\n",
       "      <td>1120</td>\n",
       "      <td>8006AA910</td>\n",
       "      <td>5.925710e+05</td>\n",
       "      <td>US Dollar</td>\n",
       "      <td>592571.00</td>\n",
       "      <td>US Dollar</td>\n",
       "      <td>Cheque</td>\n",
       "      <td>0</td>\n",
       "      <td>2022-09-01</td>\n",
       "      <td>00:00:00</td>\n",
       "    </tr>\n",
       "    <tr>\n",
       "      <th>3</th>\n",
       "      <td>2022-09-01 00:16:00</td>\n",
       "      <td>3814</td>\n",
       "      <td>8006AD080</td>\n",
       "      <td>3814</td>\n",
       "      <td>8006AD080</td>\n",
       "      <td>1.232000e+01</td>\n",
       "      <td>US Dollar</td>\n",
       "      <td>12.32</td>\n",
       "      <td>US Dollar</td>\n",
       "      <td>Reinvestment</td>\n",
       "      <td>0</td>\n",
       "      <td>2022-09-01</td>\n",
       "      <td>00:16:00</td>\n",
       "    </tr>\n",
       "    <tr>\n",
       "      <th>4</th>\n",
       "      <td>2022-09-01 00:00:00</td>\n",
       "      <td>20</td>\n",
       "      <td>8006AD530</td>\n",
       "      <td>20</td>\n",
       "      <td>8006AD530</td>\n",
       "      <td>2.941560e+03</td>\n",
       "      <td>US Dollar</td>\n",
       "      <td>2941.56</td>\n",
       "      <td>US Dollar</td>\n",
       "      <td>Reinvestment</td>\n",
       "      <td>0</td>\n",
       "      <td>2022-09-01</td>\n",
       "      <td>00:00:00</td>\n",
       "    </tr>\n",
       "    <tr>\n",
       "      <th>...</th>\n",
       "      <td>...</td>\n",
       "      <td>...</td>\n",
       "      <td>...</td>\n",
       "      <td>...</td>\n",
       "      <td>...</td>\n",
       "      <td>...</td>\n",
       "      <td>...</td>\n",
       "      <td>...</td>\n",
       "      <td>...</td>\n",
       "      <td>...</td>\n",
       "      <td>...</td>\n",
       "      <td>...</td>\n",
       "      <td>...</td>\n",
       "    </tr>\n",
       "    <tr>\n",
       "      <th>6923820</th>\n",
       "      <td>2022-09-10 23:38:00</td>\n",
       "      <td>3389</td>\n",
       "      <td>807ECF700</td>\n",
       "      <td>3389</td>\n",
       "      <td>807ECF700</td>\n",
       "      <td>5.245935e+04</td>\n",
       "      <td>Saudi Riyal</td>\n",
       "      <td>13985.06</td>\n",
       "      <td>US Dollar</td>\n",
       "      <td>ACH</td>\n",
       "      <td>0</td>\n",
       "      <td>2022-09-10</td>\n",
       "      <td>23:38:00</td>\n",
       "    </tr>\n",
       "    <tr>\n",
       "      <th>6923886</th>\n",
       "      <td>2022-09-10 23:38:00</td>\n",
       "      <td>236488</td>\n",
       "      <td>814B886B1</td>\n",
       "      <td>236488</td>\n",
       "      <td>814B886B0</td>\n",
       "      <td>3.300000e-05</td>\n",
       "      <td>Bitcoin</td>\n",
       "      <td>0.39</td>\n",
       "      <td>US Dollar</td>\n",
       "      <td>ACH</td>\n",
       "      <td>0</td>\n",
       "      <td>2022-09-10</td>\n",
       "      <td>23:38:00</td>\n",
       "    </tr>\n",
       "    <tr>\n",
       "      <th>6924019</th>\n",
       "      <td>2022-09-10 23:38:00</td>\n",
       "      <td>13474</td>\n",
       "      <td>803A93631</td>\n",
       "      <td>13474</td>\n",
       "      <td>803A93630</td>\n",
       "      <td>7.000000e-06</td>\n",
       "      <td>Bitcoin</td>\n",
       "      <td>0.08</td>\n",
       "      <td>US Dollar</td>\n",
       "      <td>ACH</td>\n",
       "      <td>0</td>\n",
       "      <td>2022-09-10</td>\n",
       "      <td>23:38:00</td>\n",
       "    </tr>\n",
       "    <tr>\n",
       "      <th>6924021</th>\n",
       "      <td>2022-09-10 23:31:00</td>\n",
       "      <td>13474</td>\n",
       "      <td>803A93631</td>\n",
       "      <td>13474</td>\n",
       "      <td>803A93630</td>\n",
       "      <td>2.000000e-05</td>\n",
       "      <td>Bitcoin</td>\n",
       "      <td>0.23</td>\n",
       "      <td>US Dollar</td>\n",
       "      <td>ACH</td>\n",
       "      <td>0</td>\n",
       "      <td>2022-09-10</td>\n",
       "      <td>23:31:00</td>\n",
       "    </tr>\n",
       "    <tr>\n",
       "      <th>6924023</th>\n",
       "      <td>2022-09-10 23:56:00</td>\n",
       "      <td>13474</td>\n",
       "      <td>803A93631</td>\n",
       "      <td>13474</td>\n",
       "      <td>803A93630</td>\n",
       "      <td>1.000000e-06</td>\n",
       "      <td>Bitcoin</td>\n",
       "      <td>0.01</td>\n",
       "      <td>US Dollar</td>\n",
       "      <td>ACH</td>\n",
       "      <td>0</td>\n",
       "      <td>2022-09-10</td>\n",
       "      <td>23:56:00</td>\n",
       "    </tr>\n",
       "  </tbody>\n",
       "</table>\n",
       "<p>2553886 rows × 13 columns</p>\n",
       "</div>"
      ],
      "text/plain": [
       "                  Timestamp From Bank    Account To Bank  Account.1  \\\n",
       "0       2022-09-01 00:08:00        11  8000ECA90      11  8000ECA90   \n",
       "1       2022-09-01 00:21:00      3402  80021DAD0    3402  80021DAD0   \n",
       "2       2022-09-01 00:00:00        11  8000ECA90    1120  8006AA910   \n",
       "3       2022-09-01 00:16:00      3814  8006AD080    3814  8006AD080   \n",
       "4       2022-09-01 00:00:00        20  8006AD530      20  8006AD530   \n",
       "...                     ...       ...        ...     ...        ...   \n",
       "6923820 2022-09-10 23:38:00      3389  807ECF700    3389  807ECF700   \n",
       "6923886 2022-09-10 23:38:00    236488  814B886B1  236488  814B886B0   \n",
       "6924019 2022-09-10 23:38:00     13474  803A93631   13474  803A93630   \n",
       "6924021 2022-09-10 23:31:00     13474  803A93631   13474  803A93630   \n",
       "6924023 2022-09-10 23:56:00     13474  803A93631   13474  803A93630   \n",
       "\n",
       "         Amount Received Receiving Currency  Amount Paid Payment Currency  \\\n",
       "0           3.195403e+06          US Dollar   3195403.00        US Dollar   \n",
       "1           1.858960e+03          US Dollar      1858.96        US Dollar   \n",
       "2           5.925710e+05          US Dollar    592571.00        US Dollar   \n",
       "3           1.232000e+01          US Dollar        12.32        US Dollar   \n",
       "4           2.941560e+03          US Dollar      2941.56        US Dollar   \n",
       "...                  ...                ...          ...              ...   \n",
       "6923820     5.245935e+04        Saudi Riyal     13985.06        US Dollar   \n",
       "6923886     3.300000e-05            Bitcoin         0.39        US Dollar   \n",
       "6924019     7.000000e-06            Bitcoin         0.08        US Dollar   \n",
       "6924021     2.000000e-05            Bitcoin         0.23        US Dollar   \n",
       "6924023     1.000000e-06            Bitcoin         0.01        US Dollar   \n",
       "\n",
       "        Payment Format Is Laundering        Date      Time  \n",
       "0         Reinvestment             0  2022-09-01  00:08:00  \n",
       "1         Reinvestment             0  2022-09-01  00:21:00  \n",
       "2               Cheque             0  2022-09-01  00:00:00  \n",
       "3         Reinvestment             0  2022-09-01  00:16:00  \n",
       "4         Reinvestment             0  2022-09-01  00:00:00  \n",
       "...                ...           ...         ...       ...  \n",
       "6923820            ACH             0  2022-09-10  23:38:00  \n",
       "6923886            ACH             0  2022-09-10  23:38:00  \n",
       "6924019            ACH             0  2022-09-10  23:38:00  \n",
       "6924021            ACH             0  2022-09-10  23:31:00  \n",
       "6924023            ACH             0  2022-09-10  23:56:00  \n",
       "\n",
       "[2553886 rows x 13 columns]"
      ]
     },
     "execution_count": 37,
     "metadata": {},
     "output_type": "execute_result"
    }
   ],
   "source": [
    "df[df['Payment Currency']=='US Dollar']"
   ]
  },
  {
   "cell_type": "code",
   "execution_count": 38,
   "id": "1edb41e0",
   "metadata": {
    "execution": {
     "iopub.execute_input": "2024-09-17T09:53:07.763106Z",
     "iopub.status.busy": "2024-09-17T09:53:07.762782Z",
     "iopub.status.idle": "2024-09-17T09:53:09.397394Z",
     "shell.execute_reply": "2024-09-17T09:53:09.396330Z"
    },
    "papermill": {
     "duration": 1.662705,
     "end_time": "2024-09-17T09:53:09.399703",
     "exception": false,
     "start_time": "2024-09-17T09:53:07.736998",
     "status": "completed"
    },
    "tags": []
   },
   "outputs": [
    {
     "data": {
      "text/plain": [
       "2358387413.91"
      ]
     },
     "execution_count": 38,
     "metadata": {},
     "output_type": "execute_result"
    }
   ],
   "source": [
    "df[(df['Is Laundering'] == 1) & (df['Payment Currency'] == \"US Dollar\")]['Amount Paid'].sum()\n"
   ]
  },
  {
   "cell_type": "code",
   "execution_count": 39,
   "id": "6b3a978a",
   "metadata": {
    "execution": {
     "iopub.execute_input": "2024-09-17T09:53:09.453973Z",
     "iopub.status.busy": "2024-09-17T09:53:09.453589Z",
     "iopub.status.idle": "2024-09-17T09:53:10.264525Z",
     "shell.execute_reply": "2024-09-17T09:53:10.263505Z"
    },
    "papermill": {
     "duration": 0.840683,
     "end_time": "2024-09-17T09:53:10.266952",
     "exception": false,
     "start_time": "2024-09-17T09:53:09.426269",
     "status": "completed"
    },
    "tags": []
   },
   "outputs": [
    {
     "data": {
      "text/plain": [
       "Payment Format\n",
       "ACH            2611\n",
       "Cheque          459\n",
       "Credit Card     261\n",
       "Cash            124\n",
       "Bitcoin         110\n",
       "Name: count, dtype: int64"
      ]
     },
     "execution_count": 39,
     "metadata": {},
     "output_type": "execute_result"
    }
   ],
   "source": [
    "df[df['Is Laundering'] == 1]['Payment Format'].value_counts()\n"
   ]
  },
  {
   "cell_type": "code",
   "execution_count": 40,
   "id": "6ab918af",
   "metadata": {
    "execution": {
     "iopub.execute_input": "2024-09-17T09:53:10.321660Z",
     "iopub.status.busy": "2024-09-17T09:53:10.321293Z",
     "iopub.status.idle": "2024-09-17T09:53:11.370400Z",
     "shell.execute_reply": "2024-09-17T09:53:11.369332Z"
    },
    "papermill": {
     "duration": 1.078916,
     "end_time": "2024-09-17T09:53:11.372571",
     "exception": false,
     "start_time": "2024-09-17T09:53:10.293655",
     "status": "completed"
    },
    "tags": []
   },
   "outputs": [
    {
     "data": {
      "text/plain": [
       "<AxesSubplot:xlabel='Payment Format'>"
      ]
     },
     "execution_count": 40,
     "metadata": {},
     "output_type": "execute_result"
    },
    {
     "data": {
      "image/png": "[encoded data removed]",
      "text/plain": [
       "<Figure size 640x480 with 1 Axes>"
      ]
     },
     "metadata": {},
     "output_type": "display_data"
    }
   ],
   "source": [
    "df[df['Is Laundering'] == 1]['Payment Format'].value_counts().plot(kind=\"bar\")\n"
   ]
  },
  {
   "cell_type": "markdown",
   "id": "044a8aaa",
   "metadata": {
    "papermill": {
     "duration": 0.025548,
     "end_time": "2024-09-17T09:53:11.423852",
     "exception": false,
     "start_time": "2024-09-17T09:53:11.398304",
     "status": "completed"
    },
    "tags": []
   },
   "source": [
    "## Relationship"
   ]
  },
  {
   "cell_type": "code",
   "execution_count": 41,
   "id": "b71cacc7",
   "metadata": {
    "execution": {
     "iopub.execute_input": "2024-09-17T09:53:11.476232Z",
     "iopub.status.busy": "2024-09-17T09:53:11.475798Z",
     "iopub.status.idle": "2024-09-17T09:53:13.199757Z",
     "shell.execute_reply": "2024-09-17T09:53:13.198969Z"
    },
    "papermill": {
     "duration": 1.753351,
     "end_time": "2024-09-17T09:53:13.202523",
     "exception": false,
     "start_time": "2024-09-17T09:53:11.449172",
     "status": "completed"
    },
    "tags": []
   },
   "outputs": [],
   "source": [
    "df['Week']=df['Timestamp'].dt.day_name()"
   ]
  },
  {
   "cell_type": "code",
   "execution_count": 42,
   "id": "3831b6b2",
   "metadata": {
    "execution": {
     "iopub.execute_input": "2024-09-17T09:53:13.256670Z",
     "iopub.status.busy": "2024-09-17T09:53:13.256277Z",
     "iopub.status.idle": "2024-09-17T09:53:14.009965Z",
     "shell.execute_reply": "2024-09-17T09:53:14.009049Z"
    },
    "papermill": {
     "duration": 0.783665,
     "end_time": "2024-09-17T09:53:14.012599",
     "exception": false,
     "start_time": "2024-09-17T09:53:13.228934",
     "status": "completed"
    },
    "tags": []
   },
   "outputs": [],
   "source": [
    "df.drop([\"Timestamp\",'Date'],axis =1,inplace = True)"
   ]
  },
  {
   "cell_type": "code",
   "execution_count": 43,
   "id": "d71487b2",
   "metadata": {
    "execution": {
     "iopub.execute_input": "2024-09-17T09:53:14.066492Z",
     "iopub.status.busy": "2024-09-17T09:53:14.066148Z",
     "iopub.status.idle": "2024-09-17T09:53:14.082351Z",
     "shell.execute_reply": "2024-09-17T09:53:14.081466Z"
    },
    "papermill": {
     "duration": 0.045858,
     "end_time": "2024-09-17T09:53:14.084857",
     "exception": false,
     "start_time": "2024-09-17T09:53:14.038999",
     "status": "completed"
    },
    "tags": []
   },
   "outputs": [
    {
     "data": {
      "text/html": [
       "<div>\n",
       "<style scoped>\n",
       "    .dataframe tbody tr th:only-of-type {\n",
       "        vertical-align: middle;\n",
       "    }\n",
       "\n",
       "    .dataframe tbody tr th {\n",
       "        vertical-align: top;\n",
       "    }\n",
       "\n",
       "    .dataframe thead th {\n",
       "        text-align: right;\n",
       "    }\n",
       "</style>\n",
       "<table border=\"1\" class=\"dataframe\">\n",
       "  <thead>\n",
       "    <tr style=\"text-align: right;\">\n",
       "      <th></th>\n",
       "      <th>From Bank</th>\n",
       "      <th>Account</th>\n",
       "      <th>To Bank</th>\n",
       "      <th>Account.1</th>\n",
       "      <th>Amount Received</th>\n",
       "      <th>Receiving Currency</th>\n",
       "      <th>Amount Paid</th>\n",
       "      <th>Payment Currency</th>\n",
       "      <th>Payment Format</th>\n",
       "      <th>Is Laundering</th>\n",
       "      <th>Time</th>\n",
       "      <th>Week</th>\n",
       "    </tr>\n",
       "  </thead>\n",
       "  <tbody>\n",
       "    <tr>\n",
       "      <th>0</th>\n",
       "      <td>11</td>\n",
       "      <td>8000ECA90</td>\n",
       "      <td>11</td>\n",
       "      <td>8000ECA90</td>\n",
       "      <td>3195403.00</td>\n",
       "      <td>US Dollar</td>\n",
       "      <td>3195403.00</td>\n",
       "      <td>US Dollar</td>\n",
       "      <td>Reinvestment</td>\n",
       "      <td>0</td>\n",
       "      <td>00:08:00</td>\n",
       "      <td>Thursday</td>\n",
       "    </tr>\n",
       "    <tr>\n",
       "      <th>1</th>\n",
       "      <td>3402</td>\n",
       "      <td>80021DAD0</td>\n",
       "      <td>3402</td>\n",
       "      <td>80021DAD0</td>\n",
       "      <td>1858.96</td>\n",
       "      <td>US Dollar</td>\n",
       "      <td>1858.96</td>\n",
       "      <td>US Dollar</td>\n",
       "      <td>Reinvestment</td>\n",
       "      <td>0</td>\n",
       "      <td>00:21:00</td>\n",
       "      <td>Thursday</td>\n",
       "    </tr>\n",
       "  </tbody>\n",
       "</table>\n",
       "</div>"
      ],
      "text/plain": [
       "  From Bank    Account To Bank  Account.1  Amount Received Receiving Currency  \\\n",
       "0        11  8000ECA90      11  8000ECA90       3195403.00          US Dollar   \n",
       "1      3402  80021DAD0    3402  80021DAD0          1858.96          US Dollar   \n",
       "\n",
       "   Amount Paid Payment Currency Payment Format Is Laundering      Time  \\\n",
       "0   3195403.00        US Dollar   Reinvestment             0  00:08:00   \n",
       "1      1858.96        US Dollar   Reinvestment             0  00:21:00   \n",
       "\n",
       "       Week  \n",
       "0  Thursday  \n",
       "1  Thursday  "
      ]
     },
     "execution_count": 43,
     "metadata": {},
     "output_type": "execute_result"
    }
   ],
   "source": [
    "df.head(2)"
   ]
  },
  {
   "cell_type": "code",
   "execution_count": 44,
   "id": "cc7bc268",
   "metadata": {
    "execution": {
     "iopub.execute_input": "2024-09-17T09:53:14.139322Z",
     "iopub.status.busy": "2024-09-17T09:53:14.138885Z",
     "iopub.status.idle": "2024-09-17T09:53:14.784824Z",
     "shell.execute_reply": "2024-09-17T09:53:14.783514Z"
    },
    "papermill": {
     "duration": 0.67533,
     "end_time": "2024-09-17T09:53:14.787719",
     "exception": false,
     "start_time": "2024-09-17T09:53:14.112389",
     "status": "completed"
    },
    "tags": []
   },
   "outputs": [],
   "source": [
    "df.drop('Time',axis = 1,inplace = True)"
   ]
  },
  {
   "cell_type": "code",
   "execution_count": 45,
   "id": "033845d7",
   "metadata": {
    "execution": {
     "iopub.execute_input": "2024-09-17T09:53:14.854337Z",
     "iopub.status.busy": "2024-09-17T09:53:14.853953Z",
     "iopub.status.idle": "2024-09-17T09:53:16.591592Z",
     "shell.execute_reply": "2024-09-17T09:53:16.590702Z"
    },
    "papermill": {
     "duration": 1.76962,
     "end_time": "2024-09-17T09:53:16.593982",
     "exception": false,
     "start_time": "2024-09-17T09:53:14.824362",
     "status": "completed"
    },
    "tags": []
   },
   "outputs": [],
   "source": [
    "contingency = pd.crosstab(df['Is Laundering'], df['Week'])\n"
   ]
  },
  {
   "cell_type": "code",
   "execution_count": 46,
   "id": "c39856e1",
   "metadata": {
    "execution": {
     "iopub.execute_input": "2024-09-17T09:53:16.649970Z",
     "iopub.status.busy": "2024-09-17T09:53:16.649625Z",
     "iopub.status.idle": "2024-09-17T09:53:17.677653Z",
     "shell.execute_reply": "2024-09-17T09:53:17.676560Z"
    },
    "papermill": {
     "duration": 1.059074,
     "end_time": "2024-09-17T09:53:17.679961",
     "exception": false,
     "start_time": "2024-09-17T09:53:16.620887",
     "status": "completed"
    },
    "tags": []
   },
   "outputs": [
    {
     "name": "stdout",
     "output_type": "stream",
     "text": [
      "There is a relationship\n"
     ]
    }
   ],
   "source": [
    "import scipy.stats as st\n",
    "x,p,y,z = st.chi2_contingency(contingency)\n",
    "\n",
    "if p < 0.05:\n",
    "    print(\"There is a relationship\")\n",
    "else:\n",
    "    print(\"There is no relation ship\")"
   ]
  },
  {
   "cell_type": "code",
   "execution_count": 47,
   "id": "591992ae",
   "metadata": {
    "execution": {
     "iopub.execute_input": "2024-09-17T09:53:17.733585Z",
     "iopub.status.busy": "2024-09-17T09:53:17.733062Z",
     "iopub.status.idle": "2024-09-17T09:53:19.408948Z",
     "shell.execute_reply": "2024-09-17T09:53:19.407956Z"
    },
    "papermill": {
     "duration": 1.705001,
     "end_time": "2024-09-17T09:53:19.411531",
     "exception": false,
     "start_time": "2024-09-17T09:53:17.706530",
     "status": "completed"
    },
    "tags": []
   },
   "outputs": [
    {
     "name": "stdout",
     "output_type": "stream",
     "text": [
      "There is a relationship\n"
     ]
    }
   ],
   "source": [
    "contingency = pd.crosstab(df['Payment Format'],df['Is Laundering'])\n",
    "x,p,y,z = st.chi2_contingency(contingency)\n",
    "\n",
    "if p < 0.05:\n",
    "    print(\"There is a relationship\")\n",
    "else:\n",
    "    print(\"There is no relation ship\")"
   ]
  },
  {
   "cell_type": "code",
   "execution_count": 48,
   "id": "248e4c26",
   "metadata": {
    "execution": {
     "iopub.execute_input": "2024-09-17T09:53:19.468442Z",
     "iopub.status.busy": "2024-09-17T09:53:19.468061Z",
     "iopub.status.idle": "2024-09-17T09:53:21.108758Z",
     "shell.execute_reply": "2024-09-17T09:53:21.107719Z"
    },
    "papermill": {
     "duration": 1.670809,
     "end_time": "2024-09-17T09:53:21.111324",
     "exception": false,
     "start_time": "2024-09-17T09:53:19.440515",
     "status": "completed"
    },
    "tags": []
   },
   "outputs": [
    {
     "name": "stdout",
     "output_type": "stream",
     "text": [
      "There is a relationship\n"
     ]
    }
   ],
   "source": [
    "contingency = pd.crosstab(df['Payment Currency'],df['Is Laundering'])\n",
    "x,p,y,z = st.chi2_contingency(contingency)\n",
    "\n",
    "if p < 0.05:\n",
    "    print(\"There is a relationship\")\n",
    "else:\n",
    "    print(\"There is no relation ship\")"
   ]
  },
  {
   "cell_type": "markdown",
   "id": "256f320b",
   "metadata": {
    "papermill": {
     "duration": 0.026173,
     "end_time": "2024-09-17T09:53:21.163694",
     "exception": false,
     "start_time": "2024-09-17T09:53:21.137521",
     "status": "completed"
    },
    "tags": []
   },
   "source": [
    "# Model Building"
   ]
  },
  {
   "cell_type": "code",
   "execution_count": 49,
   "id": "9aef4832",
   "metadata": {
    "execution": {
     "iopub.execute_input": "2024-09-17T09:53:21.217046Z",
     "iopub.status.busy": "2024-09-17T09:53:21.216386Z",
     "iopub.status.idle": "2024-09-17T09:53:21.771907Z",
     "shell.execute_reply": "2024-09-17T09:53:21.770756Z"
    },
    "papermill": {
     "duration": 0.584943,
     "end_time": "2024-09-17T09:53:21.774380",
     "exception": false,
     "start_time": "2024-09-17T09:53:21.189437",
     "status": "completed"
    },
    "tags": []
   },
   "outputs": [],
   "source": [
    "X = df.drop(['Is Laundering'],axis = 1)\n",
    "y = df['Is Laundering']"
   ]
  },
  {
   "cell_type": "code",
   "execution_count": 50,
   "id": "9fccb688",
   "metadata": {
    "execution": {
     "iopub.execute_input": "2024-09-17T09:53:21.829808Z",
     "iopub.status.busy": "2024-09-17T09:53:21.828939Z",
     "iopub.status.idle": "2024-09-17T09:53:21.834012Z",
     "shell.execute_reply": "2024-09-17T09:53:21.833031Z"
    },
    "papermill": {
     "duration": 0.035402,
     "end_time": "2024-09-17T09:53:21.836200",
     "exception": false,
     "start_time": "2024-09-17T09:53:21.800798",
     "status": "completed"
    },
    "tags": []
   },
   "outputs": [],
   "source": [
    "cat = ['From Bank','Account','To Bank','Receiving Currency','Payment Currency','Payment Format','Week']"
   ]
  },
  {
   "cell_type": "code",
   "execution_count": 51,
   "id": "b75e945c",
   "metadata": {
    "execution": {
     "iopub.execute_input": "2024-09-17T09:53:21.892397Z",
     "iopub.status.busy": "2024-09-17T09:53:21.892019Z",
     "iopub.status.idle": "2024-09-17T09:53:36.691844Z",
     "shell.execute_reply": "2024-09-17T09:53:36.690553Z"
    },
    "papermill": {
     "duration": 14.830675,
     "end_time": "2024-09-17T09:53:36.694359",
     "exception": false,
     "start_time": "2024-09-17T09:53:21.863684",
     "status": "completed"
    },
    "tags": []
   },
   "outputs": [
    {
     "name": "stdout",
     "output_type": "stream",
     "text": [
      "Requirement already satisfied: xgboost in c:\\users\\91771\\anaconda3\\envs\\tf\\lib\\site-packages (2.1.1)\n",
      "Requirement already satisfied: numpy in c:\\users\\91771\\anaconda3\\envs\\tf\\lib\\site-packages (from xgboost) (1.22.4)\n",
      "Requirement already satisfied: scipy in c:\\users\\91771\\anaconda3\\envs\\tf\\lib\\site-packages (from xgboost) (1.13.1)\n",
      "Note: you may need to restart the kernel to use updated packages.\n"
     ]
    }
   ],
   "source": [
    "pip install xgboost"
   ]
  },
  {
   "cell_type": "code",
   "execution_count": 52,
   "id": "f0d56198",
   "metadata": {
    "execution": {
     "iopub.execute_input": "2024-09-17T09:53:36.750246Z",
     "iopub.status.busy": "2024-09-17T09:53:36.749843Z",
     "iopub.status.idle": "2024-09-17T09:53:37.144604Z",
     "shell.execute_reply": "2024-09-17T09:53:37.143654Z"
    },
    "papermill": {
     "duration": 0.424629,
     "end_time": "2024-09-17T09:53:37.147057",
     "exception": false,
     "start_time": "2024-09-17T09:53:36.722428",
     "status": "completed"
    },
    "tags": []
   },
   "outputs": [],
   "source": [
    "from sklearn.preprocessing import OneHotEncoder\n",
    "from sklearn.pipeline import Pipeline\n",
    "from sklearn.compose import ColumnTransformer\n",
    "from xgboost import XGBClassifier\n",
    "from sklearn.model_selection import train_test_split"
   ]
  },
  {
   "cell_type": "code",
   "execution_count": 53,
   "id": "bb5de644",
   "metadata": {
    "execution": {
     "iopub.execute_input": "2024-09-17T09:53:37.202289Z",
     "iopub.status.busy": "2024-09-17T09:53:37.201362Z",
     "iopub.status.idle": "2024-09-17T09:53:43.359825Z",
     "shell.execute_reply": "2024-09-17T09:53:43.358585Z"
    },
    "papermill": {
     "duration": 6.188771,
     "end_time": "2024-09-17T09:53:43.362702",
     "exception": false,
     "start_time": "2024-09-17T09:53:37.173931",
     "status": "completed"
    },
    "tags": []
   },
   "outputs": [],
   "source": [
    "X_train,X_test,y_train,y_test = train_test_split(X,y,test_size = 0.3,random_state = 42)"
   ]
  },
  {
   "cell_type": "code",
   "execution_count": 54,
   "id": "e2d3564a",
   "metadata": {
    "execution": {
     "iopub.execute_input": "2024-09-17T09:53:43.418849Z",
     "iopub.status.busy": "2024-09-17T09:53:43.418505Z",
     "iopub.status.idle": "2024-09-17T09:53:43.423298Z",
     "shell.execute_reply": "2024-09-17T09:53:43.422318Z"
    },
    "papermill": {
     "duration": 0.033934,
     "end_time": "2024-09-17T09:53:43.425335",
     "exception": false,
     "start_time": "2024-09-17T09:53:43.391401",
     "status": "completed"
    },
    "tags": []
   },
   "outputs": [],
   "source": [
    "ohe = Pipeline([('Encoder',OneHotEncoder(drop = 'first',handle_unknown='ignore'))])"
   ]
  },
  {
   "cell_type": "code",
   "execution_count": 55,
   "id": "768cc6a7",
   "metadata": {
    "execution": {
     "iopub.execute_input": "2024-09-17T09:53:43.479187Z",
     "iopub.status.busy": "2024-09-17T09:53:43.478837Z",
     "iopub.status.idle": "2024-09-17T09:53:43.483227Z",
     "shell.execute_reply": "2024-09-17T09:53:43.482228Z"
    },
    "papermill": {
     "duration": 0.033698,
     "end_time": "2024-09-17T09:53:43.485163",
     "exception": false,
     "start_time": "2024-09-17T09:53:43.451465",
     "status": "completed"
    },
    "tags": []
   },
   "outputs": [],
   "source": [
    "transformer = ColumnTransformer([('One Hot Encoding',ohe,cat)])"
   ]
  },
  {
   "cell_type": "code",
   "execution_count": 56,
   "id": "53d22a9a",
   "metadata": {
    "execution": {
     "iopub.execute_input": "2024-09-17T09:53:43.545151Z",
     "iopub.status.busy": "2024-09-17T09:53:43.544151Z",
     "iopub.status.idle": "2024-09-17T09:53:43.550275Z",
     "shell.execute_reply": "2024-09-17T09:53:43.549021Z"
    },
    "papermill": {
     "duration": 0.041247,
     "end_time": "2024-09-17T09:53:43.552770",
     "exception": false,
     "start_time": "2024-09-17T09:53:43.511523",
     "status": "completed"
    },
    "tags": []
   },
   "outputs": [],
   "source": [
    "model = Pipeline([(\"Transformer\",transformer),\n",
    "                 (\"Estimator\",XGBClassifier())])"
   ]
  },
  {
   "cell_type": "code",
   "execution_count": 57,
   "id": "d7d47e0a",
   "metadata": {
    "execution": {
     "iopub.execute_input": "2024-09-17T09:53:43.621364Z",
     "iopub.status.busy": "2024-09-17T09:53:43.620967Z",
     "iopub.status.idle": "2024-09-17T09:56:02.322205Z",
     "shell.execute_reply": "2024-09-17T09:56:02.321134Z"
    },
    "papermill": {
     "duration": 138.738389,
     "end_time": "2024-09-17T09:56:02.325495",
     "exception": false,
     "start_time": "2024-09-17T09:53:43.587106",
     "status": "completed"
    },
    "tags": []
   },
   "outputs": [
    {
     "name": "stderr",
     "output_type": "stream",
     "text": [
      "C:\\Users\\91771\\anaconda3\\envs\\tf\\lib\\site-packages\\sklearn\\preprocessing\\_encoders.py:242: UserWarning: Found unknown categories in columns [0, 1, 2] during transform. These unknown categories will be encoded as all zeros\n",
      "  warnings.warn(\n"
     ]
    }
   ],
   "source": [
    "model.fit(X_train,y_train)\n",
    "y_pred = model.predict(X_test)"
   ]
  },
  {
   "cell_type": "code",
   "execution_count": 58,
   "id": "10728175",
   "metadata": {
    "execution": {
     "iopub.execute_input": "2024-09-17T09:56:02.383334Z",
     "iopub.status.busy": "2024-09-17T09:56:02.382908Z",
     "iopub.status.idle": "2024-09-17T09:56:02.387506Z",
     "shell.execute_reply": "2024-09-17T09:56:02.386548Z"
    },
    "papermill": {
     "duration": 0.035154,
     "end_time": "2024-09-17T09:56:02.389536",
     "exception": false,
     "start_time": "2024-09-17T09:56:02.354382",
     "status": "completed"
    },
    "tags": []
   },
   "outputs": [],
   "source": [
    "from sklearn.metrics import classification_report"
   ]
  },
  {
   "cell_type": "code",
   "execution_count": 59,
   "id": "7422b7d3",
   "metadata": {
    "execution": {
     "iopub.execute_input": "2024-09-17T09:56:02.445513Z",
     "iopub.status.busy": "2024-09-17T09:56:02.445144Z",
     "iopub.status.idle": "2024-09-17T09:56:07.783645Z",
     "shell.execute_reply": "2024-09-17T09:56:07.782092Z"
    },
    "papermill": {
     "duration": 5.369827,
     "end_time": "2024-09-17T09:56:07.785886",
     "exception": false,
     "start_time": "2024-09-17T09:56:02.416059",
     "status": "completed"
    },
    "tags": []
   },
   "outputs": [
    {
     "name": "stdout",
     "output_type": "stream",
     "text": [
      "              precision    recall  f1-score   support\n",
      "\n",
      "           0       1.00      1.00      1.00   2076113\n",
      "           1       1.00      0.03      0.05      1100\n",
      "\n",
      "    accuracy                           1.00   2077213\n",
      "   macro avg       1.00      0.51      0.53   2077213\n",
      "weighted avg       1.00      1.00      1.00   2077213\n",
      "\n"
     ]
    }
   ],
   "source": [
    "print(classification_report(y_test.astype('int'),y_pred))"
   ]
  },
  {
   "cell_type": "code",
   "execution_count": 60,
   "id": "bf6c8884",
   "metadata": {
    "execution": {
     "iopub.execute_input": "2024-09-17T09:56:07.839035Z",
     "iopub.status.busy": "2024-09-17T09:56:07.838661Z",
     "iopub.status.idle": "2024-09-17T09:56:21.469200Z",
     "shell.execute_reply": "2024-09-17T09:56:21.467944Z"
    },
    "papermill": {
     "duration": 13.659481,
     "end_time": "2024-09-17T09:56:21.471522",
     "exception": false,
     "start_time": "2024-09-17T09:56:07.812041",
     "status": "completed"
    },
    "tags": []
   },
   "outputs": [
    {
     "name": "stdout",
     "output_type": "stream",
     "text": [
      "Requirement already satisfied: imblearn in c:\\users\\91771\\anaconda3\\envs\\tf\\lib\\site-packages (0.0)\n",
      "Requirement already satisfied: imbalanced-learn in c:\\users\\91771\\anaconda3\\envs\\tf\\lib\\site-packages (from imblearn) (0.12.3)\n",
      "Requirement already satisfied: numpy>=1.17.3 in c:\\users\\91771\\anaconda3\\envs\\tf\\lib\\site-packages (from imbalanced-learn->imblearn) (1.22.4)\n",
      "Requirement already satisfied: scipy>=1.5.0 in c:\\users\\91771\\anaconda3\\envs\\tf\\lib\\site-packages (from imbalanced-learn->imblearn) (1.13.1)\n",
      "Requirement already satisfied: scikit-learn>=1.0.2 in c:\\users\\91771\\anaconda3\\envs\\tf\\lib\\site-packages (from imbalanced-learn->imblearn) (1.5.1)\n",
      "Requirement already satisfied: joblib>=1.1.1 in c:\\users\\91771\\anaconda3\\envs\\tf\\lib\\site-packages (from imbalanced-learn->imblearn) (1.4.2)\n",
      "Requirement already satisfied: threadpoolctl>=2.0.0 in c:\\users\\91771\\anaconda3\\envs\\tf\\lib\\site-packages (from imbalanced-learn->imblearn) (3.5.0)\n",
      "Note: you may need to restart the kernel to use updated packages.\n"
     ]
    }
   ],
   "source": [
    "pip install imblearn"
   ]
  },
  {
   "cell_type": "code",
   "execution_count": 61,
   "id": "ba0c1c72",
   "metadata": {
    "execution": {
     "iopub.execute_input": "2024-09-17T09:56:21.529742Z",
     "iopub.status.busy": "2024-09-17T09:56:21.529357Z",
     "iopub.status.idle": "2024-09-17T09:56:21.840412Z",
     "shell.execute_reply": "2024-09-17T09:56:21.839625Z"
    },
    "papermill": {
     "duration": 0.342559,
     "end_time": "2024-09-17T09:56:21.842841",
     "exception": false,
     "start_time": "2024-09-17T09:56:21.500282",
     "status": "completed"
    },
    "tags": []
   },
   "outputs": [],
   "source": [
    "from imblearn.under_sampling import RandomUnderSampler"
   ]
  },
  {
   "cell_type": "code",
   "execution_count": 62,
   "id": "533329a6",
   "metadata": {
    "execution": {
     "iopub.execute_input": "2024-09-17T09:56:21.898175Z",
     "iopub.status.busy": "2024-09-17T09:56:21.897476Z",
     "iopub.status.idle": "2024-09-17T09:56:24.519512Z",
     "shell.execute_reply": "2024-09-17T09:56:24.518651Z"
    },
    "papermill": {
     "duration": 2.652246,
     "end_time": "2024-09-17T09:56:24.522037",
     "exception": false,
     "start_time": "2024-09-17T09:56:21.869791",
     "status": "completed"
    },
    "tags": []
   },
   "outputs": [],
   "source": [
    "rus = RandomUnderSampler()\n",
    "X_s,y_s = rus.fit_resample(X,y.astype('int'))"
   ]
  },
  {
   "cell_type": "code",
   "execution_count": 63,
   "id": "51aec31c",
   "metadata": {
    "execution": {
     "iopub.execute_input": "2024-09-17T09:56:24.576327Z",
     "iopub.status.busy": "2024-09-17T09:56:24.576004Z",
     "iopub.status.idle": "2024-09-17T09:56:27.766601Z",
     "shell.execute_reply": "2024-09-17T09:56:27.765655Z"
    },
    "papermill": {
     "duration": 3.220024,
     "end_time": "2024-09-17T09:56:27.768870",
     "exception": false,
     "start_time": "2024-09-17T09:56:24.548846",
     "status": "completed"
    },
    "tags": []
   },
   "outputs": [
    {
     "name": "stdout",
     "output_type": "stream",
     "text": [
      "              precision    recall  f1-score   support\n",
      "\n",
      "           0       0.95      0.77      0.85      1085\n",
      "           1       0.80      0.96      0.87      1054\n",
      "\n",
      "    accuracy                           0.86      2139\n",
      "   macro avg       0.88      0.87      0.86      2139\n",
      "weighted avg       0.88      0.86      0.86      2139\n",
      "\n"
     ]
    },
    {
     "name": "stderr",
     "output_type": "stream",
     "text": [
      "C:\\Users\\91771\\anaconda3\\envs\\tf\\lib\\site-packages\\sklearn\\preprocessing\\_encoders.py:242: UserWarning: Found unknown categories in columns [0, 1, 2] during transform. These unknown categories will be encoded as all zeros\n",
      "  warnings.warn(\n",
      "C:\\Users\\91771\\anaconda3\\envs\\tf\\lib\\site-packages\\sklearn\\preprocessing\\_encoders.py:242: UserWarning: Found unknown categories in columns [0, 1, 2] during transform. These unknown categories will be encoded as all zeros\n",
      "  warnings.warn(\n"
     ]
    }
   ],
   "source": [
    "X_train,X_test,y_train,y_test = train_test_split(X_s,y_s,test_size=0.3,random_state=42)\n",
    "ohe = Pipeline([('Encoder',OneHotEncoder(drop = 'first',handle_unknown='ignore'))])\n",
    "transformer = ColumnTransformer([('One Hot Encoding',ohe,cat)])\n",
    "model = Pipeline([(\"Transformer\",transformer),\n",
    "                 (\"Estimator\",XGBClassifier())])\n",
    "model.fit(X_train,y_train)\n",
    "y_pred = model.predict(X_test).astype('object')\n",
    "y_pred = model.predict(X_test)\n",
    "print(classification_report(y_test.astype('int'),y_pred))"
   ]
  },
  {
   "cell_type": "markdown",
   "id": "6fe5d740",
   "metadata": {},
   "source": [
    "# Saving Pickel File"
   ]
  },
  {
   "cell_type": "code",
   "execution_count": 66,
   "id": "aa3992d1",
   "metadata": {
    "papermill": {
     "duration": 0.028162,
     "end_time": "2024-09-17T09:56:27.825725",
     "exception": false,
     "start_time": "2024-09-17T09:56:27.797563",
     "status": "completed"
    },
    "tags": []
   },
   "outputs": [],
   "source": [
    "import pickle\n",
    "import os\n",
    "\n",
    "# Function to save the model and display the location\n",
    "def save_model(model, filename):\n",
    "    try:\n",
    "        # Save the model\n",
    "        with open(filename, 'wb') as file:\n",
    "            pickle.dump(model, file)\n",
    "        \n",
    "        # Check if the file was saved and get its absolute path\n",
    "        if os.path.exists(filename):\n",
    "            file_path = os.path.abspath(filename)\n",
    "            print(f\"Pickle file saved successfully at: {file_path}\")\n",
    "            return file_path\n",
    "        else:\n",
    "            print(\"File not found. It may not have been saved correctly.\")\n",
    "    except Exception as e:\n",
    "        print(f\"An error occurred: {e}\")\n",
    "\n",
    "# Example usage:\n",
    "# save_model(trained_model, 'model.pkl')\n"
   ]
  },
  {
   "cell_type": "code",
   "execution_count": 67,
   "id": "d9b75908",
   "metadata": {},
   "outputs": [],
   "source": [
    "import pickle\n",
    "import os\n",
    "\n",
    "# Function to save the model\n",
    "def save_model(model, filename):\n",
    "    with open(filename, 'wb') as file:\n",
    "        pickle.dump(model, file)\n",
    "    \n",
    "    # Get the full file path\n",
    "    file_path = os.path.abspath(filename)\n",
    "    print(f\"Pickle file saved at: {file_path}\")\n",
    "    return file_path\n",
    "\n",
    "# Example usage:\n",
    "# save_model(trained_model, 'model.pkl')\n"
   ]
  },
  {
   "cell_type": "code",
   "execution_count": 68,
   "id": "f0f7e037",
   "metadata": {},
   "outputs": [
    {
     "name": "stdout",
     "output_type": "stream",
     "text": [
      "Pickle file saved at: C:\\Users\\91771\\Innomatics\\Machine Learning\\Machine Learning\\ML Phase - 2\\End To End Project\\Laundering\n"
     ]
    },
    {
     "data": {
      "text/plain": [
       "'C:\\\\Users\\\\91771\\\\Innomatics\\\\Machine Learning\\\\Machine Learning\\\\ML Phase - 2\\\\End To End Project\\\\Laundering'"
      ]
     },
     "execution_count": 68,
     "metadata": {},
     "output_type": "execute_result"
    }
   ],
   "source": [
    "save_model(model, \"Laundering\")"
   ]
  },
  {
   "cell_type": "code",
   "execution_count": null,
   "id": "d3a767a1",
   "metadata": {},
   "outputs": [],
   "source": []
  }
 ],
 "metadata": {
  "kaggle": {
   "accelerator": "gpu",
   "dataSources": [
    {
     "datasetId": 2948142,
     "sourceId": 5080714,
     "sourceType": "datasetVersion"
    }
   ],
   "dockerImageVersionId": 30762,
   "isGpuEnabled": true,
   "isInternetEnabled": true,
   "language": "python",
   "sourceType": "notebook"
  },
  "kernelspec": {
   "display_name": "Python 3 (ipykernel)",
   "language": "python",
   "name": "python3"
  },
  "language_info": {
   "codemirror_mode": {
    "name": "ipython",
    "version": 3
   },
   "file_extension": ".py",
   "mimetype": "text/x-python",
   "name": "python",
   "nbconvert_exporter": "python",
   "pygments_lexer": "ipython3",
   "version": "3.9.13"
  },
  "papermill": {
   "default_parameters": {},
   "duration": 263.798413,
   "end_time": "2024-09-17T09:56:30.472684",
   "environment_variables": {},
   "exception": null,
   "input_path": "__notebook__.ipynb",
   "output_path": "__notebook__.ipynb",
   "parameters": {},
   "start_time": "2024-09-17T09:52:06.674271",
   "version": "2.6.0"
  }
 },
 "nbformat": 4,
 "nbformat_minor": 5
}
