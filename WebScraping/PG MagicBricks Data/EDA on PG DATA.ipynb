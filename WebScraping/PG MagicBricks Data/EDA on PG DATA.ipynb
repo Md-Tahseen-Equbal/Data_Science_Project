{
 "cells": [
  {
   "cell_type": "markdown",
   "id": "73ff40e5",
   "metadata": {},
   "source": [
    "# Import Required Library"
   ]
  },
  {
   "cell_type": "code",
   "execution_count": 1,
   "id": "4dce8223",
   "metadata": {},
   "outputs": [],
   "source": [
    "import numpy as np\n",
    "import pandas as pd\n",
    "import matplotlib.pyplot as plt\n",
    "import seaborn as sns\n",
    "import re"
   ]
  },
  {
   "cell_type": "markdown",
   "id": "c0e40cbe",
   "metadata": {},
   "source": [
    "# Load Data Set"
   ]
  },
  {
   "cell_type": "code",
   "execution_count": 2,
   "id": "e773c843",
   "metadata": {},
   "outputs": [],
   "source": [
    "df = pd.read_csv(r'C:\\Users\\91771\\Desktop\\Innomatic\\EDA\\Webscraping\\Project\\pghostels.csv')"
   ]
  },
  {
   "cell_type": "code",
   "execution_count": 3,
   "id": "21c8bb34",
   "metadata": {},
   "outputs": [
    {
     "data": {
      "text/html": [
       "<div>\n",
       "<style scoped>\n",
       "    .dataframe tbody tr th:only-of-type {\n",
       "        vertical-align: middle;\n",
       "    }\n",
       "\n",
       "    .dataframe tbody tr th {\n",
       "        vertical-align: top;\n",
       "    }\n",
       "\n",
       "    .dataframe thead th {\n",
       "        text-align: right;\n",
       "    }\n",
       "</style>\n",
       "<table border=\"1\" class=\"dataframe\">\n",
       "  <thead>\n",
       "    <tr style=\"text-align: right;\">\n",
       "      <th></th>\n",
       "      <th>Unnamed: 0</th>\n",
       "      <th>Title</th>\n",
       "      <th>Location</th>\n",
       "      <th>Price</th>\n",
       "      <th>Room Info</th>\n",
       "      <th>Type</th>\n",
       "      <th>Places</th>\n",
       "    </tr>\n",
       "  </thead>\n",
       "  <tbody>\n",
       "    <tr>\n",
       "      <th>0</th>\n",
       "      <td>0</td>\n",
       "      <td>N GRAND MEN'S PG/Paying Guest</td>\n",
       "      <td>in Kondapur</td>\n",
       "      <td>#10,000 Onwards</td>\n",
       "      <td>Single Room #22,000  Twin Sharing #12,000  Tri...</td>\n",
       "      <td>Boys#10,000 OnwardsFood IncludedBeds Available...</td>\n",
       "      <td>0.2 Km from Chirec International School 1.4 Km...</td>\n",
       "    </tr>\n",
       "    <tr>\n",
       "      <th>1</th>\n",
       "      <td>1</td>\n",
       "      <td>Sugathi Hometel PG/Paying Guest For Women</td>\n",
       "      <td>in Nanakaramguda</td>\n",
       "      <td>#7,000 Onwards</td>\n",
       "      <td>Single Room #16,000  Twin Sharing #9,000  Trip...</td>\n",
       "      <td>Girls#7,000 OnwardsFood IncludedBeds Available...</td>\n",
       "      <td>0.9 Km from Isb (Indian School Of Business) 1....</td>\n",
       "    </tr>\n",
       "    <tr>\n",
       "      <th>2</th>\n",
       "      <td>2</td>\n",
       "      <td>MS Comforts Women's PG/Paying Guest</td>\n",
       "      <td>in Gachibowli</td>\n",
       "      <td>#8,000 Onwards</td>\n",
       "      <td>Single Room #18,000  Twin Sharing #10,000  Tri...</td>\n",
       "      <td>Girls#8,000 OnwardsFood IncludedBeds Available...</td>\n",
       "      <td>0.3 Km from Asha Kiran 0.6 Km from Dlf Cyberci...</td>\n",
       "    </tr>\n",
       "    <tr>\n",
       "      <th>3</th>\n",
       "      <td>3</td>\n",
       "      <td>SKY LINE CO LIVING PG/Paying Guest</td>\n",
       "      <td>in Gachibowli</td>\n",
       "      <td>#18,000 Onwards</td>\n",
       "      <td>Single Room With AC #30,000  Twin Sharing With...</td>\n",
       "      <td>Coed#18,000 OnwardsFood IncludedBeds Available...</td>\n",
       "      <td>0.9 Km from Isb (Indian School Of Business) 1....</td>\n",
       "    </tr>\n",
       "    <tr>\n",
       "      <th>4</th>\n",
       "      <td>4</td>\n",
       "      <td>Manjula Luxury PG/Paying Guest For MEN'S</td>\n",
       "      <td>in Gowlidoddy</td>\n",
       "      <td>#8,000 Onwards</td>\n",
       "      <td>Single Room #18,000  Twin Sharing #10,000  Tri...</td>\n",
       "      <td>Boys#8,000 OnwardsFood IncludedBeds Available ...</td>\n",
       "      <td>1.6 Km from Isb (Indian School Of Business) 1....</td>\n",
       "    </tr>\n",
       "  </tbody>\n",
       "</table>\n",
       "</div>"
      ],
      "text/plain": [
       "   Unnamed: 0                                      Title          Location  \\\n",
       "0           0              N GRAND MEN'S PG/Paying Guest       in Kondapur   \n",
       "1           1  Sugathi Hometel PG/Paying Guest For Women  in Nanakaramguda   \n",
       "2           2        MS Comforts Women's PG/Paying Guest     in Gachibowli   \n",
       "3           3         SKY LINE CO LIVING PG/Paying Guest     in Gachibowli   \n",
       "4           4   Manjula Luxury PG/Paying Guest For MEN'S     in Gowlidoddy   \n",
       "\n",
       "             Price                                          Room Info  \\\n",
       "0  #10,000 Onwards  Single Room #22,000  Twin Sharing #12,000  Tri...   \n",
       "1   #7,000 Onwards  Single Room #16,000  Twin Sharing #9,000  Trip...   \n",
       "2   #8,000 Onwards  Single Room #18,000  Twin Sharing #10,000  Tri...   \n",
       "3  #18,000 Onwards  Single Room With AC #30,000  Twin Sharing With...   \n",
       "4   #8,000 Onwards  Single Room #18,000  Twin Sharing #10,000  Tri...   \n",
       "\n",
       "                                                Type  \\\n",
       "0  Boys#10,000 OnwardsFood IncludedBeds Available...   \n",
       "1  Girls#7,000 OnwardsFood IncludedBeds Available...   \n",
       "2  Girls#8,000 OnwardsFood IncludedBeds Available...   \n",
       "3  Coed#18,000 OnwardsFood IncludedBeds Available...   \n",
       "4  Boys#8,000 OnwardsFood IncludedBeds Available ...   \n",
       "\n",
       "                                              Places  \n",
       "0  0.2 Km from Chirec International School 1.4 Km...  \n",
       "1  0.9 Km from Isb (Indian School Of Business) 1....  \n",
       "2  0.3 Km from Asha Kiran 0.6 Km from Dlf Cyberci...  \n",
       "3  0.9 Km from Isb (Indian School Of Business) 1....  \n",
       "4  1.6 Km from Isb (Indian School Of Business) 1....  "
      ]
     },
     "execution_count": 3,
     "metadata": {},
     "output_type": "execute_result"
    }
   ],
   "source": [
    "df.head()"
   ]
  },
  {
   "cell_type": "code",
   "execution_count": 59,
   "id": "64f80f98",
   "metadata": {},
   "outputs": [
    {
     "name": "stdout",
     "output_type": "stream",
     "text": [
      "<class 'pandas.core.frame.DataFrame'>\n",
      "RangeIndex: 980 entries, 0 to 979\n",
      "Data columns (total 10 columns):\n",
      " #   Column          Non-Null Count  Dtype  \n",
      "---  ------          --------------  -----  \n",
      " 0   Name            980 non-null    object \n",
      " 1   Location        980 non-null    object \n",
      " 2   Single Room     945 non-null    float64\n",
      " 3   Twin Sharing    980 non-null    int64  \n",
      " 4   Triple Sharing  875 non-null    float64\n",
      " 5   Four Sharing    455 non-null    float64\n",
      " 6   Has AC          980 non-null    object \n",
      " 7   Nearest Metro   980 non-null    object \n",
      " 8   Metro Distance  980 non-null    float64\n",
      " 9   Type            980 non-null    object \n",
      "dtypes: float64(4), int64(1), object(5)\n",
      "memory usage: 76.7+ KB\n"
     ]
    }
   ],
   "source": [
    "df.info()"
   ]
  },
  {
   "cell_type": "markdown",
   "id": "f2896532",
   "metadata": {},
   "source": [
    "## Data Transformation"
   ]
  },
  {
   "cell_type": "code",
   "execution_count": 4,
   "id": "f1cfda64",
   "metadata": {},
   "outputs": [],
   "source": [
    "# Correcting Location Features\n",
    "# Remove the word 'in ' from the Location column\n",
    "df['Location'] = df['Location'].str.replace('in ', '')"
   ]
  },
  {
   "cell_type": "markdown",
   "id": "8ec0627e",
   "metadata": {},
   "source": [
    "### Define a function to extract prices, accounting for optional \"With AC\" text"
   ]
  },
  {
   "cell_type": "code",
   "execution_count": 5,
   "id": "46ef753b",
   "metadata": {},
   "outputs": [],
   "source": [
    "def extract_price(room_info, room_type):\n",
    "    pattern = re.compile(rf'{room_type}(?: With AC)? #([\\d,]+)')\n",
    "    match = pattern.search(room_info)\n",
    "    return int(match.group(1).replace(',', '')) if match else None\n",
    "\n",
    "# Define a function to check for AC in room info\n",
    "def check_for_ac(room_info):\n",
    "    return 'Yes' if 'With AC' in room_info else 'No'\n",
    "\n",
    "# Apply the function to create new columns for prices\n",
    "df['Single Room'] = df['Room Info'].apply(lambda x: extract_price(x, 'Single Room'))\n",
    "df['Twin Sharing'] = df['Room Info'].apply(lambda x: extract_price(x, 'Twin Sharing'))\n",
    "df['Triple Sharing'] = df['Room Info'].apply(lambda x: extract_price(x, 'Triple Sharing'))\n",
    "df['Four Sharing'] = df['Room Info'].apply(lambda x: extract_price(x, 'Four Sharing'))\n",
    "\n",
    "# Apply the function to create a new column for AC information\n",
    "df['Has AC'] = df['Room Info'].apply(check_for_ac)\n",
    "\n"
   ]
  },
  {
   "cell_type": "markdown",
   "id": "1e3887e1",
   "metadata": {},
   "source": [
    "### Function to extract nearest metro and metro distance"
   ]
  },
  {
   "cell_type": "code",
   "execution_count": 6,
   "id": "ec34538f",
   "metadata": {},
   "outputs": [],
   "source": [
    "def extract_metro_info(places_info):\n",
    "    metro_match = re.search(r'(\\d+.\\d+ Km from [\\w\\s]+ Metro Station)', places_info)\n",
    "    if metro_match:\n",
    "        return metro_match.group(1).split(' from ')[1], metro_match.group(1).split(' Km ')[0] + ' Km'\n",
    "    else:\n",
    "        return None, None"
   ]
  },
  {
   "cell_type": "code",
   "execution_count": 7,
   "id": "7a74e055",
   "metadata": {},
   "outputs": [],
   "source": [
    "# Create the 'Nearest Metro' and 'Metro Distance' columns\n",
    "df[['Nearest Metro', 'Metro Distance']] = df['Places'].apply(lambda x: pd.Series(extract_metro_info(x)))"
   ]
  },
  {
   "cell_type": "markdown",
   "id": "432de74e",
   "metadata": {},
   "source": [
    "### Function to filter Type column and create Gender column"
   ]
  },
  {
   "cell_type": "code",
   "execution_count": 8,
   "id": "9a3771b6",
   "metadata": {},
   "outputs": [],
   "source": [
    "\n",
    "def filter_type_and_extract_gender(value):\n",
    "    if 'Boys' in value:\n",
    "        return 'Boys'\n",
    "    elif 'Girls' in value:\n",
    "        return 'Girls'\n",
    "    elif 'Coed' in value:\n",
    "        return 'Coed'\n",
    "    else:\n",
    "        return None"
   ]
  },
  {
   "cell_type": "code",
   "execution_count": 9,
   "id": "b0c275be",
   "metadata": {},
   "outputs": [],
   "source": [
    "# Create the 'Gender' column and filter the Type column\n",
    "df['Gender'] = df['Type'].apply(filter_type_and_extract_gender)\n",
    "df['Type'] = df['Gender']"
   ]
  },
  {
   "cell_type": "code",
   "execution_count": 10,
   "id": "f676cc01",
   "metadata": {},
   "outputs": [],
   "source": [
    "# Drop the specified columns\n",
    "df.drop(columns=['Unnamed: 0', 'Price', 'Type', 'Places','Room Info'], inplace=True)"
   ]
  },
  {
   "cell_type": "markdown",
   "id": "9c97e0b9",
   "metadata": {},
   "source": [
    "# EDA On PG Data Set"
   ]
  },
  {
   "cell_type": "markdown",
   "id": "bd7bac77",
   "metadata": {},
   "source": [
    "## 1 Data Exploration"
   ]
  },
  {
   "cell_type": "code",
   "execution_count": 11,
   "id": "3178b9c5",
   "metadata": {},
   "outputs": [
    {
     "data": {
      "text/html": [
       "<div>\n",
       "<style scoped>\n",
       "    .dataframe tbody tr th:only-of-type {\n",
       "        vertical-align: middle;\n",
       "    }\n",
       "\n",
       "    .dataframe tbody tr th {\n",
       "        vertical-align: top;\n",
       "    }\n",
       "\n",
       "    .dataframe thead th {\n",
       "        text-align: right;\n",
       "    }\n",
       "</style>\n",
       "<table border=\"1\" class=\"dataframe\">\n",
       "  <thead>\n",
       "    <tr style=\"text-align: right;\">\n",
       "      <th></th>\n",
       "      <th>Title</th>\n",
       "      <th>Location</th>\n",
       "      <th>Single Room</th>\n",
       "      <th>Twin Sharing</th>\n",
       "      <th>Triple Sharing</th>\n",
       "      <th>Four Sharing</th>\n",
       "      <th>Has AC</th>\n",
       "      <th>Nearest Metro</th>\n",
       "      <th>Metro Distance</th>\n",
       "      <th>Gender</th>\n",
       "    </tr>\n",
       "  </thead>\n",
       "  <tbody>\n",
       "    <tr>\n",
       "      <th>0</th>\n",
       "      <td>N GRAND MEN'S PG/Paying Guest</td>\n",
       "      <td>Kondapur</td>\n",
       "      <td>22000.0</td>\n",
       "      <td>12000</td>\n",
       "      <td>10000.0</td>\n",
       "      <td>NaN</td>\n",
       "      <td>No</td>\n",
       "      <td>Raidurg Metro Station</td>\n",
       "      <td>3.3 Km</td>\n",
       "      <td>Boys</td>\n",
       "    </tr>\n",
       "    <tr>\n",
       "      <th>1</th>\n",
       "      <td>Sugathi Hometel PG/Paying Guest For Women</td>\n",
       "      <td>Nanakaramguda</td>\n",
       "      <td>16000.0</td>\n",
       "      <td>9000</td>\n",
       "      <td>8500.0</td>\n",
       "      <td>7000.0</td>\n",
       "      <td>No</td>\n",
       "      <td>Raidurg Metro Station</td>\n",
       "      <td>4.8 Km</td>\n",
       "      <td>Girls</td>\n",
       "    </tr>\n",
       "    <tr>\n",
       "      <th>2</th>\n",
       "      <td>MS Comforts Women's PG/Paying Guest</td>\n",
       "      <td>Gachibowli</td>\n",
       "      <td>18000.0</td>\n",
       "      <td>10000</td>\n",
       "      <td>9000.0</td>\n",
       "      <td>8000.0</td>\n",
       "      <td>No</td>\n",
       "      <td>Raidurg Metro Station</td>\n",
       "      <td>3.0 Km</td>\n",
       "      <td>Girls</td>\n",
       "    </tr>\n",
       "  </tbody>\n",
       "</table>\n",
       "</div>"
      ],
      "text/plain": [
       "                                       Title       Location  Single Room  \\\n",
       "0              N GRAND MEN'S PG/Paying Guest       Kondapur      22000.0   \n",
       "1  Sugathi Hometel PG/Paying Guest For Women  Nanakaramguda      16000.0   \n",
       "2        MS Comforts Women's PG/Paying Guest     Gachibowli      18000.0   \n",
       "\n",
       "   Twin Sharing  Triple Sharing  Four Sharing Has AC          Nearest Metro  \\\n",
       "0         12000         10000.0           NaN     No  Raidurg Metro Station   \n",
       "1          9000          8500.0        7000.0     No  Raidurg Metro Station   \n",
       "2         10000          9000.0        8000.0     No  Raidurg Metro Station   \n",
       "\n",
       "  Metro Distance Gender  \n",
       "0         3.3 Km   Boys  \n",
       "1         4.8 Km  Girls  \n",
       "2         3.0 Km  Girls  "
      ]
     },
     "execution_count": 11,
     "metadata": {},
     "output_type": "execute_result"
    }
   ],
   "source": [
    "df.head(3)"
   ]
  },
  {
   "cell_type": "code",
   "execution_count": 12,
   "id": "c3fe2f6b",
   "metadata": {},
   "outputs": [
    {
     "name": "stdout",
     "output_type": "stream",
     "text": [
      "<class 'pandas.core.frame.DataFrame'>\n",
      "RangeIndex: 980 entries, 0 to 979\n",
      "Data columns (total 10 columns):\n",
      " #   Column          Non-Null Count  Dtype  \n",
      "---  ------          --------------  -----  \n",
      " 0   Title           980 non-null    object \n",
      " 1   Location        980 non-null    object \n",
      " 2   Single Room     945 non-null    float64\n",
      " 3   Twin Sharing    980 non-null    int64  \n",
      " 4   Triple Sharing  875 non-null    float64\n",
      " 5   Four Sharing    455 non-null    float64\n",
      " 6   Has AC          980 non-null    object \n",
      " 7   Nearest Metro   980 non-null    object \n",
      " 8   Metro Distance  980 non-null    object \n",
      " 9   Gender          980 non-null    object \n",
      "dtypes: float64(3), int64(1), object(6)\n",
      "memory usage: 76.7+ KB\n"
     ]
    }
   ],
   "source": [
    "df.info()"
   ]
  },
  {
   "cell_type": "code",
   "execution_count": 13,
   "id": "b84157d4",
   "metadata": {},
   "outputs": [
    {
     "data": {
      "text/plain": [
       "Title               0\n",
       "Location            0\n",
       "Single Room        35\n",
       "Twin Sharing        0\n",
       "Triple Sharing    105\n",
       "Four Sharing      525\n",
       "Has AC              0\n",
       "Nearest Metro       0\n",
       "Metro Distance      0\n",
       "Gender              0\n",
       "dtype: int64"
      ]
     },
     "execution_count": 13,
     "metadata": {},
     "output_type": "execute_result"
    }
   ],
   "source": [
    "df.isnull().sum()"
   ]
  },
  {
   "cell_type": "code",
   "execution_count": 14,
   "id": "fa9d92b4",
   "metadata": {},
   "outputs": [
    {
     "data": {
      "text/plain": [
       "Index(['Title', 'Location', 'Single Room', 'Twin Sharing', 'Triple Sharing',\n",
       "       'Four Sharing', 'Has AC', 'Nearest Metro', 'Metro Distance', 'Gender'],\n",
       "      dtype='object')"
      ]
     },
     "execution_count": 14,
     "metadata": {},
     "output_type": "execute_result"
    }
   ],
   "source": [
    "df.columns"
   ]
  },
  {
   "cell_type": "markdown",
   "id": "27720712",
   "metadata": {},
   "source": [
    "## 2. Data Cleaning"
   ]
  },
  {
   "cell_type": "markdown",
   "id": "101df7c5",
   "metadata": {},
   "source": [
    "### a) Missing Value"
   ]
  },
  {
   "cell_type": "code",
   "execution_count": 15,
   "id": "be822ec5",
   "metadata": {},
   "outputs": [
    {
     "data": {
      "text/plain": [
       "Title               0\n",
       "Location            0\n",
       "Single Room        35\n",
       "Twin Sharing        0\n",
       "Triple Sharing    105\n",
       "Four Sharing      525\n",
       "Has AC              0\n",
       "Nearest Metro       0\n",
       "Metro Distance      0\n",
       "Gender              0\n",
       "dtype: int64"
      ]
     },
     "execution_count": 15,
     "metadata": {},
     "output_type": "execute_result"
    }
   ],
   "source": [
    "df.isnull().sum()"
   ]
  },
  {
   "cell_type": "code",
   "execution_count": 16,
   "id": "67cc296f",
   "metadata": {},
   "outputs": [],
   "source": [
    "# TreatMent Using Domain Knowledge\n",
    "df.fillna(\"0\",inplace = True)"
   ]
  },
  {
   "cell_type": "code",
   "execution_count": 17,
   "id": "19f2adfa",
   "metadata": {},
   "outputs": [
    {
     "name": "stdout",
     "output_type": "stream",
     "text": [
      "Title             object\n",
      "Location          object\n",
      "Single Room        int64\n",
      "Twin Sharing       int64\n",
      "Triple Sharing     int64\n",
      "Four Sharing       int64\n",
      "Has AC            object\n",
      "Nearest Metro     object\n",
      "Metro Distance    object\n",
      "Gender            object\n",
      "dtype: object\n",
      "                                         Title       Location  Single Room  \\\n",
      "0                N GRAND MEN'S PG/Paying Guest       Kondapur        22000   \n",
      "1    Sugathi Hometel PG/Paying Guest For Women  Nanakaramguda        16000   \n",
      "2          MS Comforts Women's PG/Paying Guest     Gachibowli        18000   \n",
      "3           SKY LINE CO LIVING PG/Paying Guest     Gachibowli        30000   \n",
      "4     Manjula Luxury PG/Paying Guest For MEN'S     Gowlidoddy        18000   \n",
      "..                                         ...            ...          ...   \n",
      "975     My Spaces Luxury Men's PG/Paying Guest       Kondapur        22000   \n",
      "976      Estay Executive Men's PG/Paying Guest    Hitech City        22000   \n",
      "977     R3 ATMOS LIVE THE SWAG PG/Paying Guest     Hitex Road        28000   \n",
      "978        SVS Co living Stays PG/Paying Guest       Kondapur        18000   \n",
      "979      Sasya Elite Co-Living PG/Paying Guest     Gachibowli        22500   \n",
      "\n",
      "     Twin Sharing  Triple Sharing  Four Sharing Has AC  \\\n",
      "0           12000           10000             0     No   \n",
      "1            9000            8500          7000     No   \n",
      "2           10000            9000          8000     No   \n",
      "3           18000               0             0    Yes   \n",
      "4           10000            8000             0     No   \n",
      "..            ...             ...           ...    ...   \n",
      "975         12000            9500             0     No   \n",
      "976         11500            8500          7500    Yes   \n",
      "977         15000           11000             0    Yes   \n",
      "978         11000            9000             0    Yes   \n",
      "979         12500               0             0    Yes   \n",
      "\n",
      "                 Nearest Metro Metro Distance Gender  \n",
      "0        Raidurg Metro Station         3.3 Km   Boys  \n",
      "1        Raidurg Metro Station         4.8 Km  Girls  \n",
      "2        Raidurg Metro Station         3.0 Km  Girls  \n",
      "3        Raidurg Metro Station         4.0 Km   Coed  \n",
      "4        Raidurg Metro Station         5.5 Km   Boys  \n",
      "..                         ...            ...    ...  \n",
      "975      Miyapur Metro Station         2.6 Km   Boys  \n",
      "976  Hitech City Metro Station         0.4 Km   Boys  \n",
      "977       Hitech Metro Station         1.7 Km   Coed  \n",
      "978      Miyapur Metro Station         2.9 Km   Coed  \n",
      "979      Raidurg Metro Station         2.3 Km   Coed  \n",
      "\n",
      "[980 rows x 10 columns]\n"
     ]
    }
   ],
   "source": [
    "# Convert columns to numeric, coerce errors to NaN, and fill NaN with 0\n",
    "df['Single Room'] = pd.to_numeric(df['Single Room'], errors='coerce').fillna(0).astype(np.int64)\n",
    "df['Triple Sharing'] = pd.to_numeric(df['Triple Sharing'], errors='coerce').fillna(0).astype(np.int64)\n",
    "df['Four Sharing'] = pd.to_numeric(df['Four Sharing'], errors='coerce').fillna(0).astype(np.int64)\n",
    "\n",
    "print(df.dtypes)\n",
    "print(df)"
   ]
  },
  {
   "cell_type": "markdown",
   "id": "5a47de46",
   "metadata": {},
   "source": [
    "### b) Outlier"
   ]
  },
  {
   "cell_type": "code",
   "execution_count": 18,
   "id": "f8b5617b",
   "metadata": {},
   "outputs": [
    {
     "data": {
      "image/png": "[encoded data removed]",
      "text/plain": [
       "<Figure size 500x200 with 1 Axes>"
      ]
     },
     "metadata": {},
     "output_type": "display_data"
    },
    {
     "data": {
      "image/png": "[encoded data removed]",
      "text/plain": [
       "<Figure size 500x200 with 1 Axes>"
      ]
     },
     "metadata": {},
     "output_type": "display_data"
    },
    {
     "data": {
      "image/png": "[encoded data removed]",
      "text/plain": [
       "<Figure size 500x200 with 1 Axes>"
      ]
     },
     "metadata": {},
     "output_type": "display_data"
    },
    {
     "data": {
      "image/png": "[encoded data removed]",
      "text/plain": [
       "<Figure size 500x200 with 1 Axes>"
      ]
     },
     "metadata": {},
     "output_type": "display_data"
    }
   ],
   "source": [
    "# Using Box Plot\n",
    "for col in df.select_dtypes(include=[np.number]).columns:\n",
    "    plt.figure(figsize=(5, 2))\n",
    "    sns.boxplot(y=df[col])\n",
    "    plt.title(f'Box plot of {col}')\n",
    "    plt.show()"
   ]
  },
  {
   "cell_type": "markdown",
   "id": "7395e063",
   "metadata": {},
   "source": [
    "### c). Duplicate\n",
    "**Explanation**\n",
    "**Multiple Listings of the Same PG:**\n",
    "- Reason: A single PG accommodation might be listed multiple times across various platforms or by different users. Each listing could provide unique attributes such as price variations, room availability, or promotional offers.\n",
    "- Example: A PG named \"Comfort Stay\" might be listed with different prices or room types (single room, double sharing, etc.).\n",
    "- Usage: Retaining these duplicates helps in analyzing price trends, room preferences, and availability.\n",
    "\n",
    "**Proximity to Multiple Metro Stations:**\n",
    "- Reason: A PG accommodation might be located near more than one metro station, making it accessible from different routes.\n",
    "- Example: A PG near both \"Central Metro\" and \"Park Street Metro\" could have listings showing proximity to either station.\n",
    "- Usage: Keeping these duplicates is crucial for users who prioritize accessibility and wish to choose accommodations based on their daily commute routes.\n",
    "\n"
   ]
  },
  {
   "cell_type": "markdown",
   "id": "27fad71a",
   "metadata": {},
   "source": [
    "### d). Structural Error"
   ]
  },
  {
   "cell_type": "code",
   "execution_count": 20,
   "id": "46bbfdfa",
   "metadata": {},
   "outputs": [
    {
     "data": {
      "text/html": [
       "<div>\n",
       "<style scoped>\n",
       "    .dataframe tbody tr th:only-of-type {\n",
       "        vertical-align: middle;\n",
       "    }\n",
       "\n",
       "    .dataframe tbody tr th {\n",
       "        vertical-align: top;\n",
       "    }\n",
       "\n",
       "    .dataframe thead th {\n",
       "        text-align: right;\n",
       "    }\n",
       "</style>\n",
       "<table border=\"1\" class=\"dataframe\">\n",
       "  <thead>\n",
       "    <tr style=\"text-align: right;\">\n",
       "      <th></th>\n",
       "      <th>Title</th>\n",
       "      <th>Location</th>\n",
       "      <th>Single Room</th>\n",
       "      <th>Twin Sharing</th>\n",
       "      <th>Triple Sharing</th>\n",
       "      <th>Four Sharing</th>\n",
       "      <th>Has AC</th>\n",
       "      <th>Nearest Metro</th>\n",
       "      <th>Metro Distance</th>\n",
       "      <th>Gender</th>\n",
       "    </tr>\n",
       "  </thead>\n",
       "  <tbody>\n",
       "    <tr>\n",
       "      <th>0</th>\n",
       "      <td>N GRAND MEN'S PG/Paying Guest</td>\n",
       "      <td>Kondapur</td>\n",
       "      <td>22000</td>\n",
       "      <td>12000</td>\n",
       "      <td>10000</td>\n",
       "      <td>0</td>\n",
       "      <td>No</td>\n",
       "      <td>Raidurg Metro Station</td>\n",
       "      <td>3.3 Km</td>\n",
       "      <td>Boys</td>\n",
       "    </tr>\n",
       "    <tr>\n",
       "      <th>1</th>\n",
       "      <td>Sugathi Hometel PG/Paying Guest For Women</td>\n",
       "      <td>Nanakaramguda</td>\n",
       "      <td>16000</td>\n",
       "      <td>9000</td>\n",
       "      <td>8500</td>\n",
       "      <td>7000</td>\n",
       "      <td>No</td>\n",
       "      <td>Raidurg Metro Station</td>\n",
       "      <td>4.8 Km</td>\n",
       "      <td>Girls</td>\n",
       "    </tr>\n",
       "  </tbody>\n",
       "</table>\n",
       "</div>"
      ],
      "text/plain": [
       "                                       Title       Location  Single Room  \\\n",
       "0              N GRAND MEN'S PG/Paying Guest       Kondapur        22000   \n",
       "1  Sugathi Hometel PG/Paying Guest For Women  Nanakaramguda        16000   \n",
       "\n",
       "   Twin Sharing  Triple Sharing  Four Sharing Has AC          Nearest Metro  \\\n",
       "0         12000           10000             0     No  Raidurg Metro Station   \n",
       "1          9000            8500          7000     No  Raidurg Metro Station   \n",
       "\n",
       "  Metro Distance Gender  \n",
       "0         3.3 Km   Boys  \n",
       "1         4.8 Km  Girls  "
      ]
     },
     "execution_count": 20,
     "metadata": {},
     "output_type": "execute_result"
    }
   ],
   "source": [
    "df.head(2)"
   ]
  },
  {
   "cell_type": "code",
   "execution_count": 21,
   "id": "22440d39",
   "metadata": {},
   "outputs": [],
   "source": [
    "df.rename(columns={'Title': 'Name', 'Gender': 'Type'}, inplace=True)"
   ]
  },
  {
   "cell_type": "code",
   "execution_count": 22,
   "id": "574f9d0c",
   "metadata": {},
   "outputs": [
    {
     "data": {
      "text/html": [
       "<div>\n",
       "<style scoped>\n",
       "    .dataframe tbody tr th:only-of-type {\n",
       "        vertical-align: middle;\n",
       "    }\n",
       "\n",
       "    .dataframe tbody tr th {\n",
       "        vertical-align: top;\n",
       "    }\n",
       "\n",
       "    .dataframe thead th {\n",
       "        text-align: right;\n",
       "    }\n",
       "</style>\n",
       "<table border=\"1\" class=\"dataframe\">\n",
       "  <thead>\n",
       "    <tr style=\"text-align: right;\">\n",
       "      <th></th>\n",
       "      <th>Name</th>\n",
       "      <th>Location</th>\n",
       "      <th>Single Room</th>\n",
       "      <th>Twin Sharing</th>\n",
       "      <th>Triple Sharing</th>\n",
       "      <th>Four Sharing</th>\n",
       "      <th>Has AC</th>\n",
       "      <th>Nearest Metro</th>\n",
       "      <th>Metro Distance</th>\n",
       "      <th>Type</th>\n",
       "    </tr>\n",
       "  </thead>\n",
       "  <tbody>\n",
       "    <tr>\n",
       "      <th>0</th>\n",
       "      <td>N GRAND MEN'S PG/Paying Guest</td>\n",
       "      <td>Kondapur</td>\n",
       "      <td>22000</td>\n",
       "      <td>12000</td>\n",
       "      <td>10000</td>\n",
       "      <td>0</td>\n",
       "      <td>No</td>\n",
       "      <td>Raidurg Metro Station</td>\n",
       "      <td>3.3 Km</td>\n",
       "      <td>Boys</td>\n",
       "    </tr>\n",
       "    <tr>\n",
       "      <th>1</th>\n",
       "      <td>Sugathi Hometel PG/Paying Guest For Women</td>\n",
       "      <td>Nanakaramguda</td>\n",
       "      <td>16000</td>\n",
       "      <td>9000</td>\n",
       "      <td>8500</td>\n",
       "      <td>7000</td>\n",
       "      <td>No</td>\n",
       "      <td>Raidurg Metro Station</td>\n",
       "      <td>4.8 Km</td>\n",
       "      <td>Girls</td>\n",
       "    </tr>\n",
       "  </tbody>\n",
       "</table>\n",
       "</div>"
      ],
      "text/plain": [
       "                                        Name       Location  Single Room  \\\n",
       "0              N GRAND MEN'S PG/Paying Guest       Kondapur        22000   \n",
       "1  Sugathi Hometel PG/Paying Guest For Women  Nanakaramguda        16000   \n",
       "\n",
       "   Twin Sharing  Triple Sharing  Four Sharing Has AC          Nearest Metro  \\\n",
       "0         12000           10000             0     No  Raidurg Metro Station   \n",
       "1          9000            8500          7000     No  Raidurg Metro Station   \n",
       "\n",
       "  Metro Distance   Type  \n",
       "0         3.3 Km   Boys  \n",
       "1         4.8 Km  Girls  "
      ]
     },
     "execution_count": 22,
     "metadata": {},
     "output_type": "execute_result"
    }
   ],
   "source": [
    "df.head(2)"
   ]
  },
  {
   "cell_type": "markdown",
   "id": "74a51bd9",
   "metadata": {},
   "source": [
    "### Now Check Per Column "
   ]
  },
  {
   "cell_type": "code",
   "execution_count": 23,
   "id": "b5b70e9f",
   "metadata": {},
   "outputs": [
    {
     "data": {
      "text/plain": [
       "0                  N GRAND MEN'S PG/Paying Guest\n",
       "1      Sugathi Hometel PG/Paying Guest For Women\n",
       "2            MS Comforts Women's PG/Paying Guest\n",
       "3             SKY LINE CO LIVING PG/Paying Guest\n",
       "4       Manjula Luxury PG/Paying Guest For MEN'S\n",
       "                         ...                    \n",
       "975       My Spaces Luxury Men's PG/Paying Guest\n",
       "976        Estay Executive Men's PG/Paying Guest\n",
       "977       R3 ATMOS LIVE THE SWAG PG/Paying Guest\n",
       "978          SVS Co living Stays PG/Paying Guest\n",
       "979        Sasya Elite Co-Living PG/Paying Guest\n",
       "Name: Name, Length: 980, dtype: object"
      ]
     },
     "execution_count": 23,
     "metadata": {},
     "output_type": "execute_result"
    }
   ],
   "source": [
    "df['Name']"
   ]
  },
  {
   "cell_type": "code",
   "execution_count": 24,
   "id": "eddd5604",
   "metadata": {},
   "outputs": [
    {
     "data": {
      "text/plain": [
       "0           Kondapur\n",
       "1      Nanakaramguda\n",
       "2         Gachibowli\n",
       "3         Gachibowli\n",
       "4         Gowlidoddy\n",
       "           ...      \n",
       "975         Kondapur\n",
       "976      Hitech City\n",
       "977       Hitex Road\n",
       "978         Kondapur\n",
       "979       Gachibowli\n",
       "Name: Location, Length: 980, dtype: object"
      ]
     },
     "execution_count": 24,
     "metadata": {},
     "output_type": "execute_result"
    }
   ],
   "source": [
    "df['Location']"
   ]
  },
  {
   "cell_type": "code",
   "execution_count": 25,
   "id": "da060c5e",
   "metadata": {},
   "outputs": [
    {
     "data": {
      "text/plain": [
       "0      22000\n",
       "1      16000\n",
       "2      18000\n",
       "3      30000\n",
       "4      18000\n",
       "       ...  \n",
       "975    22000\n",
       "976    22000\n",
       "977    28000\n",
       "978    18000\n",
       "979    22500\n",
       "Name: Single Room, Length: 980, dtype: int64"
      ]
     },
     "execution_count": 25,
     "metadata": {},
     "output_type": "execute_result"
    }
   ],
   "source": [
    "df['Single Room']"
   ]
  },
  {
   "cell_type": "code",
   "execution_count": 26,
   "id": "eca3aa2f",
   "metadata": {},
   "outputs": [
    {
     "data": {
      "text/plain": [
       "0      12000\n",
       "1       9000\n",
       "2      10000\n",
       "3      18000\n",
       "4      10000\n",
       "       ...  \n",
       "975    12000\n",
       "976    11500\n",
       "977    15000\n",
       "978    11000\n",
       "979    12500\n",
       "Name: Twin Sharing, Length: 980, dtype: int64"
      ]
     },
     "execution_count": 26,
     "metadata": {},
     "output_type": "execute_result"
    }
   ],
   "source": [
    "df['Twin Sharing']"
   ]
  },
  {
   "cell_type": "code",
   "execution_count": 27,
   "id": "38b9b72d",
   "metadata": {},
   "outputs": [
    {
     "data": {
      "text/plain": [
       "0      10000\n",
       "1       8500\n",
       "2       9000\n",
       "3          0\n",
       "4       8000\n",
       "       ...  \n",
       "975     9500\n",
       "976     8500\n",
       "977    11000\n",
       "978     9000\n",
       "979        0\n",
       "Name: Triple Sharing, Length: 980, dtype: int64"
      ]
     },
     "execution_count": 27,
     "metadata": {},
     "output_type": "execute_result"
    }
   ],
   "source": [
    "df['Triple Sharing']"
   ]
  },
  {
   "cell_type": "code",
   "execution_count": 28,
   "id": "ff706581",
   "metadata": {},
   "outputs": [
    {
     "data": {
      "text/plain": [
       "0         0\n",
       "1      7000\n",
       "2      8000\n",
       "3         0\n",
       "4         0\n",
       "       ... \n",
       "975       0\n",
       "976    7500\n",
       "977       0\n",
       "978       0\n",
       "979       0\n",
       "Name: Four Sharing, Length: 980, dtype: int64"
      ]
     },
     "execution_count": 28,
     "metadata": {},
     "output_type": "execute_result"
    }
   ],
   "source": [
    "df['Four Sharing']"
   ]
  },
  {
   "cell_type": "code",
   "execution_count": 29,
   "id": "ff787211",
   "metadata": {},
   "outputs": [
    {
     "data": {
      "text/plain": [
       "0       No\n",
       "1       No\n",
       "2       No\n",
       "3      Yes\n",
       "4       No\n",
       "      ... \n",
       "975     No\n",
       "976    Yes\n",
       "977    Yes\n",
       "978    Yes\n",
       "979    Yes\n",
       "Name: Has AC, Length: 980, dtype: object"
      ]
     },
     "execution_count": 29,
     "metadata": {},
     "output_type": "execute_result"
    }
   ],
   "source": [
    "df['Has AC']"
   ]
  },
  {
   "cell_type": "code",
   "execution_count": 30,
   "id": "34670663",
   "metadata": {},
   "outputs": [
    {
     "data": {
      "text/plain": [
       "0          Raidurg Metro Station\n",
       "1          Raidurg Metro Station\n",
       "2          Raidurg Metro Station\n",
       "3          Raidurg Metro Station\n",
       "4          Raidurg Metro Station\n",
       "                 ...            \n",
       "975        Miyapur Metro Station\n",
       "976    Hitech City Metro Station\n",
       "977         Hitech Metro Station\n",
       "978        Miyapur Metro Station\n",
       "979        Raidurg Metro Station\n",
       "Name: Nearest Metro, Length: 980, dtype: object"
      ]
     },
     "execution_count": 30,
     "metadata": {},
     "output_type": "execute_result"
    }
   ],
   "source": [
    "df['Nearest Metro']"
   ]
  },
  {
   "cell_type": "code",
   "execution_count": 31,
   "id": "32fecb14",
   "metadata": {},
   "outputs": [
    {
     "data": {
      "text/plain": [
       "0      3.3 Km\n",
       "1      4.8 Km\n",
       "2      3.0 Km\n",
       "3      4.0 Km\n",
       "4      5.5 Km\n",
       "        ...  \n",
       "975    2.6 Km\n",
       "976    0.4 Km\n",
       "977    1.7 Km\n",
       "978    2.9 Km\n",
       "979    2.3 Km\n",
       "Name: Metro Distance, Length: 980, dtype: object"
      ]
     },
     "execution_count": 31,
     "metadata": {},
     "output_type": "execute_result"
    }
   ],
   "source": [
    "df['Metro Distance']"
   ]
  },
  {
   "cell_type": "code",
   "execution_count": 32,
   "id": "789baa42",
   "metadata": {},
   "outputs": [
    {
     "data": {
      "text/plain": [
       "0       Boys\n",
       "1      Girls\n",
       "2      Girls\n",
       "3       Coed\n",
       "4       Boys\n",
       "       ...  \n",
       "975     Boys\n",
       "976     Boys\n",
       "977     Coed\n",
       "978     Coed\n",
       "979     Coed\n",
       "Name: Type, Length: 980, dtype: object"
      ]
     },
     "execution_count": 32,
     "metadata": {},
     "output_type": "execute_result"
    }
   ],
   "source": [
    "df['Type']"
   ]
  },
  {
   "cell_type": "code",
   "execution_count": null,
   "id": "f7917a6b",
   "metadata": {},
   "outputs": [],
   "source": [
    "#df.to_csv('Cleaned_Data.csv')"
   ]
  },
  {
   "cell_type": "code",
   "execution_count": 33,
   "id": "42ed2ac7",
   "metadata": {},
   "outputs": [],
   "source": [
    "df = pd.read_csv(r\"C:\\Users\\91771\\Desktop\\Innomatic\\EDA\\Webscraping\\Project\\Cleaned_Data.csv\")"
   ]
  },
  {
   "cell_type": "code",
   "execution_count": 34,
   "id": "ca016c7c",
   "metadata": {},
   "outputs": [
    {
     "data": {
      "text/html": [
       "<div>\n",
       "<style scoped>\n",
       "    .dataframe tbody tr th:only-of-type {\n",
       "        vertical-align: middle;\n",
       "    }\n",
       "\n",
       "    .dataframe tbody tr th {\n",
       "        vertical-align: top;\n",
       "    }\n",
       "\n",
       "    .dataframe thead th {\n",
       "        text-align: right;\n",
       "    }\n",
       "</style>\n",
       "<table border=\"1\" class=\"dataframe\">\n",
       "  <thead>\n",
       "    <tr style=\"text-align: right;\">\n",
       "      <th></th>\n",
       "      <th>Unnamed: 0</th>\n",
       "      <th>Name</th>\n",
       "      <th>Location</th>\n",
       "      <th>Single Room</th>\n",
       "      <th>Twin Sharing</th>\n",
       "      <th>Triple Sharing</th>\n",
       "      <th>Four Sharing</th>\n",
       "      <th>Has AC</th>\n",
       "      <th>Nearest Metro</th>\n",
       "      <th>Metro Distance</th>\n",
       "      <th>Type</th>\n",
       "    </tr>\n",
       "  </thead>\n",
       "  <tbody>\n",
       "    <tr>\n",
       "      <th>0</th>\n",
       "      <td>0</td>\n",
       "      <td>N GRAND MEN'S PG/Paying Guest</td>\n",
       "      <td>Kondapur</td>\n",
       "      <td>22000</td>\n",
       "      <td>12000</td>\n",
       "      <td>10000</td>\n",
       "      <td>Not Available</td>\n",
       "      <td>No</td>\n",
       "      <td>Raidurg Metro Station</td>\n",
       "      <td>3.3</td>\n",
       "      <td>Boys</td>\n",
       "    </tr>\n",
       "    <tr>\n",
       "      <th>1</th>\n",
       "      <td>1</td>\n",
       "      <td>Sugathi Hometel PG/Paying Guest For Women</td>\n",
       "      <td>Nanakaramguda</td>\n",
       "      <td>16000</td>\n",
       "      <td>9000</td>\n",
       "      <td>8500</td>\n",
       "      <td>7000</td>\n",
       "      <td>No</td>\n",
       "      <td>Raidurg Metro Station</td>\n",
       "      <td>4.8</td>\n",
       "      <td>Girls</td>\n",
       "    </tr>\n",
       "  </tbody>\n",
       "</table>\n",
       "</div>"
      ],
      "text/plain": [
       "   Unnamed: 0                                       Name       Location  \\\n",
       "0           0              N GRAND MEN'S PG/Paying Guest       Kondapur   \n",
       "1           1  Sugathi Hometel PG/Paying Guest For Women  Nanakaramguda   \n",
       "\n",
       "  Single Room  Twin Sharing Triple Sharing   Four Sharing Has AC  \\\n",
       "0       22000         12000          10000  Not Available     No   \n",
       "1       16000          9000           8500           7000     No   \n",
       "\n",
       "           Nearest Metro  Metro Distance   Type  \n",
       "0  Raidurg Metro Station             3.3   Boys  \n",
       "1  Raidurg Metro Station             4.8  Girls  "
      ]
     },
     "execution_count": 34,
     "metadata": {},
     "output_type": "execute_result"
    }
   ],
   "source": [
    "df.head(2)"
   ]
  },
  {
   "cell_type": "code",
   "execution_count": 35,
   "id": "fd963bfc",
   "metadata": {},
   "outputs": [],
   "source": [
    "df.drop(columns=['Unnamed: 0'], inplace=True)"
   ]
  },
  {
   "cell_type": "markdown",
   "id": "509cad26",
   "metadata": {},
   "source": [
    "## 3. Data Manipulation"
   ]
  },
  {
   "cell_type": "markdown",
   "id": "5a0a7836",
   "metadata": {},
   "source": [
    "### (1) Filter PGs with Twin Sharing price less than 10,000"
   ]
  },
  {
   "cell_type": "code",
   "execution_count": 36,
   "id": "d737d118",
   "metadata": {},
   "outputs": [
    {
     "data": {
      "text/html": [
       "<div>\n",
       "<style scoped>\n",
       "    .dataframe tbody tr th:only-of-type {\n",
       "        vertical-align: middle;\n",
       "    }\n",
       "\n",
       "    .dataframe tbody tr th {\n",
       "        vertical-align: top;\n",
       "    }\n",
       "\n",
       "    .dataframe thead th {\n",
       "        text-align: right;\n",
       "    }\n",
       "</style>\n",
       "<table border=\"1\" class=\"dataframe\">\n",
       "  <thead>\n",
       "    <tr style=\"text-align: right;\">\n",
       "      <th></th>\n",
       "      <th>Name</th>\n",
       "      <th>Location</th>\n",
       "      <th>Twin Sharing</th>\n",
       "    </tr>\n",
       "  </thead>\n",
       "  <tbody>\n",
       "    <tr>\n",
       "      <th>1</th>\n",
       "      <td>Sugathi Hometel PG/Paying Guest For Women</td>\n",
       "      <td>Nanakaramguda</td>\n",
       "      <td>9000</td>\n",
       "    </tr>\n",
       "    <tr>\n",
       "      <th>10</th>\n",
       "      <td>ASHOK REDDY PG/Paying Guest FOR MEN</td>\n",
       "      <td>Kondapur</td>\n",
       "      <td>9000</td>\n",
       "    </tr>\n",
       "    <tr>\n",
       "      <th>11</th>\n",
       "      <td>SV VIHANG CO LIVING PG/Paying Guest</td>\n",
       "      <td>TNGOS Colony</td>\n",
       "      <td>8000</td>\n",
       "    </tr>\n",
       "    <tr>\n",
       "      <th>29</th>\n",
       "      <td>Sugathi Hometel PG/Paying Guest For Women</td>\n",
       "      <td>Nanakaramguda</td>\n",
       "      <td>9000</td>\n",
       "    </tr>\n",
       "    <tr>\n",
       "      <th>38</th>\n",
       "      <td>ASHOK REDDY PG/Paying Guest FOR MEN</td>\n",
       "      <td>Kondapur</td>\n",
       "      <td>9000</td>\n",
       "    </tr>\n",
       "    <tr>\n",
       "      <th>...</th>\n",
       "      <td>...</td>\n",
       "      <td>...</td>\n",
       "      <td>...</td>\n",
       "    </tr>\n",
       "    <tr>\n",
       "      <th>934</th>\n",
       "      <td>ASHOK REDDY PG/Paying Guest FOR MEN</td>\n",
       "      <td>Kondapur</td>\n",
       "      <td>9000</td>\n",
       "    </tr>\n",
       "    <tr>\n",
       "      <th>935</th>\n",
       "      <td>SV VIHANG CO LIVING PG/Paying Guest</td>\n",
       "      <td>TNGOS Colony</td>\n",
       "      <td>8000</td>\n",
       "    </tr>\n",
       "    <tr>\n",
       "      <th>953</th>\n",
       "      <td>Sugathi Hometel PG/Paying Guest For Women</td>\n",
       "      <td>Nanakaramguda</td>\n",
       "      <td>9000</td>\n",
       "    </tr>\n",
       "    <tr>\n",
       "      <th>962</th>\n",
       "      <td>ASHOK REDDY PG/Paying Guest FOR MEN</td>\n",
       "      <td>Kondapur</td>\n",
       "      <td>9000</td>\n",
       "    </tr>\n",
       "    <tr>\n",
       "      <th>963</th>\n",
       "      <td>SV VIHANG CO LIVING PG/Paying Guest</td>\n",
       "      <td>TNGOS Colony</td>\n",
       "      <td>8000</td>\n",
       "    </tr>\n",
       "  </tbody>\n",
       "</table>\n",
       "<p>105 rows × 3 columns</p>\n",
       "</div>"
      ],
      "text/plain": [
       "                                          Name       Location  Twin Sharing\n",
       "1    Sugathi Hometel PG/Paying Guest For Women  Nanakaramguda          9000\n",
       "10         ASHOK REDDY PG/Paying Guest FOR MEN       Kondapur          9000\n",
       "11         SV VIHANG CO LIVING PG/Paying Guest   TNGOS Colony          8000\n",
       "29   Sugathi Hometel PG/Paying Guest For Women  Nanakaramguda          9000\n",
       "38         ASHOK REDDY PG/Paying Guest FOR MEN       Kondapur          9000\n",
       "..                                         ...            ...           ...\n",
       "934        ASHOK REDDY PG/Paying Guest FOR MEN       Kondapur          9000\n",
       "935        SV VIHANG CO LIVING PG/Paying Guest   TNGOS Colony          8000\n",
       "953  Sugathi Hometel PG/Paying Guest For Women  Nanakaramguda          9000\n",
       "962        ASHOK REDDY PG/Paying Guest FOR MEN       Kondapur          9000\n",
       "963        SV VIHANG CO LIVING PG/Paying Guest   TNGOS Colony          8000\n",
       "\n",
       "[105 rows x 3 columns]"
      ]
     },
     "execution_count": 36,
     "metadata": {},
     "output_type": "execute_result"
    }
   ],
   "source": [
    "pg_twin_sharing_less_10000 = df[df['Twin Sharing'] < 10000]\n",
    "pg_twin_sharing_less_10000[['Name', 'Location', 'Twin Sharing']]"
   ]
  },
  {
   "cell_type": "markdown",
   "id": "e5abc1f4",
   "metadata": {},
   "source": [
    "### (2) Filter PGs that offer Triple Sharing and have AC"
   ]
  },
  {
   "cell_type": "code",
   "execution_count": 37,
   "id": "c5f24a40",
   "metadata": {},
   "outputs": [
    {
     "data": {
      "text/html": [
       "<div>\n",
       "<style scoped>\n",
       "    .dataframe tbody tr th:only-of-type {\n",
       "        vertical-align: middle;\n",
       "    }\n",
       "\n",
       "    .dataframe tbody tr th {\n",
       "        vertical-align: top;\n",
       "    }\n",
       "\n",
       "    .dataframe thead th {\n",
       "        text-align: right;\n",
       "    }\n",
       "</style>\n",
       "<table border=\"1\" class=\"dataframe\">\n",
       "  <thead>\n",
       "    <tr style=\"text-align: right;\">\n",
       "      <th></th>\n",
       "      <th>Name</th>\n",
       "      <th>Location</th>\n",
       "      <th>Triple Sharing</th>\n",
       "      <th>Has AC</th>\n",
       "    </tr>\n",
       "  </thead>\n",
       "  <tbody>\n",
       "    <tr>\n",
       "      <th>5</th>\n",
       "      <td>SVS Co living Stays PG/Paying Guest</td>\n",
       "      <td>Kondapur</td>\n",
       "      <td>10000</td>\n",
       "      <td>Yes</td>\n",
       "    </tr>\n",
       "    <tr>\n",
       "      <th>6</th>\n",
       "      <td>TULASI PREMIUM CO LIVING AND GUEST ROOMS PG/Pa...</td>\n",
       "      <td>Kondapur</td>\n",
       "      <td>12000</td>\n",
       "      <td>Yes</td>\n",
       "    </tr>\n",
       "    <tr>\n",
       "      <th>12</th>\n",
       "      <td>TECHIES ELITE CO-LIVING PG/Paying Guest</td>\n",
       "      <td>Hafeezpet, NH 9</td>\n",
       "      <td>12500</td>\n",
       "      <td>Yes</td>\n",
       "    </tr>\n",
       "    <tr>\n",
       "      <th>16</th>\n",
       "      <td>COZY EXECUTIVE WOMEN'S PG/Paying Guest</td>\n",
       "      <td>Gachibowli</td>\n",
       "      <td>8500</td>\n",
       "      <td>Yes</td>\n",
       "    </tr>\n",
       "    <tr>\n",
       "      <th>19</th>\n",
       "      <td>Le bestow coliving - Bhuvan PG/Paying Guest</td>\n",
       "      <td>Kondapur</td>\n",
       "      <td>12000</td>\n",
       "      <td>Yes</td>\n",
       "    </tr>\n",
       "    <tr>\n",
       "      <th>...</th>\n",
       "      <td>...</td>\n",
       "      <td>...</td>\n",
       "      <td>...</td>\n",
       "      <td>...</td>\n",
       "    </tr>\n",
       "    <tr>\n",
       "      <th>971</th>\n",
       "      <td>Le bestow coliving - Bhuvan PG/Paying Guest</td>\n",
       "      <td>Kondapur</td>\n",
       "      <td>12000</td>\n",
       "      <td>Yes</td>\n",
       "    </tr>\n",
       "    <tr>\n",
       "      <th>973</th>\n",
       "      <td>RRR COMFORT STAY WOMENS separate building MENS...</td>\n",
       "      <td>Gachibowli</td>\n",
       "      <td>8500</td>\n",
       "      <td>Yes</td>\n",
       "    </tr>\n",
       "    <tr>\n",
       "      <th>976</th>\n",
       "      <td>Estay Executive Men's PG/Paying Guest</td>\n",
       "      <td>Hitech City</td>\n",
       "      <td>8500</td>\n",
       "      <td>Yes</td>\n",
       "    </tr>\n",
       "    <tr>\n",
       "      <th>977</th>\n",
       "      <td>R3 ATMOS LIVE THE SWAG PG/Paying Guest</td>\n",
       "      <td>Hitex Road</td>\n",
       "      <td>11000</td>\n",
       "      <td>Yes</td>\n",
       "    </tr>\n",
       "    <tr>\n",
       "      <th>978</th>\n",
       "      <td>SVS Co living Stays PG/Paying Guest</td>\n",
       "      <td>Kondapur</td>\n",
       "      <td>9000</td>\n",
       "      <td>Yes</td>\n",
       "    </tr>\n",
       "  </tbody>\n",
       "</table>\n",
       "<p>315 rows × 4 columns</p>\n",
       "</div>"
      ],
      "text/plain": [
       "                                                  Name         Location  \\\n",
       "5                  SVS Co living Stays PG/Paying Guest         Kondapur   \n",
       "6    TULASI PREMIUM CO LIVING AND GUEST ROOMS PG/Pa...         Kondapur   \n",
       "12             TECHIES ELITE CO-LIVING PG/Paying Guest  Hafeezpet, NH 9   \n",
       "16              COZY EXECUTIVE WOMEN'S PG/Paying Guest       Gachibowli   \n",
       "19         Le bestow coliving - Bhuvan PG/Paying Guest         Kondapur   \n",
       "..                                                 ...              ...   \n",
       "971        Le bestow coliving - Bhuvan PG/Paying Guest         Kondapur   \n",
       "973  RRR COMFORT STAY WOMENS separate building MENS...       Gachibowli   \n",
       "976              Estay Executive Men's PG/Paying Guest      Hitech City   \n",
       "977             R3 ATMOS LIVE THE SWAG PG/Paying Guest       Hitex Road   \n",
       "978                SVS Co living Stays PG/Paying Guest         Kondapur   \n",
       "\n",
       "    Triple Sharing Has AC  \n",
       "5            10000    Yes  \n",
       "6            12000    Yes  \n",
       "12           12500    Yes  \n",
       "16            8500    Yes  \n",
       "19           12000    Yes  \n",
       "..             ...    ...  \n",
       "971          12000    Yes  \n",
       "973           8500    Yes  \n",
       "976           8500    Yes  \n",
       "977          11000    Yes  \n",
       "978           9000    Yes  \n",
       "\n",
       "[315 rows x 4 columns]"
      ]
     },
     "execution_count": 37,
     "metadata": {},
     "output_type": "execute_result"
    }
   ],
   "source": [
    "pg_triple_sharing_ac = df[(df['Triple Sharing'] != 'Not Available') & (df['Has AC'] == 'Yes')]\n",
    "pg_triple_sharing_ac[['Name', 'Location', 'Triple Sharing', 'Has AC']]"
   ]
  },
  {
   "cell_type": "markdown",
   "id": "ede285c5",
   "metadata": {},
   "source": [
    "### (3) Filter PGs that offer Four Sharing and do not have AC"
   ]
  },
  {
   "cell_type": "code",
   "execution_count": 39,
   "id": "dfff7608",
   "metadata": {},
   "outputs": [
    {
     "data": {
      "text/html": [
       "<div>\n",
       "<style scoped>\n",
       "    .dataframe tbody tr th:only-of-type {\n",
       "        vertical-align: middle;\n",
       "    }\n",
       "\n",
       "    .dataframe tbody tr th {\n",
       "        vertical-align: top;\n",
       "    }\n",
       "\n",
       "    .dataframe thead th {\n",
       "        text-align: right;\n",
       "    }\n",
       "</style>\n",
       "<table border=\"1\" class=\"dataframe\">\n",
       "  <thead>\n",
       "    <tr style=\"text-align: right;\">\n",
       "      <th></th>\n",
       "      <th>Name</th>\n",
       "      <th>Location</th>\n",
       "      <th>Four Sharing</th>\n",
       "      <th>Has AC</th>\n",
       "    </tr>\n",
       "  </thead>\n",
       "  <tbody>\n",
       "    <tr>\n",
       "      <th>1</th>\n",
       "      <td>Sugathi Hometel PG/Paying Guest For Women</td>\n",
       "      <td>Nanakaramguda</td>\n",
       "      <td>7000</td>\n",
       "      <td>No</td>\n",
       "    </tr>\n",
       "    <tr>\n",
       "      <th>2</th>\n",
       "      <td>MS Comforts Women's PG/Paying Guest</td>\n",
       "      <td>Gachibowli</td>\n",
       "      <td>8000</td>\n",
       "      <td>No</td>\n",
       "    </tr>\n",
       "    <tr>\n",
       "      <th>7</th>\n",
       "      <td>Unique Women's PG/Paying Guest</td>\n",
       "      <td>Gachibowli</td>\n",
       "      <td>9000</td>\n",
       "      <td>No</td>\n",
       "    </tr>\n",
       "    <tr>\n",
       "      <th>8</th>\n",
       "      <td>GOPI MEN'S PG/Paying Guest</td>\n",
       "      <td>Kondapur</td>\n",
       "      <td>7000</td>\n",
       "      <td>No</td>\n",
       "    </tr>\n",
       "    <tr>\n",
       "      <th>10</th>\n",
       "      <td>ASHOK REDDY PG/Paying Guest FOR MEN</td>\n",
       "      <td>Kondapur</td>\n",
       "      <td>6499</td>\n",
       "      <td>No</td>\n",
       "    </tr>\n",
       "    <tr>\n",
       "      <th>...</th>\n",
       "      <td>...</td>\n",
       "      <td>...</td>\n",
       "      <td>...</td>\n",
       "      <td>...</td>\n",
       "    </tr>\n",
       "    <tr>\n",
       "      <th>962</th>\n",
       "      <td>ASHOK REDDY PG/Paying Guest FOR MEN</td>\n",
       "      <td>Kondapur</td>\n",
       "      <td>6499</td>\n",
       "      <td>No</td>\n",
       "    </tr>\n",
       "    <tr>\n",
       "      <th>966</th>\n",
       "      <td>Eswar Grand Man's and Women's PG/Paying Guest</td>\n",
       "      <td>Anjaiah Nagar Gachibowli</td>\n",
       "      <td>6500</td>\n",
       "      <td>No</td>\n",
       "    </tr>\n",
       "    <tr>\n",
       "      <th>967</th>\n",
       "      <td>SRIKARA MENS PG/Paying Guest AND HOSTEL</td>\n",
       "      <td>Madhapur</td>\n",
       "      <td>7500</td>\n",
       "      <td>No</td>\n",
       "    </tr>\n",
       "    <tr>\n",
       "      <th>970</th>\n",
       "      <td>Laxmi Kalavathi Grand Mens PG/Paying Guest and...</td>\n",
       "      <td>Gachibowli</td>\n",
       "      <td>7000</td>\n",
       "      <td>No</td>\n",
       "    </tr>\n",
       "    <tr>\n",
       "      <th>974</th>\n",
       "      <td>Sri kanaka Durga men's PG/Paying Guest</td>\n",
       "      <td>Madhapur</td>\n",
       "      <td>7000</td>\n",
       "      <td>No</td>\n",
       "    </tr>\n",
       "  </tbody>\n",
       "</table>\n",
       "<p>315 rows × 4 columns</p>\n",
       "</div>"
      ],
      "text/plain": [
       "                                                  Name  \\\n",
       "1            Sugathi Hometel PG/Paying Guest For Women   \n",
       "2                  MS Comforts Women's PG/Paying Guest   \n",
       "7                       Unique Women's PG/Paying Guest   \n",
       "8                           GOPI MEN'S PG/Paying Guest   \n",
       "10                 ASHOK REDDY PG/Paying Guest FOR MEN   \n",
       "..                                                 ...   \n",
       "962                ASHOK REDDY PG/Paying Guest FOR MEN   \n",
       "966      Eswar Grand Man's and Women's PG/Paying Guest   \n",
       "967            SRIKARA MENS PG/Paying Guest AND HOSTEL   \n",
       "970  Laxmi Kalavathi Grand Mens PG/Paying Guest and...   \n",
       "974             Sri kanaka Durga men's PG/Paying Guest   \n",
       "\n",
       "                     Location Four Sharing Has AC  \n",
       "1               Nanakaramguda         7000     No  \n",
       "2                  Gachibowli         8000     No  \n",
       "7                  Gachibowli         9000     No  \n",
       "8                    Kondapur         7000     No  \n",
       "10                   Kondapur         6499     No  \n",
       "..                        ...          ...    ...  \n",
       "962                  Kondapur         6499     No  \n",
       "966  Anjaiah Nagar Gachibowli         6500     No  \n",
       "967                  Madhapur         7500     No  \n",
       "970                Gachibowli         7000     No  \n",
       "974                  Madhapur         7000     No  \n",
       "\n",
       "[315 rows x 4 columns]"
      ]
     },
     "execution_count": 39,
     "metadata": {},
     "output_type": "execute_result"
    }
   ],
   "source": [
    "pg_four_sharing_no_ac = df[(df['Four Sharing'] != 'Not Available') & (df['Has AC'] == 'No')]\n",
    "pg_four_sharing_no_ac[['Name', 'Location', 'Four Sharing', 'Has AC']]"
   ]
  },
  {
   "cell_type": "markdown",
   "id": "c3641090",
   "metadata": {},
   "source": [
    "### (4) Filter PGs with Metro Distance less than 4 km"
   ]
  },
  {
   "cell_type": "code",
   "execution_count": 40,
   "id": "9dff39ce",
   "metadata": {},
   "outputs": [
    {
     "data": {
      "text/html": [
       "<div>\n",
       "<style scoped>\n",
       "    .dataframe tbody tr th:only-of-type {\n",
       "        vertical-align: middle;\n",
       "    }\n",
       "\n",
       "    .dataframe tbody tr th {\n",
       "        vertical-align: top;\n",
       "    }\n",
       "\n",
       "    .dataframe thead th {\n",
       "        text-align: right;\n",
       "    }\n",
       "</style>\n",
       "<table border=\"1\" class=\"dataframe\">\n",
       "  <thead>\n",
       "    <tr style=\"text-align: right;\">\n",
       "      <th></th>\n",
       "      <th>Name</th>\n",
       "      <th>Location</th>\n",
       "      <th>Metro Distance</th>\n",
       "    </tr>\n",
       "  </thead>\n",
       "  <tbody>\n",
       "    <tr>\n",
       "      <th>0</th>\n",
       "      <td>N GRAND MEN'S PG/Paying Guest</td>\n",
       "      <td>Kondapur</td>\n",
       "      <td>3.3</td>\n",
       "    </tr>\n",
       "    <tr>\n",
       "      <th>2</th>\n",
       "      <td>MS Comforts Women's PG/Paying Guest</td>\n",
       "      <td>Gachibowli</td>\n",
       "      <td>3.0</td>\n",
       "    </tr>\n",
       "    <tr>\n",
       "      <th>5</th>\n",
       "      <td>SVS Co living Stays PG/Paying Guest</td>\n",
       "      <td>Kondapur</td>\n",
       "      <td>3.3</td>\n",
       "    </tr>\n",
       "    <tr>\n",
       "      <th>6</th>\n",
       "      <td>TULASI PREMIUM CO LIVING AND GUEST ROOMS PG/Pa...</td>\n",
       "      <td>Kondapur</td>\n",
       "      <td>2.5</td>\n",
       "    </tr>\n",
       "    <tr>\n",
       "      <th>7</th>\n",
       "      <td>Unique Women's PG/Paying Guest</td>\n",
       "      <td>Gachibowli</td>\n",
       "      <td>1.6</td>\n",
       "    </tr>\n",
       "    <tr>\n",
       "      <th>...</th>\n",
       "      <td>...</td>\n",
       "      <td>...</td>\n",
       "      <td>...</td>\n",
       "    </tr>\n",
       "    <tr>\n",
       "      <th>975</th>\n",
       "      <td>My Spaces Luxury Men's PG/Paying Guest</td>\n",
       "      <td>Kondapur</td>\n",
       "      <td>2.6</td>\n",
       "    </tr>\n",
       "    <tr>\n",
       "      <th>976</th>\n",
       "      <td>Estay Executive Men's PG/Paying Guest</td>\n",
       "      <td>Hitech City</td>\n",
       "      <td>0.4</td>\n",
       "    </tr>\n",
       "    <tr>\n",
       "      <th>977</th>\n",
       "      <td>R3 ATMOS LIVE THE SWAG PG/Paying Guest</td>\n",
       "      <td>Hitex Road</td>\n",
       "      <td>1.7</td>\n",
       "    </tr>\n",
       "    <tr>\n",
       "      <th>978</th>\n",
       "      <td>SVS Co living Stays PG/Paying Guest</td>\n",
       "      <td>Kondapur</td>\n",
       "      <td>2.9</td>\n",
       "    </tr>\n",
       "    <tr>\n",
       "      <th>979</th>\n",
       "      <td>Sasya Elite Co-Living PG/Paying Guest</td>\n",
       "      <td>Gachibowli</td>\n",
       "      <td>2.3</td>\n",
       "    </tr>\n",
       "  </tbody>\n",
       "</table>\n",
       "<p>805 rows × 3 columns</p>\n",
       "</div>"
      ],
      "text/plain": [
       "                                                  Name     Location  \\\n",
       "0                        N GRAND MEN'S PG/Paying Guest     Kondapur   \n",
       "2                  MS Comforts Women's PG/Paying Guest   Gachibowli   \n",
       "5                  SVS Co living Stays PG/Paying Guest     Kondapur   \n",
       "6    TULASI PREMIUM CO LIVING AND GUEST ROOMS PG/Pa...     Kondapur   \n",
       "7                       Unique Women's PG/Paying Guest   Gachibowli   \n",
       "..                                                 ...          ...   \n",
       "975             My Spaces Luxury Men's PG/Paying Guest     Kondapur   \n",
       "976              Estay Executive Men's PG/Paying Guest  Hitech City   \n",
       "977             R3 ATMOS LIVE THE SWAG PG/Paying Guest   Hitex Road   \n",
       "978                SVS Co living Stays PG/Paying Guest     Kondapur   \n",
       "979              Sasya Elite Co-Living PG/Paying Guest   Gachibowli   \n",
       "\n",
       "     Metro Distance  \n",
       "0               3.3  \n",
       "2               3.0  \n",
       "5               3.3  \n",
       "6               2.5  \n",
       "7               1.6  \n",
       "..              ...  \n",
       "975             2.6  \n",
       "976             0.4  \n",
       "977             1.7  \n",
       "978             2.9  \n",
       "979             2.3  \n",
       "\n",
       "[805 rows x 3 columns]"
      ]
     },
     "execution_count": 40,
     "metadata": {},
     "output_type": "execute_result"
    }
   ],
   "source": [
    "pg_metro_distance_less_4km = df[df['Metro Distance'] < 4]\n",
    "pg_metro_distance_less_4km[['Name', 'Location', 'Metro Distance']]"
   ]
  },
  {
   "cell_type": "markdown",
   "id": "03ad9b62",
   "metadata": {},
   "source": [
    "### (5) Filter PGs for girls with Twin Sharing price of 9,000 or less"
   ]
  },
  {
   "cell_type": "code",
   "execution_count": 41,
   "id": "842c7556",
   "metadata": {},
   "outputs": [
    {
     "data": {
      "text/html": [
       "<div>\n",
       "<style scoped>\n",
       "    .dataframe tbody tr th:only-of-type {\n",
       "        vertical-align: middle;\n",
       "    }\n",
       "\n",
       "    .dataframe tbody tr th {\n",
       "        vertical-align: top;\n",
       "    }\n",
       "\n",
       "    .dataframe thead th {\n",
       "        text-align: right;\n",
       "    }\n",
       "</style>\n",
       "<table border=\"1\" class=\"dataframe\">\n",
       "  <thead>\n",
       "    <tr style=\"text-align: right;\">\n",
       "      <th></th>\n",
       "      <th>Name</th>\n",
       "      <th>Location</th>\n",
       "      <th>Twin Sharing</th>\n",
       "    </tr>\n",
       "  </thead>\n",
       "  <tbody>\n",
       "    <tr>\n",
       "      <th>1</th>\n",
       "      <td>Sugathi Hometel PG/Paying Guest For Women</td>\n",
       "      <td>Nanakaramguda</td>\n",
       "      <td>9000</td>\n",
       "    </tr>\n",
       "    <tr>\n",
       "      <th>29</th>\n",
       "      <td>Sugathi Hometel PG/Paying Guest For Women</td>\n",
       "      <td>Nanakaramguda</td>\n",
       "      <td>9000</td>\n",
       "    </tr>\n",
       "    <tr>\n",
       "      <th>57</th>\n",
       "      <td>Sugathi Hometel PG/Paying Guest For Women</td>\n",
       "      <td>Nanakaramguda</td>\n",
       "      <td>9000</td>\n",
       "    </tr>\n",
       "    <tr>\n",
       "      <th>85</th>\n",
       "      <td>Sugathi Hometel PG/Paying Guest For Women</td>\n",
       "      <td>Nanakaramguda</td>\n",
       "      <td>9000</td>\n",
       "    </tr>\n",
       "    <tr>\n",
       "      <th>113</th>\n",
       "      <td>Sugathi Hometel PG/Paying Guest For Women</td>\n",
       "      <td>Nanakaramguda</td>\n",
       "      <td>9000</td>\n",
       "    </tr>\n",
       "    <tr>\n",
       "      <th>141</th>\n",
       "      <td>Sugathi Hometel PG/Paying Guest For Women</td>\n",
       "      <td>Nanakaramguda</td>\n",
       "      <td>9000</td>\n",
       "    </tr>\n",
       "    <tr>\n",
       "      <th>169</th>\n",
       "      <td>Sugathi Hometel PG/Paying Guest For Women</td>\n",
       "      <td>Nanakaramguda</td>\n",
       "      <td>9000</td>\n",
       "    </tr>\n",
       "    <tr>\n",
       "      <th>197</th>\n",
       "      <td>Sugathi Hometel PG/Paying Guest For Women</td>\n",
       "      <td>Nanakaramguda</td>\n",
       "      <td>9000</td>\n",
       "    </tr>\n",
       "    <tr>\n",
       "      <th>225</th>\n",
       "      <td>Sugathi Hometel PG/Paying Guest For Women</td>\n",
       "      <td>Nanakaramguda</td>\n",
       "      <td>9000</td>\n",
       "    </tr>\n",
       "    <tr>\n",
       "      <th>253</th>\n",
       "      <td>Sugathi Hometel PG/Paying Guest For Women</td>\n",
       "      <td>Nanakaramguda</td>\n",
       "      <td>9000</td>\n",
       "    </tr>\n",
       "    <tr>\n",
       "      <th>281</th>\n",
       "      <td>Sugathi Hometel PG/Paying Guest For Women</td>\n",
       "      <td>Nanakaramguda</td>\n",
       "      <td>9000</td>\n",
       "    </tr>\n",
       "    <tr>\n",
       "      <th>309</th>\n",
       "      <td>Sugathi Hometel PG/Paying Guest For Women</td>\n",
       "      <td>Nanakaramguda</td>\n",
       "      <td>9000</td>\n",
       "    </tr>\n",
       "    <tr>\n",
       "      <th>337</th>\n",
       "      <td>Sugathi Hometel PG/Paying Guest For Women</td>\n",
       "      <td>Nanakaramguda</td>\n",
       "      <td>9000</td>\n",
       "    </tr>\n",
       "    <tr>\n",
       "      <th>365</th>\n",
       "      <td>Sugathi Hometel PG/Paying Guest For Women</td>\n",
       "      <td>Nanakaramguda</td>\n",
       "      <td>9000</td>\n",
       "    </tr>\n",
       "    <tr>\n",
       "      <th>393</th>\n",
       "      <td>Sugathi Hometel PG/Paying Guest For Women</td>\n",
       "      <td>Nanakaramguda</td>\n",
       "      <td>9000</td>\n",
       "    </tr>\n",
       "    <tr>\n",
       "      <th>421</th>\n",
       "      <td>Sugathi Hometel PG/Paying Guest For Women</td>\n",
       "      <td>Nanakaramguda</td>\n",
       "      <td>9000</td>\n",
       "    </tr>\n",
       "    <tr>\n",
       "      <th>449</th>\n",
       "      <td>Sugathi Hometel PG/Paying Guest For Women</td>\n",
       "      <td>Nanakaramguda</td>\n",
       "      <td>9000</td>\n",
       "    </tr>\n",
       "    <tr>\n",
       "      <th>477</th>\n",
       "      <td>Sugathi Hometel PG/Paying Guest For Women</td>\n",
       "      <td>Nanakaramguda</td>\n",
       "      <td>9000</td>\n",
       "    </tr>\n",
       "    <tr>\n",
       "      <th>505</th>\n",
       "      <td>Sugathi Hometel PG/Paying Guest For Women</td>\n",
       "      <td>Nanakaramguda</td>\n",
       "      <td>9000</td>\n",
       "    </tr>\n",
       "    <tr>\n",
       "      <th>533</th>\n",
       "      <td>Sugathi Hometel PG/Paying Guest For Women</td>\n",
       "      <td>Nanakaramguda</td>\n",
       "      <td>9000</td>\n",
       "    </tr>\n",
       "    <tr>\n",
       "      <th>561</th>\n",
       "      <td>Sugathi Hometel PG/Paying Guest For Women</td>\n",
       "      <td>Nanakaramguda</td>\n",
       "      <td>9000</td>\n",
       "    </tr>\n",
       "    <tr>\n",
       "      <th>589</th>\n",
       "      <td>Sugathi Hometel PG/Paying Guest For Women</td>\n",
       "      <td>Nanakaramguda</td>\n",
       "      <td>9000</td>\n",
       "    </tr>\n",
       "    <tr>\n",
       "      <th>617</th>\n",
       "      <td>Sugathi Hometel PG/Paying Guest For Women</td>\n",
       "      <td>Nanakaramguda</td>\n",
       "      <td>9000</td>\n",
       "    </tr>\n",
       "    <tr>\n",
       "      <th>645</th>\n",
       "      <td>Sugathi Hometel PG/Paying Guest For Women</td>\n",
       "      <td>Nanakaramguda</td>\n",
       "      <td>9000</td>\n",
       "    </tr>\n",
       "    <tr>\n",
       "      <th>673</th>\n",
       "      <td>Sugathi Hometel PG/Paying Guest For Women</td>\n",
       "      <td>Nanakaramguda</td>\n",
       "      <td>9000</td>\n",
       "    </tr>\n",
       "    <tr>\n",
       "      <th>701</th>\n",
       "      <td>Sugathi Hometel PG/Paying Guest For Women</td>\n",
       "      <td>Nanakaramguda</td>\n",
       "      <td>9000</td>\n",
       "    </tr>\n",
       "    <tr>\n",
       "      <th>729</th>\n",
       "      <td>Sugathi Hometel PG/Paying Guest For Women</td>\n",
       "      <td>Nanakaramguda</td>\n",
       "      <td>9000</td>\n",
       "    </tr>\n",
       "    <tr>\n",
       "      <th>757</th>\n",
       "      <td>Sugathi Hometel PG/Paying Guest For Women</td>\n",
       "      <td>Nanakaramguda</td>\n",
       "      <td>9000</td>\n",
       "    </tr>\n",
       "    <tr>\n",
       "      <th>785</th>\n",
       "      <td>Sugathi Hometel PG/Paying Guest For Women</td>\n",
       "      <td>Nanakaramguda</td>\n",
       "      <td>9000</td>\n",
       "    </tr>\n",
       "    <tr>\n",
       "      <th>813</th>\n",
       "      <td>Sugathi Hometel PG/Paying Guest For Women</td>\n",
       "      <td>Nanakaramguda</td>\n",
       "      <td>9000</td>\n",
       "    </tr>\n",
       "    <tr>\n",
       "      <th>841</th>\n",
       "      <td>Sugathi Hometel PG/Paying Guest For Women</td>\n",
       "      <td>Nanakaramguda</td>\n",
       "      <td>9000</td>\n",
       "    </tr>\n",
       "    <tr>\n",
       "      <th>869</th>\n",
       "      <td>Sugathi Hometel PG/Paying Guest For Women</td>\n",
       "      <td>Nanakaramguda</td>\n",
       "      <td>9000</td>\n",
       "    </tr>\n",
       "    <tr>\n",
       "      <th>897</th>\n",
       "      <td>Sugathi Hometel PG/Paying Guest For Women</td>\n",
       "      <td>Nanakaramguda</td>\n",
       "      <td>9000</td>\n",
       "    </tr>\n",
       "    <tr>\n",
       "      <th>925</th>\n",
       "      <td>Sugathi Hometel PG/Paying Guest For Women</td>\n",
       "      <td>Nanakaramguda</td>\n",
       "      <td>9000</td>\n",
       "    </tr>\n",
       "    <tr>\n",
       "      <th>953</th>\n",
       "      <td>Sugathi Hometel PG/Paying Guest For Women</td>\n",
       "      <td>Nanakaramguda</td>\n",
       "      <td>9000</td>\n",
       "    </tr>\n",
       "  </tbody>\n",
       "</table>\n",
       "</div>"
      ],
      "text/plain": [
       "                                          Name       Location  Twin Sharing\n",
       "1    Sugathi Hometel PG/Paying Guest For Women  Nanakaramguda          9000\n",
       "29   Sugathi Hometel PG/Paying Guest For Women  Nanakaramguda          9000\n",
       "57   Sugathi Hometel PG/Paying Guest For Women  Nanakaramguda          9000\n",
       "85   Sugathi Hometel PG/Paying Guest For Women  Nanakaramguda          9000\n",
       "113  Sugathi Hometel PG/Paying Guest For Women  Nanakaramguda          9000\n",
       "141  Sugathi Hometel PG/Paying Guest For Women  Nanakaramguda          9000\n",
       "169  Sugathi Hometel PG/Paying Guest For Women  Nanakaramguda          9000\n",
       "197  Sugathi Hometel PG/Paying Guest For Women  Nanakaramguda          9000\n",
       "225  Sugathi Hometel PG/Paying Guest For Women  Nanakaramguda          9000\n",
       "253  Sugathi Hometel PG/Paying Guest For Women  Nanakaramguda          9000\n",
       "281  Sugathi Hometel PG/Paying Guest For Women  Nanakaramguda          9000\n",
       "309  Sugathi Hometel PG/Paying Guest For Women  Nanakaramguda          9000\n",
       "337  Sugathi Hometel PG/Paying Guest For Women  Nanakaramguda          9000\n",
       "365  Sugathi Hometel PG/Paying Guest For Women  Nanakaramguda          9000\n",
       "393  Sugathi Hometel PG/Paying Guest For Women  Nanakaramguda          9000\n",
       "421  Sugathi Hometel PG/Paying Guest For Women  Nanakaramguda          9000\n",
       "449  Sugathi Hometel PG/Paying Guest For Women  Nanakaramguda          9000\n",
       "477  Sugathi Hometel PG/Paying Guest For Women  Nanakaramguda          9000\n",
       "505  Sugathi Hometel PG/Paying Guest For Women  Nanakaramguda          9000\n",
       "533  Sugathi Hometel PG/Paying Guest For Women  Nanakaramguda          9000\n",
       "561  Sugathi Hometel PG/Paying Guest For Women  Nanakaramguda          9000\n",
       "589  Sugathi Hometel PG/Paying Guest For Women  Nanakaramguda          9000\n",
       "617  Sugathi Hometel PG/Paying Guest For Women  Nanakaramguda          9000\n",
       "645  Sugathi Hometel PG/Paying Guest For Women  Nanakaramguda          9000\n",
       "673  Sugathi Hometel PG/Paying Guest For Women  Nanakaramguda          9000\n",
       "701  Sugathi Hometel PG/Paying Guest For Women  Nanakaramguda          9000\n",
       "729  Sugathi Hometel PG/Paying Guest For Women  Nanakaramguda          9000\n",
       "757  Sugathi Hometel PG/Paying Guest For Women  Nanakaramguda          9000\n",
       "785  Sugathi Hometel PG/Paying Guest For Women  Nanakaramguda          9000\n",
       "813  Sugathi Hometel PG/Paying Guest For Women  Nanakaramguda          9000\n",
       "841  Sugathi Hometel PG/Paying Guest For Women  Nanakaramguda          9000\n",
       "869  Sugathi Hometel PG/Paying Guest For Women  Nanakaramguda          9000\n",
       "897  Sugathi Hometel PG/Paying Guest For Women  Nanakaramguda          9000\n",
       "925  Sugathi Hometel PG/Paying Guest For Women  Nanakaramguda          9000\n",
       "953  Sugathi Hometel PG/Paying Guest For Women  Nanakaramguda          9000"
      ]
     },
     "execution_count": 41,
     "metadata": {},
     "output_type": "execute_result"
    }
   ],
   "source": [
    "pg_girls_twin_sharing_9000_or_less = df[(df['Type'] == 'Girls') & (df['Twin Sharing'] <= 9000)]\n",
    "pg_girls_twin_sharing_9000_or_less[['Name', 'Location', 'Twin Sharing']]"
   ]
  },
  {
   "cell_type": "markdown",
   "id": "772a633e",
   "metadata": {},
   "source": [
    "### (6) Filter PGs in Kondapur"
   ]
  },
  {
   "cell_type": "code",
   "execution_count": 42,
   "id": "1d9e4403",
   "metadata": {},
   "outputs": [
    {
     "data": {
      "text/html": [
       "<div>\n",
       "<style scoped>\n",
       "    .dataframe tbody tr th:only-of-type {\n",
       "        vertical-align: middle;\n",
       "    }\n",
       "\n",
       "    .dataframe tbody tr th {\n",
       "        vertical-align: top;\n",
       "    }\n",
       "\n",
       "    .dataframe thead th {\n",
       "        text-align: right;\n",
       "    }\n",
       "</style>\n",
       "<table border=\"1\" class=\"dataframe\">\n",
       "  <thead>\n",
       "    <tr style=\"text-align: right;\">\n",
       "      <th></th>\n",
       "      <th>Name</th>\n",
       "      <th>Single Room</th>\n",
       "      <th>Twin Sharing</th>\n",
       "      <th>Triple Sharing</th>\n",
       "      <th>Four Sharing</th>\n",
       "    </tr>\n",
       "  </thead>\n",
       "  <tbody>\n",
       "    <tr>\n",
       "      <th>0</th>\n",
       "      <td>N GRAND MEN'S PG/Paying Guest</td>\n",
       "      <td>22000</td>\n",
       "      <td>12000</td>\n",
       "      <td>10000</td>\n",
       "      <td>Not Available</td>\n",
       "    </tr>\n",
       "    <tr>\n",
       "      <th>5</th>\n",
       "      <td>SVS Co living Stays PG/Paying Guest</td>\n",
       "      <td>20000</td>\n",
       "      <td>12000</td>\n",
       "      <td>10000</td>\n",
       "      <td>Not Available</td>\n",
       "    </tr>\n",
       "    <tr>\n",
       "      <th>6</th>\n",
       "      <td>TULASI PREMIUM CO LIVING AND GUEST ROOMS PG/Pa...</td>\n",
       "      <td>26000</td>\n",
       "      <td>16000</td>\n",
       "      <td>12000</td>\n",
       "      <td>Not Available</td>\n",
       "    </tr>\n",
       "    <tr>\n",
       "      <th>8</th>\n",
       "      <td>GOPI MEN'S PG/Paying Guest</td>\n",
       "      <td>20000</td>\n",
       "      <td>10000</td>\n",
       "      <td>8000</td>\n",
       "      <td>7000</td>\n",
       "    </tr>\n",
       "    <tr>\n",
       "      <th>9</th>\n",
       "      <td>SRI RAMA CO-LIVING PG/Paying Guest</td>\n",
       "      <td>19000</td>\n",
       "      <td>11000</td>\n",
       "      <td>8000</td>\n",
       "      <td>Not Available</td>\n",
       "    </tr>\n",
       "    <tr>\n",
       "      <th>...</th>\n",
       "      <td>...</td>\n",
       "      <td>...</td>\n",
       "      <td>...</td>\n",
       "      <td>...</td>\n",
       "      <td>...</td>\n",
       "    </tr>\n",
       "    <tr>\n",
       "      <th>961</th>\n",
       "      <td>SRI RAMA CO-LIVING PG/Paying Guest</td>\n",
       "      <td>19000</td>\n",
       "      <td>11000</td>\n",
       "      <td>8000</td>\n",
       "      <td>Not Available</td>\n",
       "    </tr>\n",
       "    <tr>\n",
       "      <th>962</th>\n",
       "      <td>ASHOK REDDY PG/Paying Guest FOR MEN</td>\n",
       "      <td>Not Available</td>\n",
       "      <td>9000</td>\n",
       "      <td>7499</td>\n",
       "      <td>6499</td>\n",
       "    </tr>\n",
       "    <tr>\n",
       "      <th>971</th>\n",
       "      <td>Le bestow coliving - Bhuvan PG/Paying Guest</td>\n",
       "      <td>20000</td>\n",
       "      <td>15000</td>\n",
       "      <td>12000</td>\n",
       "      <td>Not Available</td>\n",
       "    </tr>\n",
       "    <tr>\n",
       "      <th>975</th>\n",
       "      <td>My Spaces Luxury Men's PG/Paying Guest</td>\n",
       "      <td>22000</td>\n",
       "      <td>12000</td>\n",
       "      <td>9500</td>\n",
       "      <td>Not Available</td>\n",
       "    </tr>\n",
       "    <tr>\n",
       "      <th>978</th>\n",
       "      <td>SVS Co living Stays PG/Paying Guest</td>\n",
       "      <td>18000</td>\n",
       "      <td>11000</td>\n",
       "      <td>9000</td>\n",
       "      <td>Not Available</td>\n",
       "    </tr>\n",
       "  </tbody>\n",
       "</table>\n",
       "<p>315 rows × 5 columns</p>\n",
       "</div>"
      ],
      "text/plain": [
       "                                                  Name    Single Room  \\\n",
       "0                        N GRAND MEN'S PG/Paying Guest          22000   \n",
       "5                  SVS Co living Stays PG/Paying Guest          20000   \n",
       "6    TULASI PREMIUM CO LIVING AND GUEST ROOMS PG/Pa...          26000   \n",
       "8                           GOPI MEN'S PG/Paying Guest          20000   \n",
       "9                   SRI RAMA CO-LIVING PG/Paying Guest          19000   \n",
       "..                                                 ...            ...   \n",
       "961                 SRI RAMA CO-LIVING PG/Paying Guest          19000   \n",
       "962                ASHOK REDDY PG/Paying Guest FOR MEN  Not Available   \n",
       "971        Le bestow coliving - Bhuvan PG/Paying Guest          20000   \n",
       "975             My Spaces Luxury Men's PG/Paying Guest          22000   \n",
       "978                SVS Co living Stays PG/Paying Guest          18000   \n",
       "\n",
       "     Twin Sharing Triple Sharing   Four Sharing  \n",
       "0           12000          10000  Not Available  \n",
       "5           12000          10000  Not Available  \n",
       "6           16000          12000  Not Available  \n",
       "8           10000           8000           7000  \n",
       "9           11000           8000  Not Available  \n",
       "..            ...            ...            ...  \n",
       "961         11000           8000  Not Available  \n",
       "962          9000           7499           6499  \n",
       "971         15000          12000  Not Available  \n",
       "975         12000           9500  Not Available  \n",
       "978         11000           9000  Not Available  \n",
       "\n",
       "[315 rows x 5 columns]"
      ]
     },
     "execution_count": 42,
     "metadata": {},
     "output_type": "execute_result"
    }
   ],
   "source": [
    "pg_kondapur = df[df['Location'] == 'Kondapur']\n",
    "pg_kondapur[['Name', 'Single Room', 'Twin Sharing', 'Triple Sharing', 'Four Sharing']]"
   ]
  },
  {
   "cell_type": "markdown",
   "id": "7d6aee56",
   "metadata": {},
   "source": [
    "### (7) Filter coed PGs with Twin Sharing price less than 15,000"
   ]
  },
  {
   "cell_type": "code",
   "execution_count": 43,
   "id": "f84a6afd",
   "metadata": {},
   "outputs": [
    {
     "data": {
      "text/html": [
       "<div>\n",
       "<style scoped>\n",
       "    .dataframe tbody tr th:only-of-type {\n",
       "        vertical-align: middle;\n",
       "    }\n",
       "\n",
       "    .dataframe tbody tr th {\n",
       "        vertical-align: top;\n",
       "    }\n",
       "\n",
       "    .dataframe thead th {\n",
       "        text-align: right;\n",
       "    }\n",
       "</style>\n",
       "<table border=\"1\" class=\"dataframe\">\n",
       "  <thead>\n",
       "    <tr style=\"text-align: right;\">\n",
       "      <th></th>\n",
       "      <th>Name</th>\n",
       "      <th>Location</th>\n",
       "      <th>Twin Sharing</th>\n",
       "    </tr>\n",
       "  </thead>\n",
       "  <tbody>\n",
       "    <tr>\n",
       "      <th>5</th>\n",
       "      <td>SVS Co living Stays PG/Paying Guest</td>\n",
       "      <td>Kondapur</td>\n",
       "      <td>12000</td>\n",
       "    </tr>\n",
       "    <tr>\n",
       "      <th>9</th>\n",
       "      <td>SRI RAMA CO-LIVING PG/Paying Guest</td>\n",
       "      <td>Kondapur</td>\n",
       "      <td>11000</td>\n",
       "    </tr>\n",
       "    <tr>\n",
       "      <th>11</th>\n",
       "      <td>SV VIHANG CO LIVING PG/Paying Guest</td>\n",
       "      <td>TNGOS Colony</td>\n",
       "      <td>8000</td>\n",
       "    </tr>\n",
       "    <tr>\n",
       "      <th>13</th>\n",
       "      <td>Trinity Co-Living PG/Paying Guest</td>\n",
       "      <td>Madhapur</td>\n",
       "      <td>14000</td>\n",
       "    </tr>\n",
       "    <tr>\n",
       "      <th>14</th>\n",
       "      <td>Eswar Grand Man's and Women's PG/Paying Guest</td>\n",
       "      <td>Anjaiah Nagar Gachibowli</td>\n",
       "      <td>10000</td>\n",
       "    </tr>\n",
       "    <tr>\n",
       "      <th>...</th>\n",
       "      <td>...</td>\n",
       "      <td>...</td>\n",
       "      <td>...</td>\n",
       "    </tr>\n",
       "    <tr>\n",
       "      <th>970</th>\n",
       "      <td>Laxmi Kalavathi Grand Mens PG/Paying Guest and...</td>\n",
       "      <td>Gachibowli</td>\n",
       "      <td>10000</td>\n",
       "    </tr>\n",
       "    <tr>\n",
       "      <th>972</th>\n",
       "      <td>Orion Co-Living PG/Paying Guest</td>\n",
       "      <td>Madhapur</td>\n",
       "      <td>14000</td>\n",
       "    </tr>\n",
       "    <tr>\n",
       "      <th>973</th>\n",
       "      <td>RRR COMFORT STAY WOMENS separate building MENS...</td>\n",
       "      <td>Gachibowli</td>\n",
       "      <td>12500</td>\n",
       "    </tr>\n",
       "    <tr>\n",
       "      <th>978</th>\n",
       "      <td>SVS Co living Stays PG/Paying Guest</td>\n",
       "      <td>Kondapur</td>\n",
       "      <td>11000</td>\n",
       "    </tr>\n",
       "    <tr>\n",
       "      <th>979</th>\n",
       "      <td>Sasya Elite Co-Living PG/Paying Guest</td>\n",
       "      <td>Gachibowli</td>\n",
       "      <td>12500</td>\n",
       "    </tr>\n",
       "  </tbody>\n",
       "</table>\n",
       "<p>385 rows × 3 columns</p>\n",
       "</div>"
      ],
      "text/plain": [
       "                                                  Name  \\\n",
       "5                  SVS Co living Stays PG/Paying Guest   \n",
       "9                   SRI RAMA CO-LIVING PG/Paying Guest   \n",
       "11                 SV VIHANG CO LIVING PG/Paying Guest   \n",
       "13                   Trinity Co-Living PG/Paying Guest   \n",
       "14       Eswar Grand Man's and Women's PG/Paying Guest   \n",
       "..                                                 ...   \n",
       "970  Laxmi Kalavathi Grand Mens PG/Paying Guest and...   \n",
       "972                    Orion Co-Living PG/Paying Guest   \n",
       "973  RRR COMFORT STAY WOMENS separate building MENS...   \n",
       "978                SVS Co living Stays PG/Paying Guest   \n",
       "979              Sasya Elite Co-Living PG/Paying Guest   \n",
       "\n",
       "                     Location  Twin Sharing  \n",
       "5                    Kondapur         12000  \n",
       "9                    Kondapur         11000  \n",
       "11               TNGOS Colony          8000  \n",
       "13                   Madhapur         14000  \n",
       "14   Anjaiah Nagar Gachibowli         10000  \n",
       "..                        ...           ...  \n",
       "970                Gachibowli         10000  \n",
       "972                  Madhapur         14000  \n",
       "973                Gachibowli         12500  \n",
       "978                  Kondapur         11000  \n",
       "979                Gachibowli         12500  \n",
       "\n",
       "[385 rows x 3 columns]"
      ]
     },
     "execution_count": 43,
     "metadata": {},
     "output_type": "execute_result"
    }
   ],
   "source": [
    "pg_coed_twin_sharing_less_15000 = df[(df['Type'] == 'Coed') & (df['Twin Sharing'] < 15000)]\n",
    "pg_coed_twin_sharing_less_15000[['Name', 'Location', 'Twin Sharing']]"
   ]
  },
  {
   "cell_type": "markdown",
   "id": "4b8d1959",
   "metadata": {},
   "source": [
    "### (8) Filter PGs with nearest metro station 'Raidurg Metro Station' and offer Triple Sharing"
   ]
  },
  {
   "cell_type": "code",
   "execution_count": 44,
   "id": "71338f63",
   "metadata": {},
   "outputs": [
    {
     "data": {
      "text/html": [
       "<div>\n",
       "<style scoped>\n",
       "    .dataframe tbody tr th:only-of-type {\n",
       "        vertical-align: middle;\n",
       "    }\n",
       "\n",
       "    .dataframe tbody tr th {\n",
       "        vertical-align: top;\n",
       "    }\n",
       "\n",
       "    .dataframe thead th {\n",
       "        text-align: right;\n",
       "    }\n",
       "</style>\n",
       "<table border=\"1\" class=\"dataframe\">\n",
       "  <thead>\n",
       "    <tr style=\"text-align: right;\">\n",
       "      <th></th>\n",
       "      <th>Name</th>\n",
       "      <th>Location</th>\n",
       "      <th>Triple Sharing</th>\n",
       "    </tr>\n",
       "  </thead>\n",
       "  <tbody>\n",
       "    <tr>\n",
       "      <th>0</th>\n",
       "      <td>N GRAND MEN'S PG/Paying Guest</td>\n",
       "      <td>Kondapur</td>\n",
       "      <td>10000</td>\n",
       "    </tr>\n",
       "    <tr>\n",
       "      <th>1</th>\n",
       "      <td>Sugathi Hometel PG/Paying Guest For Women</td>\n",
       "      <td>Nanakaramguda</td>\n",
       "      <td>8500</td>\n",
       "    </tr>\n",
       "    <tr>\n",
       "      <th>2</th>\n",
       "      <td>MS Comforts Women's PG/Paying Guest</td>\n",
       "      <td>Gachibowli</td>\n",
       "      <td>9000</td>\n",
       "    </tr>\n",
       "    <tr>\n",
       "      <th>4</th>\n",
       "      <td>Manjula Luxury PG/Paying Guest For MEN'S</td>\n",
       "      <td>Gowlidoddy</td>\n",
       "      <td>8000</td>\n",
       "    </tr>\n",
       "    <tr>\n",
       "      <th>7</th>\n",
       "      <td>Unique Women's PG/Paying Guest</td>\n",
       "      <td>Gachibowli</td>\n",
       "      <td>10000</td>\n",
       "    </tr>\n",
       "    <tr>\n",
       "      <th>...</th>\n",
       "      <td>...</td>\n",
       "      <td>...</td>\n",
       "      <td>...</td>\n",
       "    </tr>\n",
       "    <tr>\n",
       "      <th>966</th>\n",
       "      <td>Eswar Grand Man's and Women's PG/Paying Guest</td>\n",
       "      <td>Anjaiah Nagar Gachibowli</td>\n",
       "      <td>8000</td>\n",
       "    </tr>\n",
       "    <tr>\n",
       "      <th>968</th>\n",
       "      <td>COZY EXECUTIVE WOMEN'S PG/Paying Guest</td>\n",
       "      <td>Gachibowli</td>\n",
       "      <td>8500</td>\n",
       "    </tr>\n",
       "    <tr>\n",
       "      <th>969</th>\n",
       "      <td>TechNest Coliving PG/Paying Guest</td>\n",
       "      <td>Hitech City</td>\n",
       "      <td>10000</td>\n",
       "    </tr>\n",
       "    <tr>\n",
       "      <th>970</th>\n",
       "      <td>Laxmi Kalavathi Grand Mens PG/Paying Guest and...</td>\n",
       "      <td>Gachibowli</td>\n",
       "      <td>8000</td>\n",
       "    </tr>\n",
       "    <tr>\n",
       "      <th>973</th>\n",
       "      <td>RRR COMFORT STAY WOMENS separate building MENS...</td>\n",
       "      <td>Gachibowli</td>\n",
       "      <td>8500</td>\n",
       "    </tr>\n",
       "  </tbody>\n",
       "</table>\n",
       "<p>385 rows × 3 columns</p>\n",
       "</div>"
      ],
      "text/plain": [
       "                                                  Name  \\\n",
       "0                        N GRAND MEN'S PG/Paying Guest   \n",
       "1            Sugathi Hometel PG/Paying Guest For Women   \n",
       "2                  MS Comforts Women's PG/Paying Guest   \n",
       "4             Manjula Luxury PG/Paying Guest For MEN'S   \n",
       "7                       Unique Women's PG/Paying Guest   \n",
       "..                                                 ...   \n",
       "966      Eswar Grand Man's and Women's PG/Paying Guest   \n",
       "968             COZY EXECUTIVE WOMEN'S PG/Paying Guest   \n",
       "969                  TechNest Coliving PG/Paying Guest   \n",
       "970  Laxmi Kalavathi Grand Mens PG/Paying Guest and...   \n",
       "973  RRR COMFORT STAY WOMENS separate building MENS...   \n",
       "\n",
       "                     Location Triple Sharing  \n",
       "0                    Kondapur          10000  \n",
       "1               Nanakaramguda           8500  \n",
       "2                  Gachibowli           9000  \n",
       "4                  Gowlidoddy           8000  \n",
       "7                  Gachibowli          10000  \n",
       "..                        ...            ...  \n",
       "966  Anjaiah Nagar Gachibowli           8000  \n",
       "968                Gachibowli           8500  \n",
       "969               Hitech City          10000  \n",
       "970                Gachibowli           8000  \n",
       "973                Gachibowli           8500  \n",
       "\n",
       "[385 rows x 3 columns]"
      ]
     },
     "execution_count": 44,
     "metadata": {},
     "output_type": "execute_result"
    }
   ],
   "source": [
    "pg_raidurg_triple_sharing = df[(df['Nearest Metro'] == 'Raidurg Metro Station') & (df['Triple Sharing'] != 'Not Available')]\n",
    "pg_raidurg_triple_sharing[['Name', 'Location', 'Triple Sharing']]"
   ]
  },
  {
   "cell_type": "markdown",
   "id": "f180a256",
   "metadata": {},
   "source": [
    "### (9) Find the average price for each room type (Single Room, Twin Sharing, Triple Sharing, Four Sharing) in the dataset."
   ]
  },
  {
   "cell_type": "code",
   "execution_count": 45,
   "id": "4020e09d",
   "metadata": {},
   "outputs": [
    {
     "data": {
      "text/plain": [
       "Single Room       20907.407407\n",
       "Twin Sharing      12053.571429\n",
       "Triple Sharing     9299.960000\n",
       "Four Sharing       7538.384615\n",
       "dtype: float64"
      ]
     },
     "execution_count": 45,
     "metadata": {},
     "output_type": "execute_result"
    }
   ],
   "source": [
    "# Ensure room price columns are numeric\n",
    "df['Single Room'] = pd.to_numeric(df['Single Room'], errors='coerce')\n",
    "df['Twin Sharing'] = pd.to_numeric(df['Twin Sharing'], errors='coerce')\n",
    "df['Triple Sharing'] = pd.to_numeric(df['Triple Sharing'], errors='coerce')\n",
    "df['Four Sharing'] = pd.to_numeric(df['Four Sharing'], errors='coerce')\n",
    "\n",
    "# Calculate the average prices for each room type\n",
    "average_prices = df[['Single Room', 'Twin Sharing', 'Triple Sharing', 'Four Sharing']].mean()\n",
    "average_prices"
   ]
  },
  {
   "cell_type": "markdown",
   "id": "8adc136a",
   "metadata": {},
   "source": [
    "## 4. Data Visualization"
   ]
  },
  {
   "cell_type": "markdown",
   "id": "e26cca43",
   "metadata": {},
   "source": [
    "### a) Univariate Analysis "
   ]
  },
  {
   "cell_type": "markdown",
   "id": "4ab6ec5a",
   "metadata": {},
   "source": [
    "1. Find all PGs with a Twin Sharing price less than 10,000."
   ]
  },
  {
   "cell_type": "code",
   "execution_count": 47,
   "id": "31cc4166",
   "metadata": {},
   "outputs": [
    {
     "data": {
      "image/png": "[encoded data removed]",
      "text/plain": [
       "<Figure size 1000x600 with 1 Axes>"
      ]
     },
     "metadata": {},
     "output_type": "display_data"
    }
   ],
   "source": [
    "# Plot distribution of Twin Sharing prices\n",
    "plt.figure(figsize=(10, 6))\n",
    "sns.histplot(df['Twin Sharing'].dropna(), bins=20, kde=True)\n",
    "plt.title('Distribution of Twin Sharing Prices')\n",
    "plt.xlabel('Twin Sharing Price')\n",
    "plt.ylabel('Frequency')\n",
    "plt.show()"
   ]
  },
  {
   "cell_type": "markdown",
   "id": "573ad0ff",
   "metadata": {},
   "source": [
    "2. Find the average price for each room type (Single Room, Twin Sharing, Triple Sharing, Four Sharing) in the dataset."
   ]
  },
  {
   "cell_type": "code",
   "execution_count": 58,
   "id": "ca3e7714",
   "metadata": {},
   "outputs": [
    {
     "data": {
      "image/png": "[encoded data removed]",
      "text/plain": [
       "<Figure size 1000x600 with 1 Axes>"
      ]
     },
     "metadata": {},
     "output_type": "display_data"
    }
   ],
   "source": [
    "# Plot average prices for each room type\n",
    "plt.figure(figsize=(10, 6))\n",
    "sns.barplot(x=average_prices.index, y=average_prices.values)\n",
    "plt.title('Average Prices for Different Room Types')\n",
    "plt.xlabel('Room Type')\n",
    "plt.ylabel('Average Price')\n",
    "plt.show()"
   ]
  },
  {
   "cell_type": "markdown",
   "id": "059b8bf9",
   "metadata": {},
   "source": [
    "3. Find the number of PG By Type"
   ]
  },
  {
   "cell_type": "code",
   "execution_count": 48,
   "id": "e6f57abd",
   "metadata": {},
   "outputs": [
    {
     "data": {
      "image/png": "[encoded data removed]",
      "text/plain": [
       "<Figure size 800x600 with 1 Axes>"
      ]
     },
     "metadata": {},
     "output_type": "display_data"
    }
   ],
   "source": [
    "# Plot count of PGs by type\n",
    "plt.figure(figsize=(8, 6))\n",
    "sns.countplot(x='Type', data=df)\n",
    "plt.title('Number of PGs by Type')\n",
    "plt.xlabel('Type')\n",
    "plt.ylabel('Count')\n",
    "plt.show()"
   ]
  },
  {
   "cell_type": "markdown",
   "id": "7c8f4833",
   "metadata": {},
   "source": [
    "### b) Bi-Variate"
   ]
  },
  {
   "cell_type": "markdown",
   "id": "985553ef",
   "metadata": {},
   "source": [
    "1. Identify PGs that offer Triple Sharing and Four Sharing have AC."
   ]
  },
  {
   "cell_type": "code",
   "execution_count": 49,
   "id": "62ba99fe",
   "metadata": {},
   "outputs": [
    {
     "data": {
      "image/png": "[encoded data removed]",
      "text/plain": [
       "<Figure size 1400x800 with 1 Axes>"
      ]
     },
     "metadata": {},
     "output_type": "display_data"
    }
   ],
   "source": [
    "# Melt the data to plot prices by location\n",
    "melted_data = df.melt(id_vars=['Name', 'Location'], value_vars=[ 'Triple Sharing', 'Four Sharing'],\n",
    "                      var_name='Room Type', value_name='Price')\n",
    "\n",
    "# Plot room type prices by location\n",
    "plt.figure(figsize=(14, 8))\n",
    "sns.boxplot(x='Location', y='Price', hue='Room Type', data=melted_data)\n",
    "plt.title('Room Type Prices by Location')\n",
    "plt.xlabel('Location')\n",
    "plt.ylabel('Price')\n",
    "plt.xticks(rotation=45)\n",
    "plt.legend(title='Room Type')\n",
    "plt.show()"
   ]
  },
  {
   "cell_type": "markdown",
   "id": "d076c8ad",
   "metadata": {},
   "source": [
    "2. Find PGs for girls that offer Twin Sharing at a price of 9,000 or less."
   ]
  },
  {
   "cell_type": "code",
   "execution_count": 51,
   "id": "e42a8d66",
   "metadata": {},
   "outputs": [
    {
     "data": {
      "image/png": "[encoded data removed]",
      "text/plain": [
       "<Figure size 1200x800 with 1 Axes>"
      ]
     },
     "metadata": {},
     "output_type": "display_data"
    }
   ],
   "source": [
    "# Melt the data to plot prices by room type\n",
    "melted_data = df.melt(id_vars=['Name', 'Location'],\n",
    "                      value_vars=['Single Room', 'Twin Sharing', 'Triple Sharing', 'Four Sharing'],\n",
    "                      var_name='Room Type', value_name='Price')\n",
    "\n",
    "# Drop rows with NaN values in the 'Price' column\n",
    "melted_data = melted_data.dropna(subset=['Price'])\n",
    "\n",
    "# Plot room type prices\n",
    "plt.figure(figsize=(12, 8))\n",
    "sns.boxplot(data=melted_data, x='Room Type', y='Price')\n",
    "plt.title('PG Prices for Different Room Types')\n",
    "plt.xlabel('Room Type')\n",
    "plt.ylabel('Price')\n",
    "plt.xticks(rotation=45)\n",
    "plt.show()"
   ]
  },
  {
   "cell_type": "markdown",
   "id": "0955e69d",
   "metadata": {},
   "source": [
    "3. Filter PGs in Kondapur"
   ]
  },
  {
   "cell_type": "code",
   "execution_count": 52,
   "id": "0bf7f302",
   "metadata": {},
   "outputs": [
    {
     "data": {
      "image/png": "[encoded data removed]",
      "text/plain": [
       "<Figure size 1000x600 with 1 Axes>"
      ]
     },
     "metadata": {},
     "output_type": "display_data"
    }
   ],
   "source": [
    "# Visualization for PGs in Kondapur\n",
    "pgs_kondapur = df[df['Location'] == 'Kondapur']\n",
    "plt.figure(figsize=(10, 6))\n",
    "sns.countplot(x='Type', data=pgs_kondapur)\n",
    "plt.title('PGs in Kondapur')\n",
    "plt.show()"
   ]
  },
  {
   "cell_type": "markdown",
   "id": "c397e137",
   "metadata": {},
   "source": [
    "### c) Multi-Variate"
   ]
  },
  {
   "cell_type": "code",
   "execution_count": 57,
   "id": "fb9236f4",
   "metadata": {
    "scrolled": true
   },
   "outputs": [
    {
     "name": "stderr",
     "output_type": "stream",
     "text": [
      "C:\\Users\\91771\\AppData\\Local\\Temp\\ipykernel_4372\\2200690646.py:8: FutureWarning: The default value of numeric_only in DataFrame.corr is deprecated. In a future version, it will default to False. Select only valid columns or specify the value of numeric_only to silence this warning.\n",
      "  correlation_matrix = df.corr()\n"
     ]
    },
    {
     "data": {
      "image/png": "[encoded data removed]",
      "text/plain": [
       "<Figure size 800x300 with 2 Axes>"
      ]
     },
     "metadata": {},
     "output_type": "display_data"
    }
   ],
   "source": [
    "df['Single Room'] = pd.to_numeric(df['Single Room'], errors='coerce')\n",
    "df['Twin Sharing'] = pd.to_numeric(df['Twin Sharing'], errors='coerce')\n",
    "df['Triple Sharing'] = pd.to_numeric(df['Triple Sharing'], errors='coerce')\n",
    "df['Four Sharing'] = pd.to_numeric(df['Four Sharing'], errors='coerce')\n",
    "df['Metro Distance'] = pd.to_numeric(df['Metro Distance'], errors='coerce')\n",
    "\n",
    "# Calculate the correlation matrix\n",
    "correlation_matrix = df.corr()\n",
    "\n",
    "# Set up the matplotlib figure\n",
    "plt.figure(figsize=(8, 3))\n",
    "\n",
    "# Generate a heatmap of the correlation matrix\n",
    "sns.heatmap(correlation_matrix, annot=True, fmt=\".2f\", cmap='coolwarm', vmin=-1, vmax=1, linewidths=0.5, linecolor='black')\n",
    "\n",
    "# Title and display the heatmap\n",
    "plt.title('Correlation Matrix of PG Room Prices and Metro Distance')\n",
    "plt.show()"
   ]
  },
  {
   "cell_type": "code",
   "execution_count": null,
   "id": "17023f31",
   "metadata": {},
   "outputs": [],
   "source": []
  }
 ],
 "metadata": {
  "kernelspec": {
   "display_name": "Python 3 (ipykernel)",
   "language": "python",
   "name": "python3"
  },
  "language_info": {
   "codemirror_mode": {
    "name": "ipython",
    "version": 3
   },
   "file_extension": ".py",
   "mimetype": "text/x-python",
   "name": "python",
   "nbconvert_exporter": "python",
   "pygments_lexer": "ipython3",
   "version": "3.9.13"
  }
 },
 "nbformat": 4,
 "nbformat_minor": 5
}
